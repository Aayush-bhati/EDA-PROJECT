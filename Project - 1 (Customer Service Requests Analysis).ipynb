{
 "cells": [
  {
   "cell_type": "markdown",
   "id": "291793b2",
   "metadata": {},
   "source": [
    "###  Import a 311 NYC service request.\n"
   ]
  },
  {
   "cell_type": "code",
   "execution_count": 1,
   "id": "3b0d1d44",
   "metadata": {},
   "outputs": [],
   "source": [
    "#import the warnings.\n",
    "import warnings\n",
    "warnings.filterwarnings(\"ignore\")"
   ]
  },
  {
   "cell_type": "code",
   "execution_count": 2,
   "id": "ec7369d7",
   "metadata": {},
   "outputs": [],
   "source": [
    "# Importing required libraries\n",
    "\n",
    "import numpy as np\n",
    "import pandas as pd\n",
    "import matplotlib\n",
    "import matplotlib.pyplot as plt\n",
    "import seaborn as sns\n",
    "import datetime\n",
    "import calendar"
   ]
  },
  {
   "cell_type": "code",
   "execution_count": 3,
   "id": "8ea9bb5f",
   "metadata": {},
   "outputs": [],
   "source": [
    "data = pd.read_csv('311_Service_Requests_from_2010_to_Present.csv')\n"
   ]
  },
  {
   "cell_type": "code",
   "execution_count": 4,
   "id": "f4a4b215",
   "metadata": {},
   "outputs": [
    {
     "data": {
      "text/plain": [
       "Index(['Unique Key', 'Created Date', 'Closed Date', 'Agency', 'Agency Name',\n",
       "       'Complaint Type', 'Descriptor', 'Location Type', 'Incident Zip',\n",
       "       'Incident Address', 'Street Name', 'Cross Street 1', 'Cross Street 2',\n",
       "       'Intersection Street 1', 'Intersection Street 2', 'Address Type',\n",
       "       'City', 'Landmark', 'Facility Type', 'Status', 'Due Date',\n",
       "       'Resolution Description', 'Resolution Action Updated Date',\n",
       "       'Community Board', 'Borough', 'X Coordinate (State Plane)',\n",
       "       'Y Coordinate (State Plane)', 'Park Facility Name', 'Park Borough',\n",
       "       'School Name', 'School Number', 'School Region', 'School Code',\n",
       "       'School Phone Number', 'School Address', 'School City', 'School State',\n",
       "       'School Zip', 'School Not Found', 'School or Citywide Complaint',\n",
       "       'Vehicle Type', 'Taxi Company Borough', 'Taxi Pick Up Location',\n",
       "       'Bridge Highway Name', 'Bridge Highway Direction', 'Road Ramp',\n",
       "       'Bridge Highway Segment', 'Garage Lot Name', 'Ferry Direction',\n",
       "       'Ferry Terminal Name', 'Latitude', 'Longitude', 'Location'],\n",
       "      dtype='object')"
      ]
     },
     "execution_count": 4,
     "metadata": {},
     "output_type": "execute_result"
    }
   ],
   "source": [
    "# Looking for features (columns) \n",
    "\n",
    "data.columns"
   ]
  },
  {
   "cell_type": "code",
   "execution_count": 5,
   "id": "40890ff8",
   "metadata": {},
   "outputs": [
    {
     "name": "stdout",
     "output_type": "stream",
     "text": [
      "<class 'pandas.core.frame.DataFrame'>\n",
      "RangeIndex: 364558 entries, 0 to 364557\n",
      "Data columns (total 53 columns):\n",
      " #   Column                          Non-Null Count   Dtype  \n",
      "---  ------                          --------------   -----  \n",
      " 0   Unique Key                      364558 non-null  int64  \n",
      " 1   Created Date                    364558 non-null  object \n",
      " 2   Closed Date                     362177 non-null  object \n",
      " 3   Agency                          364558 non-null  object \n",
      " 4   Agency Name                     364558 non-null  object \n",
      " 5   Complaint Type                  364558 non-null  object \n",
      " 6   Descriptor                      358057 non-null  object \n",
      " 7   Location Type                   364425 non-null  object \n",
      " 8   Incident Zip                    361560 non-null  float64\n",
      " 9   Incident Address                312859 non-null  object \n",
      " 10  Street Name                     312859 non-null  object \n",
      " 11  Cross Street 1                  307370 non-null  object \n",
      " 12  Cross Street 2                  306753 non-null  object \n",
      " 13  Intersection Street 1           51120 non-null   object \n",
      " 14  Intersection Street 2           50512 non-null   object \n",
      " 15  Address Type                    361306 non-null  object \n",
      " 16  City                            361561 non-null  object \n",
      " 17  Landmark                        375 non-null     object \n",
      " 18  Facility Type                   362169 non-null  object \n",
      " 19  Status                          364558 non-null  object \n",
      " 20  Due Date                        364555 non-null  object \n",
      " 21  Resolution Description          364558 non-null  object \n",
      " 22  Resolution Action Updated Date  362156 non-null  object \n",
      " 23  Community Board                 364558 non-null  object \n",
      " 24  Borough                         364558 non-null  object \n",
      " 25  X Coordinate (State Plane)      360528 non-null  float64\n",
      " 26  Y Coordinate (State Plane)      360528 non-null  float64\n",
      " 27  Park Facility Name              364558 non-null  object \n",
      " 28  Park Borough                    364558 non-null  object \n",
      " 29  School Name                     364558 non-null  object \n",
      " 30  School Number                   364558 non-null  object \n",
      " 31  School Region                   364557 non-null  object \n",
      " 32  School Code                     364557 non-null  object \n",
      " 33  School Phone Number             364558 non-null  object \n",
      " 34  School Address                  364558 non-null  object \n",
      " 35  School City                     364558 non-null  object \n",
      " 36  School State                    364558 non-null  object \n",
      " 37  School Zip                      364557 non-null  object \n",
      " 38  School Not Found                364558 non-null  object \n",
      " 39  School or Citywide Complaint    0 non-null       float64\n",
      " 40  Vehicle Type                    0 non-null       float64\n",
      " 41  Taxi Company Borough            0 non-null       float64\n",
      " 42  Taxi Pick Up Location           0 non-null       float64\n",
      " 43  Bridge Highway Name             297 non-null     object \n",
      " 44  Bridge Highway Direction        297 non-null     object \n",
      " 45  Road Ramp                       262 non-null     object \n",
      " 46  Bridge Highway Segment          262 non-null     object \n",
      " 47  Garage Lot Name                 0 non-null       float64\n",
      " 48  Ferry Direction                 1 non-null       object \n",
      " 49  Ferry Terminal Name             2 non-null       object \n",
      " 50  Latitude                        360528 non-null  float64\n",
      " 51  Longitude                       360528 non-null  float64\n",
      " 52  Location                        360528 non-null  object \n",
      "dtypes: float64(10), int64(1), object(42)\n",
      "memory usage: 147.4+ MB\n"
     ]
    }
   ],
   "source": [
    "data.info()"
   ]
  },
  {
   "cell_type": "code",
   "execution_count": 6,
   "id": "8d9aed42",
   "metadata": {},
   "outputs": [
    {
     "data": {
      "text/html": [
       "<div>\n",
       "<style scoped>\n",
       "    .dataframe tbody tr th:only-of-type {\n",
       "        vertical-align: middle;\n",
       "    }\n",
       "\n",
       "    .dataframe tbody tr th {\n",
       "        vertical-align: top;\n",
       "    }\n",
       "\n",
       "    .dataframe thead th {\n",
       "        text-align: right;\n",
       "    }\n",
       "</style>\n",
       "<table border=\"1\" class=\"dataframe\">\n",
       "  <thead>\n",
       "    <tr style=\"text-align: right;\">\n",
       "      <th></th>\n",
       "      <th>Unique Key</th>\n",
       "      <th>Created Date</th>\n",
       "      <th>Closed Date</th>\n",
       "      <th>Agency</th>\n",
       "      <th>Agency Name</th>\n",
       "      <th>Complaint Type</th>\n",
       "      <th>Descriptor</th>\n",
       "      <th>Location Type</th>\n",
       "      <th>Incident Zip</th>\n",
       "      <th>Incident Address</th>\n",
       "      <th>...</th>\n",
       "      <th>Bridge Highway Name</th>\n",
       "      <th>Bridge Highway Direction</th>\n",
       "      <th>Road Ramp</th>\n",
       "      <th>Bridge Highway Segment</th>\n",
       "      <th>Garage Lot Name</th>\n",
       "      <th>Ferry Direction</th>\n",
       "      <th>Ferry Terminal Name</th>\n",
       "      <th>Latitude</th>\n",
       "      <th>Longitude</th>\n",
       "      <th>Location</th>\n",
       "    </tr>\n",
       "  </thead>\n",
       "  <tbody>\n",
       "    <tr>\n",
       "      <th>0</th>\n",
       "      <td>32310363</td>\n",
       "      <td>12/31/2015 11:59:45 PM</td>\n",
       "      <td>01/01/2016 12:55:15 AM</td>\n",
       "      <td>NYPD</td>\n",
       "      <td>New York City Police Department</td>\n",
       "      <td>Noise - Street/Sidewalk</td>\n",
       "      <td>Loud Music/Party</td>\n",
       "      <td>Street/Sidewalk</td>\n",
       "      <td>10034.0</td>\n",
       "      <td>71 VERMILYEA AVENUE</td>\n",
       "      <td>...</td>\n",
       "      <td>NaN</td>\n",
       "      <td>NaN</td>\n",
       "      <td>NaN</td>\n",
       "      <td>NaN</td>\n",
       "      <td>NaN</td>\n",
       "      <td>NaN</td>\n",
       "      <td>NaN</td>\n",
       "      <td>40.865682</td>\n",
       "      <td>-73.923501</td>\n",
       "      <td>(40.86568153633767, -73.92350095571744)</td>\n",
       "    </tr>\n",
       "    <tr>\n",
       "      <th>1</th>\n",
       "      <td>32309934</td>\n",
       "      <td>12/31/2015 11:59:44 PM</td>\n",
       "      <td>01/01/2016 01:26:57 AM</td>\n",
       "      <td>NYPD</td>\n",
       "      <td>New York City Police Department</td>\n",
       "      <td>Blocked Driveway</td>\n",
       "      <td>No Access</td>\n",
       "      <td>Street/Sidewalk</td>\n",
       "      <td>11105.0</td>\n",
       "      <td>27-07 23 AVENUE</td>\n",
       "      <td>...</td>\n",
       "      <td>NaN</td>\n",
       "      <td>NaN</td>\n",
       "      <td>NaN</td>\n",
       "      <td>NaN</td>\n",
       "      <td>NaN</td>\n",
       "      <td>NaN</td>\n",
       "      <td>NaN</td>\n",
       "      <td>40.775945</td>\n",
       "      <td>-73.915094</td>\n",
       "      <td>(40.775945312321085, -73.91509393898605)</td>\n",
       "    </tr>\n",
       "    <tr>\n",
       "      <th>2</th>\n",
       "      <td>32309159</td>\n",
       "      <td>12/31/2015 11:59:29 PM</td>\n",
       "      <td>01/01/2016 04:51:03 AM</td>\n",
       "      <td>NYPD</td>\n",
       "      <td>New York City Police Department</td>\n",
       "      <td>Blocked Driveway</td>\n",
       "      <td>No Access</td>\n",
       "      <td>Street/Sidewalk</td>\n",
       "      <td>10458.0</td>\n",
       "      <td>2897 VALENTINE AVENUE</td>\n",
       "      <td>...</td>\n",
       "      <td>NaN</td>\n",
       "      <td>NaN</td>\n",
       "      <td>NaN</td>\n",
       "      <td>NaN</td>\n",
       "      <td>NaN</td>\n",
       "      <td>NaN</td>\n",
       "      <td>NaN</td>\n",
       "      <td>40.870325</td>\n",
       "      <td>-73.888525</td>\n",
       "      <td>(40.870324522111424, -73.88852464418646)</td>\n",
       "    </tr>\n",
       "    <tr>\n",
       "      <th>3</th>\n",
       "      <td>32305098</td>\n",
       "      <td>12/31/2015 11:57:46 PM</td>\n",
       "      <td>01/01/2016 07:43:13 AM</td>\n",
       "      <td>NYPD</td>\n",
       "      <td>New York City Police Department</td>\n",
       "      <td>Illegal Parking</td>\n",
       "      <td>Commercial Overnight Parking</td>\n",
       "      <td>Street/Sidewalk</td>\n",
       "      <td>10461.0</td>\n",
       "      <td>2940 BAISLEY AVENUE</td>\n",
       "      <td>...</td>\n",
       "      <td>NaN</td>\n",
       "      <td>NaN</td>\n",
       "      <td>NaN</td>\n",
       "      <td>NaN</td>\n",
       "      <td>NaN</td>\n",
       "      <td>NaN</td>\n",
       "      <td>NaN</td>\n",
       "      <td>40.835994</td>\n",
       "      <td>-73.828379</td>\n",
       "      <td>(40.83599404683083, -73.82837939584206)</td>\n",
       "    </tr>\n",
       "    <tr>\n",
       "      <th>4</th>\n",
       "      <td>32306529</td>\n",
       "      <td>12/31/2015 11:56:58 PM</td>\n",
       "      <td>01/01/2016 03:24:42 AM</td>\n",
       "      <td>NYPD</td>\n",
       "      <td>New York City Police Department</td>\n",
       "      <td>Illegal Parking</td>\n",
       "      <td>Blocked Sidewalk</td>\n",
       "      <td>Street/Sidewalk</td>\n",
       "      <td>11373.0</td>\n",
       "      <td>87-14 57 ROAD</td>\n",
       "      <td>...</td>\n",
       "      <td>NaN</td>\n",
       "      <td>NaN</td>\n",
       "      <td>NaN</td>\n",
       "      <td>NaN</td>\n",
       "      <td>NaN</td>\n",
       "      <td>NaN</td>\n",
       "      <td>NaN</td>\n",
       "      <td>40.733060</td>\n",
       "      <td>-73.874170</td>\n",
       "      <td>(40.733059618956815, -73.87416975810375)</td>\n",
       "    </tr>\n",
       "  </tbody>\n",
       "</table>\n",
       "<p>5 rows × 53 columns</p>\n",
       "</div>"
      ],
      "text/plain": [
       "   Unique Key            Created Date             Closed Date Agency  \\\n",
       "0    32310363  12/31/2015 11:59:45 PM  01/01/2016 12:55:15 AM   NYPD   \n",
       "1    32309934  12/31/2015 11:59:44 PM  01/01/2016 01:26:57 AM   NYPD   \n",
       "2    32309159  12/31/2015 11:59:29 PM  01/01/2016 04:51:03 AM   NYPD   \n",
       "3    32305098  12/31/2015 11:57:46 PM  01/01/2016 07:43:13 AM   NYPD   \n",
       "4    32306529  12/31/2015 11:56:58 PM  01/01/2016 03:24:42 AM   NYPD   \n",
       "\n",
       "                       Agency Name           Complaint Type  \\\n",
       "0  New York City Police Department  Noise - Street/Sidewalk   \n",
       "1  New York City Police Department         Blocked Driveway   \n",
       "2  New York City Police Department         Blocked Driveway   \n",
       "3  New York City Police Department          Illegal Parking   \n",
       "4  New York City Police Department          Illegal Parking   \n",
       "\n",
       "                     Descriptor    Location Type  Incident Zip  \\\n",
       "0              Loud Music/Party  Street/Sidewalk       10034.0   \n",
       "1                     No Access  Street/Sidewalk       11105.0   \n",
       "2                     No Access  Street/Sidewalk       10458.0   \n",
       "3  Commercial Overnight Parking  Street/Sidewalk       10461.0   \n",
       "4              Blocked Sidewalk  Street/Sidewalk       11373.0   \n",
       "\n",
       "        Incident Address  ... Bridge Highway Name Bridge Highway Direction  \\\n",
       "0    71 VERMILYEA AVENUE  ...                 NaN                      NaN   \n",
       "1        27-07 23 AVENUE  ...                 NaN                      NaN   \n",
       "2  2897 VALENTINE AVENUE  ...                 NaN                      NaN   \n",
       "3    2940 BAISLEY AVENUE  ...                 NaN                      NaN   \n",
       "4          87-14 57 ROAD  ...                 NaN                      NaN   \n",
       "\n",
       "  Road Ramp Bridge Highway Segment Garage Lot Name Ferry Direction  \\\n",
       "0       NaN                    NaN             NaN             NaN   \n",
       "1       NaN                    NaN             NaN             NaN   \n",
       "2       NaN                    NaN             NaN             NaN   \n",
       "3       NaN                    NaN             NaN             NaN   \n",
       "4       NaN                    NaN             NaN             NaN   \n",
       "\n",
       "  Ferry Terminal Name   Latitude  Longitude  \\\n",
       "0                 NaN  40.865682 -73.923501   \n",
       "1                 NaN  40.775945 -73.915094   \n",
       "2                 NaN  40.870325 -73.888525   \n",
       "3                 NaN  40.835994 -73.828379   \n",
       "4                 NaN  40.733060 -73.874170   \n",
       "\n",
       "                                   Location  \n",
       "0   (40.86568153633767, -73.92350095571744)  \n",
       "1  (40.775945312321085, -73.91509393898605)  \n",
       "2  (40.870324522111424, -73.88852464418646)  \n",
       "3   (40.83599404683083, -73.82837939584206)  \n",
       "4  (40.733059618956815, -73.87416975810375)  \n",
       "\n",
       "[5 rows x 53 columns]"
      ]
     },
     "execution_count": 6,
     "metadata": {},
     "output_type": "execute_result"
    }
   ],
   "source": [
    "data.head()"
   ]
  },
  {
   "cell_type": "markdown",
   "id": "3a202032",
   "metadata": {},
   "source": [
    "Now, we need to understand each feature one by one. If the feature contains all Nun or all same entries or maybe, all different entries, then we will omit such columns, since these columns do not contain information that is statistically meaningful or can give us any trend.\n",
    "\n",
    "For instance, the 'Unique Key' column has a different number for each entry whereas columns like 'Agency Name', 'Complaint Type' have a different group of lists from which we can predict which kind of complaint occurs more often (e.g frequency distribution). So we can improve our future prediction and even can take some precautions (if permissible)."
   ]
  },
  {
   "cell_type": "code",
   "execution_count": 7,
   "id": "57ec957b",
   "metadata": {},
   "outputs": [
    {
     "data": {
      "text/plain": [
       "Index(['Created Date', 'Closed Date', 'Agency', 'Agency Name',\n",
       "       'Complaint Type', 'Descriptor', 'Location Type', 'Incident Zip',\n",
       "       'Incident Address', 'Street Name', 'Cross Street 1', 'Cross Street 2',\n",
       "       'Intersection Street 1', 'Intersection Street 2', 'Address Type',\n",
       "       'City', 'Landmark', 'Facility Type', 'Status', 'Due Date',\n",
       "       'Resolution Description', 'Resolution Action Updated Date',\n",
       "       'Community Board', 'Borough', 'X Coordinate (State Plane)',\n",
       "       'Y Coordinate (State Plane)', 'Park Facility Name', 'Park Borough',\n",
       "       'School Name', 'School Number', 'School Region', 'School Code',\n",
       "       'School Phone Number', 'School Address', 'School City', 'School State',\n",
       "       'School Zip', 'School Not Found', 'School or Citywide Complaint',\n",
       "       'Vehicle Type', 'Taxi Company Borough', 'Taxi Pick Up Location',\n",
       "       'Bridge Highway Name', 'Bridge Highway Direction', 'Road Ramp',\n",
       "       'Bridge Highway Segment', 'Garage Lot Name', 'Ferry Direction',\n",
       "       'Ferry Terminal Name', 'Latitude', 'Longitude', 'Location'],\n",
       "      dtype='object')"
      ]
     },
     "execution_count": 7,
     "metadata": {},
     "output_type": "execute_result"
    }
   ],
   "source": [
    "# Dropping columns and saving it in another data frame\n",
    "\n",
    "data_mod = data.drop(columns=['Unique Key'],axis=1)  # axis =1 means when we are dealing with the colums(working horizontally)\n",
    "                                                     # axis =0 means when we are dealing with the rows (working vertically)\n",
    "data_mod.columns"
   ]
  },
  {
   "cell_type": "code",
   "execution_count": 8,
   "id": "f625053e",
   "metadata": {},
   "outputs": [
    {
     "data": {
      "text/plain": [
       "array(['NYPD'], dtype=object)"
      ]
     },
     "execution_count": 8,
     "metadata": {},
     "output_type": "execute_result"
    }
   ],
   "source": [
    "# To evaluate distinguishable outcomes belong to this feature\n",
    "\n",
    "pd.unique(data['Agency'])"
   ]
  },
  {
   "cell_type": "code",
   "execution_count": 9,
   "id": "28f9d397",
   "metadata": {},
   "outputs": [
    {
     "data": {
      "text/plain": [
       "NYPD    364558\n",
       "Name: Agency, dtype: int64"
      ]
     },
     "execution_count": 9,
     "metadata": {},
     "output_type": "execute_result"
    }
   ],
   "source": [
    "# Frequency of the different outcomes\n",
    "\n",
    "data['Agency'].value_counts()"
   ]
  },
  {
   "cell_type": "code",
   "execution_count": 10,
   "id": "e3236acc",
   "metadata": {},
   "outputs": [],
   "source": [
    "data_mod = data_mod.drop(columns=['Agency'],axis=1)\n"
   ]
  },
  {
   "cell_type": "code",
   "execution_count": 11,
   "id": "5f616393",
   "metadata": {},
   "outputs": [
    {
     "data": {
      "text/plain": [
       "array(['New York City Police Department', 'NYPD',\n",
       "       'Internal Affairs Bureau'], dtype=object)"
      ]
     },
     "execution_count": 11,
     "metadata": {},
     "output_type": "execute_result"
    }
   ],
   "source": [
    "pd.unique(data['Agency Name'])"
   ]
  },
  {
   "cell_type": "code",
   "execution_count": 12,
   "id": "9825cf3f",
   "metadata": {},
   "outputs": [
    {
     "data": {
      "text/plain": [
       "New York City Police Department    364548\n",
       "Internal Affairs Bureau                 8\n",
       "NYPD                                    2\n",
       "Name: Agency Name, dtype: int64"
      ]
     },
     "execution_count": 12,
     "metadata": {},
     "output_type": "execute_result"
    }
   ],
   "source": [
    "data['Agency Name'].value_counts()"
   ]
  },
  {
   "cell_type": "code",
   "execution_count": 13,
   "id": "ff8e89e1",
   "metadata": {
    "scrolled": true
   },
   "outputs": [
    {
     "data": {
      "text/plain": [
       "Blocked Driveway             100881\n",
       "Illegal Parking               92679\n",
       "Noise - Street/Sidewalk       51692\n",
       "Noise - Commercial            44109\n",
       "Derelict Vehicle              21661\n",
       "Noise - Vehicle               19352\n",
       "Animal Abuse                  10541\n",
       "Traffic                        5198\n",
       "Homeless Encampment            4879\n",
       "Vending                        4192\n",
       "Noise - Park                   4109\n",
       "Drinking                       1409\n",
       "Noise - House of Worship       1070\n",
       "Posting Advertisement           681\n",
       "Urinating in Public             641\n",
       "Bike/Roller/Skate Chronic       478\n",
       "Panhandling                     327\n",
       "Disorderly Youth                315\n",
       "Illegal Fireworks               172\n",
       "Graffiti                        157\n",
       "Agency Issues                     8\n",
       "Squeegee                          4\n",
       "Ferry Complaint                   2\n",
       "Animal in a Park                  1\n",
       "Name: Complaint Type, dtype: int64"
      ]
     },
     "execution_count": 13,
     "metadata": {},
     "output_type": "execute_result"
    }
   ],
   "source": [
    "data['Complaint Type'].value_counts()"
   ]
  },
  {
   "cell_type": "code",
   "execution_count": 14,
   "id": "e180b4d4",
   "metadata": {},
   "outputs": [
    {
     "data": {
      "text/plain": [
       "Blocked Driveway           100881\n",
       "Illegal Parking             92679\n",
       "Noise - Street/Sidewalk     51692\n",
       "Noise - Commercial          44109\n",
       "Derelict Vehicle            21661\n",
       "Name: Complaint Type, dtype: int64"
      ]
     },
     "execution_count": 14,
     "metadata": {},
     "output_type": "execute_result"
    }
   ],
   "source": [
    "data[\"Complaint Type\"].value_counts().head()"
   ]
  },
  {
   "cell_type": "code",
   "execution_count": 15,
   "id": "a60ef416",
   "metadata": {},
   "outputs": [
    {
     "data": {
      "text/plain": [
       "No Access                         75888\n",
       "Loud Music/Party                  69708\n",
       "Posted Parking Sign Violation     27200\n",
       "Partial Access                    24993\n",
       "Loud Talking                      23810\n",
       "With License Plate                21661\n",
       "Blocked Hydrant                   19989\n",
       "Commercial Overnight Parking      14997\n",
       "Blocked Sidewalk                  13860\n",
       "Car/Truck Music                   11940\n",
       "Double Parked Blocking Traffic     7164\n",
       "Engine Idling                      5323\n",
       "Double Parked Blocking Vehicle     5167\n",
       "Neglected                          5131\n",
       "Banging/Pounding                   4959\n",
       "Car/Truck Horn                     4478\n",
       "Congestion/Gridlock                3237\n",
       "Other (complaint details)          2489\n",
       "In Prohibited Area                 2206\n",
       "Overnight Commercial Storage       2102\n",
       "Unlicensed                         1986\n",
       "Unauthorized Bus Layover           1618\n",
       "Truck Route Violation              1125\n",
       "Tortured                           1041\n",
       "In Public                           971\n",
       "No Shelter                          886\n",
       "Chained                             695\n",
       "Vehicle                             602\n",
       "Detached Trailer                    582\n",
       "Underage - Licensed Est             345\n",
       "Chronic Stoplight Violation         339\n",
       "Chronic Speeding                    306\n",
       "In Car                              299\n",
       "Playing in Unsuitable Place         272\n",
       "Drag Racing                         191\n",
       "Police Report Requested             122\n",
       "Loud Television                     114\n",
       "After Hours - Licensed Est           93\n",
       "Building                             79\n",
       "Nuisance/Truant                      43\n",
       "Police Report Not Requested          35\n",
       "Language Access Complaint             8\n",
       "Homeless Issue                        1\n",
       "Disruptive Passenger                  1\n",
       "Animal Waste                          1\n",
       "Name: Descriptor, dtype: int64"
      ]
     },
     "execution_count": 15,
     "metadata": {},
     "output_type": "execute_result"
    }
   ],
   "source": [
    "data.Descriptor.value_counts()"
   ]
  },
  {
   "cell_type": "code",
   "execution_count": 16,
   "id": "34e25250",
   "metadata": {},
   "outputs": [
    {
     "data": {
      "text/plain": [
       "No Access                        75888\n",
       "Loud Music/Party                 69708\n",
       "Posted Parking Sign Violation    27200\n",
       "Partial Access                   24993\n",
       "Loud Talking                     23810\n",
       "Name: Descriptor, dtype: int64"
      ]
     },
     "execution_count": 16,
     "metadata": {},
     "output_type": "execute_result"
    }
   ],
   "source": [
    "data.Descriptor.value_counts().head(5)"
   ]
  },
  {
   "cell_type": "code",
   "execution_count": 17,
   "id": "45f4c3f3",
   "metadata": {},
   "outputs": [
    {
     "data": {
      "text/plain": [
       "Street/Sidewalk               301372\n",
       "Store/Commercial               25217\n",
       "Club/Bar/Restaurant            21527\n",
       "Residential Building/House      8869\n",
       "Park/Playground                 4871\n",
       "Name: Location Type, dtype: int64"
      ]
     },
     "execution_count": 17,
     "metadata": {},
     "output_type": "execute_result"
    }
   ],
   "source": [
    "data['Location Type'].value_counts().head()"
   ]
  },
  {
   "cell_type": "code",
   "execution_count": 18,
   "id": "e6c1c20e",
   "metadata": {},
   "outputs": [
    {
     "data": {
      "text/plain": [
       "11385.0    6396\n",
       "11368.0    5384\n",
       "11234.0    5199\n",
       "11211.0    4854\n",
       "Name: Incident Zip, dtype: int64"
      ]
     },
     "execution_count": 18,
     "metadata": {},
     "output_type": "execute_result"
    }
   ],
   "source": [
    "data['Incident Zip'].value_counts().head(4)"
   ]
  },
  {
   "cell_type": "code",
   "execution_count": 19,
   "id": "cde20159",
   "metadata": {},
   "outputs": [
    {
     "data": {
      "text/plain": [
       "1207 BEACH AVENUE          1014\n",
       "2117 3 AVENUE               660\n",
       "78-15 PARSONS BOULEVARD     637\n",
       "89 MOORE STREET             512\n",
       "Name: Incident Address, dtype: int64"
      ]
     },
     "execution_count": 19,
     "metadata": {},
     "output_type": "execute_result"
    }
   ],
   "source": [
    "data['Incident Address'].value_counts().head(4)"
   ]
  },
  {
   "cell_type": "code",
   "execution_count": 20,
   "id": "11264b5c",
   "metadata": {},
   "outputs": [
    {
     "data": {
      "text/plain": [
       "BROADWAY          4122\n",
       "3 AVENUE          1804\n",
       "SHERMAN AVENUE    1390\n",
       "BEACH AVENUE      1262\n",
       "BEDFORD AVENUE    1226\n",
       "Name: Street Name, dtype: int64"
      ]
     },
     "execution_count": 20,
     "metadata": {},
     "output_type": "execute_result"
    }
   ],
   "source": [
    "data['Street Name'].value_counts().head(5)"
   ]
  },
  {
   "cell_type": "code",
   "execution_count": 21,
   "id": "bf0fdaaa",
   "metadata": {},
   "outputs": [
    {
     "data": {
      "text/plain": [
       "BEND        5123\n",
       "BROADWAY    5055\n",
       "3 AVENUE    4013\n",
       "5 AVENUE    3564\n",
       "Name: Cross Street 1, dtype: int64"
      ]
     },
     "execution_count": 21,
     "metadata": {},
     "output_type": "execute_result"
    }
   ],
   "source": [
    "data['Cross Street 1'].value_counts().head(4)"
   ]
  },
  {
   "cell_type": "code",
   "execution_count": 22,
   "id": "4821150e",
   "metadata": {},
   "outputs": [
    {
     "data": {
      "text/plain": [
       "BEND        5376\n",
       "BROADWAY    4240\n",
       "8 AVENUE    3360\n",
       "DEAD END    2737\n",
       "Name: Cross Street 2, dtype: int64"
      ]
     },
     "execution_count": 22,
     "metadata": {},
     "output_type": "execute_result"
    }
   ],
   "source": [
    "data['Cross Street 2'].value_counts().head(4)"
   ]
  },
  {
   "cell_type": "code",
   "execution_count": 23,
   "id": "b96de848",
   "metadata": {},
   "outputs": [
    {
     "data": {
      "text/plain": [
       "BROADWAY      757\n",
       "170 STREET    506\n",
       "6 AVENUE      379\n",
       "44 STREET     362\n",
       "Name: Intersection Street 1, dtype: int64"
      ]
     },
     "execution_count": 23,
     "metadata": {},
     "output_type": "execute_result"
    }
   ],
   "source": [
    "data['Intersection Street 1'].value_counts().head(4)"
   ]
  },
  {
   "cell_type": "code",
   "execution_count": 24,
   "id": "07bff2e1",
   "metadata": {},
   "outputs": [
    {
     "data": {
      "text/plain": [
       "BROADWAY    1525\n",
       "2 AVENUE     823\n",
       "6 AVENUE     783\n",
       "5 AVENUE     619\n",
       "Name: Intersection Street 2, dtype: int64"
      ]
     },
     "execution_count": 24,
     "metadata": {},
     "output_type": "execute_result"
    }
   ],
   "source": [
    "data['Intersection Street 2'].value_counts().head(4)"
   ]
  },
  {
   "cell_type": "code",
   "execution_count": 25,
   "id": "01ba7b28",
   "metadata": {},
   "outputs": [
    {
     "data": {
      "text/plain": [
       "ADDRESS         292699\n",
       "INTERSECTION     50514\n",
       "BLOCKFACE        13786\n",
       "LATLONG           3931\n",
       "Name: Address Type, dtype: int64"
      ]
     },
     "execution_count": 25,
     "metadata": {},
     "output_type": "execute_result"
    }
   ],
   "source": [
    "data['Address Type'].value_counts().head(4)"
   ]
  },
  {
   "cell_type": "code",
   "execution_count": 26,
   "id": "aaec44c0",
   "metadata": {},
   "outputs": [
    {
     "data": {
      "text/plain": [
       "BROOKLYN         118862\n",
       "NEW YORK          77312\n",
       "BRONX             49171\n",
       "STATEN ISLAND     15340\n",
       "Name: City, dtype: int64"
      ]
     },
     "execution_count": 26,
     "metadata": {},
     "output_type": "execute_result"
    }
   ],
   "source": [
    "data['City'].value_counts().head(4)"
   ]
  },
  {
   "cell_type": "code",
   "execution_count": 27,
   "id": "054d5a56",
   "metadata": {},
   "outputs": [
    {
     "data": {
      "text/plain": [
       "CENTRAL PARK              71\n",
       "PROSPECT PARK             22\n",
       "WASHINGTON SQUARE PARK    16\n",
       "UNION SQUARE PARK         14\n",
       "SUNSET PARK               13\n",
       "Name: Landmark, dtype: int64"
      ]
     },
     "execution_count": 27,
     "metadata": {},
     "output_type": "execute_result"
    }
   ],
   "source": [
    "data.Landmark.value_counts().head(5)"
   ]
  },
  {
   "cell_type": "code",
   "execution_count": 28,
   "id": "c715c74c",
   "metadata": {},
   "outputs": [
    {
     "data": {
      "text/plain": [
       "Precinct    362169\n",
       "Name: Facility Type, dtype: int64"
      ]
     },
     "execution_count": 28,
     "metadata": {},
     "output_type": "execute_result"
    }
   ],
   "source": [
    "data['Facility Type'].value_counts()"
   ]
  },
  {
   "cell_type": "code",
   "execution_count": 29,
   "id": "66561360",
   "metadata": {},
   "outputs": [
    {
     "data": {
      "text/plain": [
       "Closed      362114\n",
       "Open          1640\n",
       "Assigned       802\n",
       "Draft            2\n",
       "Name: Status, dtype: int64"
      ]
     },
     "execution_count": 29,
     "metadata": {},
     "output_type": "execute_result"
    }
   ],
   "source": [
    "data.Status.value_counts()"
   ]
  },
  {
   "cell_type": "code",
   "execution_count": 30,
   "id": "2e8ae021",
   "metadata": {},
   "outputs": [
    {
     "data": {
      "text/plain": [
       "06/04/2015 06:16:23 AM    3\n",
       "08/09/2015 06:16:46 AM    3\n",
       "03/02/2015 06:27:37 AM    3\n",
       "08/16/2015 06:49:03 AM    3\n",
       "12/24/2015 02:33:50 AM    3\n",
       "                         ..\n",
       "09/07/2015 10:16:39 PM    1\n",
       "09/07/2015 10:18:47 PM    1\n",
       "09/07/2015 10:19:56 PM    1\n",
       "09/07/2015 10:21:20 PM    1\n",
       "01/01/2015 08:00:50 AM    1\n",
       "Name: Due Date, Length: 362015, dtype: int64"
      ]
     },
     "execution_count": 30,
     "metadata": {},
     "output_type": "execute_result"
    }
   ],
   "source": [
    "data['Due Date'].value_counts()"
   ]
  },
  {
   "cell_type": "code",
   "execution_count": 31,
   "id": "03d823cd",
   "metadata": {},
   "outputs": [
    {
     "data": {
      "text/plain": [
       "06/04/2015 06:16:23 AM    3\n",
       "08/09/2015 06:16:46 AM    3\n",
       "03/02/2015 06:27:37 AM    3\n",
       "08/16/2015 06:49:03 AM    3\n",
       "12/24/2015 02:33:50 AM    3\n",
       "Name: Due Date, dtype: int64"
      ]
     },
     "execution_count": 31,
     "metadata": {},
     "output_type": "execute_result"
    }
   ],
   "source": [
    "data['Due Date'].value_counts().head()"
   ]
  },
  {
   "cell_type": "code",
   "execution_count": 32,
   "id": "daa79d89",
   "metadata": {},
   "outputs": [
    {
     "data": {
      "text/plain": [
       "The Police Department responded to the complaint and with the information available observed no evidence of the violation at that time.    107051\n",
       "The Police Department responded to the complaint and took action to fix the condition.                                                      72917\n",
       "The Police Department responded and upon arrival those responsible for the condition were gone.                                             71281\n",
       "The Police Department responded to the complaint and determined that police action was not necessary.                                       47612\n",
       "The Police Department issued a summons in response to the complaint.                                                                        37342\n",
       "Name: Resolution Description, dtype: int64"
      ]
     },
     "execution_count": 32,
     "metadata": {},
     "output_type": "execute_result"
    }
   ],
   "source": [
    "data['Resolution Description'].value_counts().head()"
   ]
  },
  {
   "cell_type": "code",
   "execution_count": 33,
   "id": "0c529c50",
   "metadata": {},
   "outputs": [
    {
     "data": {
      "text/plain": [
       "Unspecified                        364557\n",
       "Alley Pond Park - Nature Center         1\n",
       "Name: School Name, dtype: int64"
      ]
     },
     "execution_count": 33,
     "metadata": {},
     "output_type": "execute_result"
    }
   ],
   "source": [
    "data['School Name'].value_counts()"
   ]
  },
  {
   "cell_type": "code",
   "execution_count": 34,
   "id": "f0c947a9",
   "metadata": {},
   "outputs": [
    {
     "data": {
      "text/plain": [
       "Unspecified    364557\n",
       "Q001                1\n",
       "Name: School Number, dtype: int64"
      ]
     },
     "execution_count": 34,
     "metadata": {},
     "output_type": "execute_result"
    }
   ],
   "source": [
    "data['School Number'].value_counts()"
   ]
  },
  {
   "cell_type": "code",
   "execution_count": 35,
   "id": "4ca38816",
   "metadata": {},
   "outputs": [
    {
     "data": {
      "text/plain": [
       "Unspecified    364557\n",
       "Name: School Region, dtype: int64"
      ]
     },
     "execution_count": 35,
     "metadata": {},
     "output_type": "execute_result"
    }
   ],
   "source": [
    "data['School Region'].value_counts()"
   ]
  },
  {
   "cell_type": "code",
   "execution_count": 36,
   "id": "ed662f48",
   "metadata": {},
   "outputs": [
    {
     "data": {
      "text/plain": [
       "N    364558\n",
       "Name: School Not Found, dtype: int64"
      ]
     },
     "execution_count": 36,
     "metadata": {},
     "output_type": "execute_result"
    }
   ],
   "source": [
    "data['School Not Found'].value_counts()"
   ]
  },
  {
   "cell_type": "code",
   "execution_count": 37,
   "id": "60b85a76",
   "metadata": {},
   "outputs": [
    {
     "data": {
      "text/plain": [
       "Unspecified    364557\n",
       "Name: School Code, dtype: int64"
      ]
     },
     "execution_count": 37,
     "metadata": {},
     "output_type": "execute_result"
    }
   ],
   "source": [
    "data['School Code'].value_counts()"
   ]
  },
  {
   "cell_type": "code",
   "execution_count": 38,
   "id": "fd383185",
   "metadata": {},
   "outputs": [
    {
     "data": {
      "text/plain": [
       "Unspecified    364557\n",
       "7182176034          1\n",
       "Name: School Phone Number, dtype: int64"
      ]
     },
     "execution_count": 38,
     "metadata": {},
     "output_type": "execute_result"
    }
   ],
   "source": [
    "data['School Phone Number'].value_counts()"
   ]
  },
  {
   "cell_type": "code",
   "execution_count": 39,
   "id": "516e09b5",
   "metadata": {},
   "outputs": [
    {
     "data": {
      "text/plain": [
       "Unspecified                                     364557\n",
       "Grand Central Parkway, near the soccer field         1\n",
       "Name: School Address, dtype: int64"
      ]
     },
     "execution_count": 39,
     "metadata": {},
     "output_type": "execute_result"
    }
   ],
   "source": [
    "data['School Address'].value_counts()"
   ]
  },
  {
   "cell_type": "code",
   "execution_count": 40,
   "id": "c51b4637",
   "metadata": {},
   "outputs": [
    {
     "data": {
      "text/plain": [
       "Unspecified    364557\n",
       "QUEENS              1\n",
       "Name: School City, dtype: int64"
      ]
     },
     "execution_count": 40,
     "metadata": {},
     "output_type": "execute_result"
    }
   ],
   "source": [
    "data['School City'].value_counts()"
   ]
  },
  {
   "cell_type": "code",
   "execution_count": 41,
   "id": "8707b2a6",
   "metadata": {},
   "outputs": [
    {
     "data": {
      "text/plain": [
       "Unspecified    364557\n",
       "NY                  1\n",
       "Name: School State, dtype: int64"
      ]
     },
     "execution_count": 41,
     "metadata": {},
     "output_type": "execute_result"
    }
   ],
   "source": [
    "data['School State'].value_counts()"
   ]
  },
  {
   "cell_type": "code",
   "execution_count": 42,
   "id": "6d14f6d2",
   "metadata": {},
   "outputs": [
    {
     "data": {
      "text/plain": [
       "Unspecified    364557\n",
       "Name: School Zip, dtype: int64"
      ]
     },
     "execution_count": 42,
     "metadata": {},
     "output_type": "execute_result"
    }
   ],
   "source": [
    "data['School Zip'].value_counts()"
   ]
  },
  {
   "cell_type": "code",
   "execution_count": 43,
   "id": "aaeb3cc1",
   "metadata": {},
   "outputs": [
    {
     "data": {
      "text/plain": [
       "N    364558\n",
       "Name: School Not Found, dtype: int64"
      ]
     },
     "execution_count": 43,
     "metadata": {},
     "output_type": "execute_result"
    }
   ],
   "source": [
    "data['School Not Found'].value_counts()"
   ]
  },
  {
   "cell_type": "code",
   "execution_count": 44,
   "id": "50123bd9",
   "metadata": {},
   "outputs": [
    {
     "data": {
      "text/plain": [
       "Series([], Name: School or Citywide Complaint, dtype: int64)"
      ]
     },
     "execution_count": 44,
     "metadata": {},
     "output_type": "execute_result"
    }
   ],
   "source": [
    "data['School or Citywide Complaint'].value_counts()"
   ]
  },
  {
   "cell_type": "code",
   "execution_count": 45,
   "id": "dbb4a44b",
   "metadata": {},
   "outputs": [
    {
     "data": {
      "text/plain": [
       "Index(['Unique Key', 'Created Date', 'Closed Date', 'Agency', 'Agency Name',\n",
       "       'Complaint Type', 'Descriptor', 'Location Type', 'Incident Zip',\n",
       "       'Incident Address', 'Street Name', 'Cross Street 1', 'Cross Street 2',\n",
       "       'Intersection Street 1', 'Intersection Street 2', 'Address Type',\n",
       "       'City', 'Landmark', 'Facility Type', 'Status', 'Due Date',\n",
       "       'Resolution Description', 'Resolution Action Updated Date',\n",
       "       'Community Board', 'Borough', 'X Coordinate (State Plane)',\n",
       "       'Y Coordinate (State Plane)', 'Park Facility Name', 'Park Borough',\n",
       "       'School Name', 'School Number', 'School Region', 'School Code',\n",
       "       'School Phone Number', 'School Address', 'School City', 'School State',\n",
       "       'School Zip', 'School Not Found', 'School or Citywide Complaint',\n",
       "       'Vehicle Type', 'Taxi Company Borough', 'Taxi Pick Up Location',\n",
       "       'Bridge Highway Name', 'Bridge Highway Direction', 'Road Ramp',\n",
       "       'Bridge Highway Segment', 'Garage Lot Name', 'Ferry Direction',\n",
       "       'Ferry Terminal Name', 'Latitude', 'Longitude', 'Location'],\n",
       "      dtype='object')"
      ]
     },
     "execution_count": 45,
     "metadata": {},
     "output_type": "execute_result"
    }
   ],
   "source": [
    "data.columns"
   ]
  },
  {
   "cell_type": "code",
   "execution_count": 46,
   "id": "e8a791bc",
   "metadata": {},
   "outputs": [],
   "source": [
    "data_mod = data_mod.drop(columns=['School Name', 'School Number', 'School Region', 'School Code',\n",
    "                              'School Phone Number', 'School Address', 'School City', 'School State',\n",
    "                                 'School Zip', 'School Not Found', 'School or Citywide Complaint'],axis=1)"
   ]
  },
  {
   "cell_type": "code",
   "execution_count": 47,
   "id": "c94ce85a",
   "metadata": {},
   "outputs": [
    {
     "data": {
      "text/plain": [
       "Index(['Created Date', 'Closed Date', 'Agency Name', 'Complaint Type',\n",
       "       'Descriptor', 'Location Type', 'Incident Zip', 'Incident Address',\n",
       "       'Street Name', 'Cross Street 1', 'Cross Street 2',\n",
       "       'Intersection Street 1', 'Intersection Street 2', 'Address Type',\n",
       "       'City', 'Landmark', 'Facility Type', 'Status', 'Due Date',\n",
       "       'Resolution Description', 'Resolution Action Updated Date',\n",
       "       'Community Board', 'Borough', 'X Coordinate (State Plane)',\n",
       "       'Y Coordinate (State Plane)', 'Park Facility Name', 'Park Borough',\n",
       "       'Vehicle Type', 'Taxi Company Borough', 'Taxi Pick Up Location',\n",
       "       'Bridge Highway Name', 'Bridge Highway Direction', 'Road Ramp',\n",
       "       'Bridge Highway Segment', 'Garage Lot Name', 'Ferry Direction',\n",
       "       'Ferry Terminal Name', 'Latitude', 'Longitude', 'Location'],\n",
       "      dtype='object')"
      ]
     },
     "execution_count": 47,
     "metadata": {},
     "output_type": "execute_result"
    }
   ],
   "source": [
    "data_mod.columns"
   ]
  },
  {
   "cell_type": "code",
   "execution_count": 48,
   "id": "79c659a0",
   "metadata": {},
   "outputs": [
    {
     "data": {
      "text/plain": [
       "Series([], Name: Vehicle Type, dtype: int64)"
      ]
     },
     "execution_count": 48,
     "metadata": {},
     "output_type": "execute_result"
    }
   ],
   "source": [
    "data['Vehicle Type'].value_counts()"
   ]
  },
  {
   "cell_type": "code",
   "execution_count": 49,
   "id": "fd5abe7d",
   "metadata": {},
   "outputs": [
    {
     "data": {
      "text/plain": [
       "Series([], Name: Taxi Company Borough, dtype: int64)"
      ]
     },
     "execution_count": 49,
     "metadata": {},
     "output_type": "execute_result"
    }
   ],
   "source": [
    "data['Taxi Company Borough'].value_counts()"
   ]
  },
  {
   "cell_type": "code",
   "execution_count": 50,
   "id": "88aa2037",
   "metadata": {},
   "outputs": [
    {
     "data": {
      "text/plain": [
       "Series([], Name: Taxi Pick Up Location, dtype: int64)"
      ]
     },
     "execution_count": 50,
     "metadata": {},
     "output_type": "execute_result"
    }
   ],
   "source": [
    "data['Taxi Pick Up Location'].value_counts()"
   ]
  },
  {
   "cell_type": "code",
   "execution_count": 51,
   "id": "9f3f137b",
   "metadata": {},
   "outputs": [],
   "source": [
    "data_mod = data_mod.drop(columns=['Vehicle Type','Taxi Company Borough','Taxi Pick Up Location'],axis=1)"
   ]
  },
  {
   "cell_type": "code",
   "execution_count": 52,
   "id": "ca2ccde2",
   "metadata": {},
   "outputs": [
    {
     "data": {
      "text/plain": [
       "Index(['Created Date', 'Closed Date', 'Agency Name', 'Complaint Type',\n",
       "       'Descriptor', 'Location Type', 'Incident Zip', 'Incident Address',\n",
       "       'Street Name', 'Cross Street 1', 'Cross Street 2',\n",
       "       'Intersection Street 1', 'Intersection Street 2', 'Address Type',\n",
       "       'City', 'Landmark', 'Facility Type', 'Status', 'Due Date',\n",
       "       'Resolution Description', 'Resolution Action Updated Date',\n",
       "       'Community Board', 'Borough', 'X Coordinate (State Plane)',\n",
       "       'Y Coordinate (State Plane)', 'Park Facility Name', 'Park Borough',\n",
       "       'Bridge Highway Name', 'Bridge Highway Direction', 'Road Ramp',\n",
       "       'Bridge Highway Segment', 'Garage Lot Name', 'Ferry Direction',\n",
       "       'Ferry Terminal Name', 'Latitude', 'Longitude', 'Location'],\n",
       "      dtype='object')"
      ]
     },
     "execution_count": 52,
     "metadata": {},
     "output_type": "execute_result"
    }
   ],
   "source": [
    "data_mod.columns"
   ]
  },
  {
   "cell_type": "code",
   "execution_count": 53,
   "id": "34cbd560",
   "metadata": {},
   "outputs": [
    {
     "data": {
      "text/plain": [
       "FDR Dr                 36\n",
       "BQE/Gowanus Expwy      35\n",
       "Belt Pkwy              34\n",
       "Cross Bronx Expwy      27\n",
       "Staten Island Expwy    22\n",
       "Name: Bridge Highway Name, dtype: int64"
      ]
     },
     "execution_count": 53,
     "metadata": {},
     "output_type": "execute_result"
    }
   ],
   "source": [
    "data['Bridge Highway Name'].value_counts().head(5)"
   ]
  },
  {
   "cell_type": "code",
   "execution_count": 54,
   "id": "cd2a46f3",
   "metadata": {},
   "outputs": [
    {
     "data": {
      "text/plain": [
       "East/Queens Bound             26\n",
       "North/Bronx Bound             25\n",
       "North/Westbound (To GW Br)    23\n",
       "West/Staten Island Bound      23\n",
       "Name: Bridge Highway Direction, dtype: int64"
      ]
     },
     "execution_count": 54,
     "metadata": {},
     "output_type": "execute_result"
    }
   ],
   "source": [
    "data['Bridge Highway Direction'].value_counts().head(4)"
   ]
  },
  {
   "cell_type": "code",
   "execution_count": 55,
   "id": "54a22b2a",
   "metadata": {},
   "outputs": [
    {
     "data": {
      "text/plain": [
       "Roadway    199\n",
       "Ramp        63\n",
       "Name: Road Ramp, dtype: int64"
      ]
     },
     "execution_count": 55,
     "metadata": {},
     "output_type": "execute_result"
    }
   ],
   "source": [
    "data['Road Ramp'].value_counts()"
   ]
  },
  {
   "cell_type": "code",
   "execution_count": 56,
   "id": "8a43dbea",
   "metadata": {},
   "outputs": [
    {
     "data": {
      "text/plain": [
       "East 96th St (Exit 14) - Triborough Br (Exit 17)                              6\n",
       "Bronx River Pkwy (Exit 4B) - Westchester Ave / White Plains Road (Exit 5A)    5\n",
       "Westchester Ave / White Plains Road (Exit 5A) - Castle Hill Ave (Exit 5B)     4\n",
       "East 177th St/Sheridan Expwy (I-895) (Exit 5)                                 4\n",
       "Brooklyn-Queens Expwy(I-278) (Exit 25) - Brooklyn-Battery Tunnel (I-478)      3\n",
       "                                                                             ..\n",
       "Sheridan Expwy (I-895) (Exit 4A) - Bronx River Pkwy (Exit 4B)                 1\n",
       "Westchester Ave (Exit 8A) - East Tremont Ave (Exit 7B)                        1\n",
       "BEGIN Cross Bronx Expwy (Extension) - Randall Ave (Exit 11)                   1\n",
       "8Ave/7Ave (Exit 3) - 4th Ave (Exit 2B)                                        1\n",
       "La Guardia Airport-Main Terminal (Exit 7)                                     1\n",
       "Name: Bridge Highway Segment, Length: 187, dtype: int64"
      ]
     },
     "execution_count": 56,
     "metadata": {},
     "output_type": "execute_result"
    }
   ],
   "source": [
    "data['Bridge Highway Segment'].value_counts()"
   ]
  },
  {
   "cell_type": "code",
   "execution_count": 57,
   "id": "39a8183f",
   "metadata": {},
   "outputs": [
    {
     "data": {
      "text/plain": [
       "East 96th St (Exit 14) - Triborough Br (Exit 17)                              6\n",
       "Bronx River Pkwy (Exit 4B) - Westchester Ave / White Plains Road (Exit 5A)    5\n",
       "Westchester Ave / White Plains Road (Exit 5A) - Castle Hill Ave (Exit 5B)     4\n",
       "East 177th St/Sheridan Expwy (I-895) (Exit 5)                                 4\n",
       "Brooklyn-Queens Expwy(I-278) (Exit 25) - Brooklyn-Battery Tunnel (I-478)      3\n",
       "East 42nd St (Exit 9) - East 61st St / East 63rd St (Exit 12)                 3\n",
       "Name: Bridge Highway Segment, dtype: int64"
      ]
     },
     "execution_count": 57,
     "metadata": {},
     "output_type": "execute_result"
    }
   ],
   "source": [
    "data['Bridge Highway Segment'].value_counts().head(6)"
   ]
  },
  {
   "cell_type": "code",
   "execution_count": 58,
   "id": "5fbd6464",
   "metadata": {},
   "outputs": [
    {
     "data": {
      "text/plain": [
       "Series([], Name: Garage Lot Name, dtype: int64)"
      ]
     },
     "execution_count": 58,
     "metadata": {},
     "output_type": "execute_result"
    }
   ],
   "source": [
    "data['Garage Lot Name'].value_counts()"
   ]
  },
  {
   "cell_type": "code",
   "execution_count": 59,
   "id": "f67c0e7c",
   "metadata": {},
   "outputs": [
    {
     "data": {
      "text/plain": [
       "Manhattan Bound    1\n",
       "Name: Ferry Direction, dtype: int64"
      ]
     },
     "execution_count": 59,
     "metadata": {},
     "output_type": "execute_result"
    }
   ],
   "source": [
    "data['Ferry Direction'].value_counts()"
   ]
  },
  {
   "cell_type": "code",
   "execution_count": 60,
   "id": "2d88ef93",
   "metadata": {},
   "outputs": [
    {
     "data": {
      "text/plain": [
       "St. George Terminal (Staten Island)    1\n",
       "Barberi                                1\n",
       "Name: Ferry Terminal Name, dtype: int64"
      ]
     },
     "execution_count": 60,
     "metadata": {},
     "output_type": "execute_result"
    }
   ],
   "source": [
    "data['Ferry Terminal Name'].value_counts()"
   ]
  },
  {
   "cell_type": "code",
   "execution_count": 61,
   "id": "deccb0c6",
   "metadata": {},
   "outputs": [],
   "source": [
    "data_mod = data_mod.drop(columns=['Garage Lot Name','Ferry Direction','Ferry Terminal Name'],axis=1)"
   ]
  },
  {
   "cell_type": "code",
   "execution_count": 62,
   "id": "3a112139",
   "metadata": {},
   "outputs": [
    {
     "data": {
      "text/plain": [
       "Index(['Created Date', 'Closed Date', 'Agency Name', 'Complaint Type',\n",
       "       'Descriptor', 'Location Type', 'Incident Zip', 'Incident Address',\n",
       "       'Street Name', 'Cross Street 1', 'Cross Street 2',\n",
       "       'Intersection Street 1', 'Intersection Street 2', 'Address Type',\n",
       "       'City', 'Landmark', 'Facility Type', 'Status', 'Due Date',\n",
       "       'Resolution Description', 'Resolution Action Updated Date',\n",
       "       'Community Board', 'Borough', 'X Coordinate (State Plane)',\n",
       "       'Y Coordinate (State Plane)', 'Park Facility Name', 'Park Borough',\n",
       "       'Bridge Highway Name', 'Bridge Highway Direction', 'Road Ramp',\n",
       "       'Bridge Highway Segment', 'Latitude', 'Longitude', 'Location'],\n",
       "      dtype='object')"
      ]
     },
     "execution_count": 62,
     "metadata": {},
     "output_type": "execute_result"
    }
   ],
   "source": [
    "data_mod.columns"
   ]
  },
  {
   "cell_type": "code",
   "execution_count": 63,
   "id": "be73bd77",
   "metadata": {},
   "outputs": [
    {
     "data": {
      "text/plain": [
       "40.830362    1012\n",
       "40.797708     660\n",
       "40.721959     637\n",
       "40.703819     508\n",
       "40.708726     399\n",
       "Name: Latitude, dtype: int64"
      ]
     },
     "execution_count": 63,
     "metadata": {},
     "output_type": "execute_result"
    }
   ],
   "source": [
    "data['Latitude'].value_counts().head()"
   ]
  },
  {
   "cell_type": "code",
   "execution_count": 64,
   "id": "82c10ed4",
   "metadata": {},
   "outputs": [
    {
     "data": {
      "text/plain": [
       "-73.866022    1012\n",
       "-73.940182     660\n",
       "-73.809697     637\n",
       "-73.942073     512\n",
       "-73.790654     399\n",
       "Name: Longitude, dtype: int64"
      ]
     },
     "execution_count": 64,
     "metadata": {},
     "output_type": "execute_result"
    }
   ],
   "source": [
    "data['Longitude'].value_counts().head()"
   ]
  },
  {
   "cell_type": "code",
   "execution_count": 65,
   "id": "a9dd5097",
   "metadata": {},
   "outputs": [
    {
     "data": {
      "text/plain": [
       "(40.83036235589997, -73.86602154214397)     1012\n",
       "(40.79770758865914, -73.9401822682408)       660\n",
       "(40.72195913199264, -73.80969682426189)      637\n",
       "(40.703818970933284, -73.94207345177706)     508\n",
       "(40.708726489323325, -73.7906539235748)      399\n",
       "Name: Location, dtype: int64"
      ]
     },
     "execution_count": 65,
     "metadata": {},
     "output_type": "execute_result"
    }
   ],
   "source": [
    "data['Location'].value_counts().head()"
   ]
  },
  {
   "cell_type": "code",
   "execution_count": 66,
   "id": "ebfbfefb",
   "metadata": {},
   "outputs": [
    {
     "data": {
      "text/html": [
       "<div>\n",
       "<style scoped>\n",
       "    .dataframe tbody tr th:only-of-type {\n",
       "        vertical-align: middle;\n",
       "    }\n",
       "\n",
       "    .dataframe tbody tr th {\n",
       "        vertical-align: top;\n",
       "    }\n",
       "\n",
       "    .dataframe thead th {\n",
       "        text-align: right;\n",
       "    }\n",
       "</style>\n",
       "<table border=\"1\" class=\"dataframe\">\n",
       "  <thead>\n",
       "    <tr style=\"text-align: right;\">\n",
       "      <th></th>\n",
       "      <th>Created Date</th>\n",
       "      <th>Closed Date</th>\n",
       "      <th>Agency Name</th>\n",
       "      <th>Complaint Type</th>\n",
       "      <th>Descriptor</th>\n",
       "      <th>Location Type</th>\n",
       "      <th>Incident Zip</th>\n",
       "      <th>Incident Address</th>\n",
       "      <th>Street Name</th>\n",
       "      <th>Cross Street 1</th>\n",
       "      <th>...</th>\n",
       "      <th>Y Coordinate (State Plane)</th>\n",
       "      <th>Park Facility Name</th>\n",
       "      <th>Park Borough</th>\n",
       "      <th>Bridge Highway Name</th>\n",
       "      <th>Bridge Highway Direction</th>\n",
       "      <th>Road Ramp</th>\n",
       "      <th>Bridge Highway Segment</th>\n",
       "      <th>Latitude</th>\n",
       "      <th>Longitude</th>\n",
       "      <th>Location</th>\n",
       "    </tr>\n",
       "  </thead>\n",
       "  <tbody>\n",
       "    <tr>\n",
       "      <th>14705</th>\n",
       "      <td>12/15/2015 09:59:52 PM</td>\n",
       "      <td>12/16/2015 07:43:42 AM</td>\n",
       "      <td>New York City Police Department</td>\n",
       "      <td>Illegal Parking</td>\n",
       "      <td>Blocked Hydrant</td>\n",
       "      <td>Street/Sidewalk</td>\n",
       "      <td>11421.0</td>\n",
       "      <td>80-57 88 AVENUE</td>\n",
       "      <td>88 AVENUE</td>\n",
       "      <td>80 STREET</td>\n",
       "      <td>...</td>\n",
       "      <td>190735.0</td>\n",
       "      <td>Unspecified</td>\n",
       "      <td>QUEENS</td>\n",
       "      <td>NaN</td>\n",
       "      <td>NaN</td>\n",
       "      <td>NaN</td>\n",
       "      <td>NaN</td>\n",
       "      <td>40.690117</td>\n",
       "      <td>-73.861147</td>\n",
       "      <td>(40.69011651875657, -73.86114687918405)</td>\n",
       "    </tr>\n",
       "    <tr>\n",
       "      <th>98027</th>\n",
       "      <td>09/27/2015 02:19:21 AM</td>\n",
       "      <td>09/27/2015 06:24:00 AM</td>\n",
       "      <td>New York City Police Department</td>\n",
       "      <td>Noise - Commercial</td>\n",
       "      <td>Loud Music/Party</td>\n",
       "      <td>Store/Commercial</td>\n",
       "      <td>10012.0</td>\n",
       "      <td>107 MACDOUGAL STREET</td>\n",
       "      <td>MACDOUGAL STREET</td>\n",
       "      <td>BLEECKER STREET</td>\n",
       "      <td>...</td>\n",
       "      <td>205131.0</td>\n",
       "      <td>Unspecified</td>\n",
       "      <td>MANHATTAN</td>\n",
       "      <td>NaN</td>\n",
       "      <td>NaN</td>\n",
       "      <td>NaN</td>\n",
       "      <td>NaN</td>\n",
       "      <td>40.729714</td>\n",
       "      <td>-74.000743</td>\n",
       "      <td>(40.7297138891165, -74.00074326038714)</td>\n",
       "    </tr>\n",
       "    <tr>\n",
       "      <th>16524</th>\n",
       "      <td>12/14/2015 03:13:10 AM</td>\n",
       "      <td>12/14/2015 07:27:40 AM</td>\n",
       "      <td>New York City Police Department</td>\n",
       "      <td>Noise - Vehicle</td>\n",
       "      <td>Car/Truck Horn</td>\n",
       "      <td>Street/Sidewalk</td>\n",
       "      <td>10034.0</td>\n",
       "      <td>NaN</td>\n",
       "      <td>NaN</td>\n",
       "      <td>NaN</td>\n",
       "      <td>...</td>\n",
       "      <td>253086.0</td>\n",
       "      <td>Unspecified</td>\n",
       "      <td>MANHATTAN</td>\n",
       "      <td>NaN</td>\n",
       "      <td>NaN</td>\n",
       "      <td>NaN</td>\n",
       "      <td>NaN</td>\n",
       "      <td>40.861310</td>\n",
       "      <td>-73.921232</td>\n",
       "      <td>(40.86131044941899, -73.92123202230121)</td>\n",
       "    </tr>\n",
       "    <tr>\n",
       "      <th>320233</th>\n",
       "      <td>03/05/2015 10:32:18 AM</td>\n",
       "      <td>03/05/2015 04:10:12 PM</td>\n",
       "      <td>New York City Police Department</td>\n",
       "      <td>Illegal Parking</td>\n",
       "      <td>Posted Parking Sign Violation</td>\n",
       "      <td>Street/Sidewalk</td>\n",
       "      <td>11230.0</td>\n",
       "      <td>865 EAST 19 STREET</td>\n",
       "      <td>EAST 19 STREET</td>\n",
       "      <td>AVENUE H</td>\n",
       "      <td>...</td>\n",
       "      <td>168729.0</td>\n",
       "      <td>Unspecified</td>\n",
       "      <td>BROOKLYN</td>\n",
       "      <td>NaN</td>\n",
       "      <td>NaN</td>\n",
       "      <td>NaN</td>\n",
       "      <td>NaN</td>\n",
       "      <td>40.629791</td>\n",
       "      <td>-73.958378</td>\n",
       "      <td>(40.62979113339484, -73.95837849045108)</td>\n",
       "    </tr>\n",
       "    <tr>\n",
       "      <th>217077</th>\n",
       "      <td>06/16/2015 01:44:23 AM</td>\n",
       "      <td>06/16/2015 03:51:02 AM</td>\n",
       "      <td>New York City Police Department</td>\n",
       "      <td>Noise - Street/Sidewalk</td>\n",
       "      <td>Loud Talking</td>\n",
       "      <td>Street/Sidewalk</td>\n",
       "      <td>10026.0</td>\n",
       "      <td>125 WEST 112 STREET</td>\n",
       "      <td>WEST 112 STREET</td>\n",
       "      <td>ST NICHOLAS AVENUE</td>\n",
       "      <td>...</td>\n",
       "      <td>230750.0</td>\n",
       "      <td>Unspecified</td>\n",
       "      <td>MANHATTAN</td>\n",
       "      <td>NaN</td>\n",
       "      <td>NaN</td>\n",
       "      <td>NaN</td>\n",
       "      <td>NaN</td>\n",
       "      <td>40.800022</td>\n",
       "      <td>-73.952858</td>\n",
       "      <td>(40.800021785765296, -73.95285785808254)</td>\n",
       "    </tr>\n",
       "    <tr>\n",
       "      <th>125158</th>\n",
       "      <td>09/05/2015 12:56:32 AM</td>\n",
       "      <td>09/05/2015 03:00:45 AM</td>\n",
       "      <td>New York City Police Department</td>\n",
       "      <td>Noise - Street/Sidewalk</td>\n",
       "      <td>Loud Music/Party</td>\n",
       "      <td>Street/Sidewalk</td>\n",
       "      <td>10040.0</td>\n",
       "      <td>450 AUDUBON AVENUE</td>\n",
       "      <td>AUDUBON AVENUE</td>\n",
       "      <td>WEST 187 STREET</td>\n",
       "      <td>...</td>\n",
       "      <td>250000.0</td>\n",
       "      <td>Unspecified</td>\n",
       "      <td>MANHATTAN</td>\n",
       "      <td>NaN</td>\n",
       "      <td>NaN</td>\n",
       "      <td>NaN</td>\n",
       "      <td>NaN</td>\n",
       "      <td>40.852846</td>\n",
       "      <td>-73.929346</td>\n",
       "      <td>(40.85284555442006, -73.92934629554779)</td>\n",
       "    </tr>\n",
       "    <tr>\n",
       "      <th>182208</th>\n",
       "      <td>07/16/2015 02:14:06 AM</td>\n",
       "      <td>07/16/2015 05:34:07 AM</td>\n",
       "      <td>New York City Police Department</td>\n",
       "      <td>Noise - Street/Sidewalk</td>\n",
       "      <td>Loud Talking</td>\n",
       "      <td>Street/Sidewalk</td>\n",
       "      <td>11236.0</td>\n",
       "      <td>947 EAST 79 STREET</td>\n",
       "      <td>EAST 79 STREET</td>\n",
       "      <td>FLATLANDS AVENUE</td>\n",
       "      <td>...</td>\n",
       "      <td>170290.0</td>\n",
       "      <td>Unspecified</td>\n",
       "      <td>BROOKLYN</td>\n",
       "      <td>NaN</td>\n",
       "      <td>NaN</td>\n",
       "      <td>NaN</td>\n",
       "      <td>NaN</td>\n",
       "      <td>40.634050</td>\n",
       "      <td>-73.912965</td>\n",
       "      <td>(40.634050341481164, -73.91296502162781)</td>\n",
       "    </tr>\n",
       "    <tr>\n",
       "      <th>206474</th>\n",
       "      <td>06/25/2015 01:00:12 AM</td>\n",
       "      <td>06/25/2015 04:04:17 AM</td>\n",
       "      <td>New York City Police Department</td>\n",
       "      <td>Noise - Vehicle</td>\n",
       "      <td>Engine Idling</td>\n",
       "      <td>Street/Sidewalk</td>\n",
       "      <td>10003.0</td>\n",
       "      <td>21 ASTOR PLACE</td>\n",
       "      <td>ASTOR PLACE</td>\n",
       "      <td>BROADWAY</td>\n",
       "      <td>...</td>\n",
       "      <td>205232.0</td>\n",
       "      <td>Unspecified</td>\n",
       "      <td>MANHATTAN</td>\n",
       "      <td>NaN</td>\n",
       "      <td>NaN</td>\n",
       "      <td>NaN</td>\n",
       "      <td>NaN</td>\n",
       "      <td>40.729991</td>\n",
       "      <td>-73.992221</td>\n",
       "      <td>(40.729990849056996, -73.99222099001472)</td>\n",
       "    </tr>\n",
       "    <tr>\n",
       "      <th>179988</th>\n",
       "      <td>07/17/2015 11:19:30 PM</td>\n",
       "      <td>07/18/2015 01:25:33 PM</td>\n",
       "      <td>New York City Police Department</td>\n",
       "      <td>Illegal Parking</td>\n",
       "      <td>Blocked Hydrant</td>\n",
       "      <td>Street/Sidewalk</td>\n",
       "      <td>11377.0</td>\n",
       "      <td>47-10 LAUREL HILL BOULEVARD</td>\n",
       "      <td>LAUREL HILL BOULEVARD</td>\n",
       "      <td>47 STREET</td>\n",
       "      <td>...</td>\n",
       "      <td>207093.0</td>\n",
       "      <td>Unspecified</td>\n",
       "      <td>QUEENS</td>\n",
       "      <td>NaN</td>\n",
       "      <td>NaN</td>\n",
       "      <td>NaN</td>\n",
       "      <td>NaN</td>\n",
       "      <td>40.735071</td>\n",
       "      <td>-73.918971</td>\n",
       "      <td>(40.73507059247194, -73.91897087656503)</td>\n",
       "    </tr>\n",
       "    <tr>\n",
       "      <th>317961</th>\n",
       "      <td>03/08/2015 01:28:42 AM</td>\n",
       "      <td>03/08/2015 05:01:27 AM</td>\n",
       "      <td>New York City Police Department</td>\n",
       "      <td>Blocked Driveway</td>\n",
       "      <td>No Access</td>\n",
       "      <td>Street/Sidewalk</td>\n",
       "      <td>11210.0</td>\n",
       "      <td>1904 ALBANY AVENUE</td>\n",
       "      <td>ALBANY AVENUE</td>\n",
       "      <td>AVENUE J</td>\n",
       "      <td>...</td>\n",
       "      <td>167587.0</td>\n",
       "      <td>Unspecified</td>\n",
       "      <td>BROOKLYN</td>\n",
       "      <td>NaN</td>\n",
       "      <td>NaN</td>\n",
       "      <td>NaN</td>\n",
       "      <td>NaN</td>\n",
       "      <td>40.626647</td>\n",
       "      <td>-73.936423</td>\n",
       "      <td>(40.62664653889243, -73.93642328148555)</td>\n",
       "    </tr>\n",
       "  </tbody>\n",
       "</table>\n",
       "<p>10 rows × 34 columns</p>\n",
       "</div>"
      ],
      "text/plain": [
       "                  Created Date             Closed Date  \\\n",
       "14705   12/15/2015 09:59:52 PM  12/16/2015 07:43:42 AM   \n",
       "98027   09/27/2015 02:19:21 AM  09/27/2015 06:24:00 AM   \n",
       "16524   12/14/2015 03:13:10 AM  12/14/2015 07:27:40 AM   \n",
       "320233  03/05/2015 10:32:18 AM  03/05/2015 04:10:12 PM   \n",
       "217077  06/16/2015 01:44:23 AM  06/16/2015 03:51:02 AM   \n",
       "125158  09/05/2015 12:56:32 AM  09/05/2015 03:00:45 AM   \n",
       "182208  07/16/2015 02:14:06 AM  07/16/2015 05:34:07 AM   \n",
       "206474  06/25/2015 01:00:12 AM  06/25/2015 04:04:17 AM   \n",
       "179988  07/17/2015 11:19:30 PM  07/18/2015 01:25:33 PM   \n",
       "317961  03/08/2015 01:28:42 AM  03/08/2015 05:01:27 AM   \n",
       "\n",
       "                            Agency Name           Complaint Type  \\\n",
       "14705   New York City Police Department          Illegal Parking   \n",
       "98027   New York City Police Department       Noise - Commercial   \n",
       "16524   New York City Police Department          Noise - Vehicle   \n",
       "320233  New York City Police Department          Illegal Parking   \n",
       "217077  New York City Police Department  Noise - Street/Sidewalk   \n",
       "125158  New York City Police Department  Noise - Street/Sidewalk   \n",
       "182208  New York City Police Department  Noise - Street/Sidewalk   \n",
       "206474  New York City Police Department          Noise - Vehicle   \n",
       "179988  New York City Police Department          Illegal Parking   \n",
       "317961  New York City Police Department         Blocked Driveway   \n",
       "\n",
       "                           Descriptor     Location Type  Incident Zip  \\\n",
       "14705                 Blocked Hydrant   Street/Sidewalk       11421.0   \n",
       "98027                Loud Music/Party  Store/Commercial       10012.0   \n",
       "16524                  Car/Truck Horn   Street/Sidewalk       10034.0   \n",
       "320233  Posted Parking Sign Violation   Street/Sidewalk       11230.0   \n",
       "217077                   Loud Talking   Street/Sidewalk       10026.0   \n",
       "125158               Loud Music/Party   Street/Sidewalk       10040.0   \n",
       "182208                   Loud Talking   Street/Sidewalk       11236.0   \n",
       "206474                  Engine Idling   Street/Sidewalk       10003.0   \n",
       "179988                Blocked Hydrant   Street/Sidewalk       11377.0   \n",
       "317961                      No Access   Street/Sidewalk       11210.0   \n",
       "\n",
       "                   Incident Address            Street Name  \\\n",
       "14705               80-57 88 AVENUE              88 AVENUE   \n",
       "98027          107 MACDOUGAL STREET       MACDOUGAL STREET   \n",
       "16524                           NaN                    NaN   \n",
       "320233           865 EAST 19 STREET         EAST 19 STREET   \n",
       "217077          125 WEST 112 STREET        WEST 112 STREET   \n",
       "125158           450 AUDUBON AVENUE         AUDUBON AVENUE   \n",
       "182208           947 EAST 79 STREET         EAST 79 STREET   \n",
       "206474               21 ASTOR PLACE            ASTOR PLACE   \n",
       "179988  47-10 LAUREL HILL BOULEVARD  LAUREL HILL BOULEVARD   \n",
       "317961           1904 ALBANY AVENUE          ALBANY AVENUE   \n",
       "\n",
       "            Cross Street 1  ... Y Coordinate (State Plane) Park Facility Name  \\\n",
       "14705            80 STREET  ...                   190735.0        Unspecified   \n",
       "98027      BLEECKER STREET  ...                   205131.0        Unspecified   \n",
       "16524                  NaN  ...                   253086.0        Unspecified   \n",
       "320233            AVENUE H  ...                   168729.0        Unspecified   \n",
       "217077  ST NICHOLAS AVENUE  ...                   230750.0        Unspecified   \n",
       "125158     WEST 187 STREET  ...                   250000.0        Unspecified   \n",
       "182208    FLATLANDS AVENUE  ...                   170290.0        Unspecified   \n",
       "206474            BROADWAY  ...                   205232.0        Unspecified   \n",
       "179988           47 STREET  ...                   207093.0        Unspecified   \n",
       "317961            AVENUE J  ...                   167587.0        Unspecified   \n",
       "\n",
       "       Park Borough Bridge Highway Name Bridge Highway Direction Road Ramp  \\\n",
       "14705        QUEENS                 NaN                      NaN       NaN   \n",
       "98027     MANHATTAN                 NaN                      NaN       NaN   \n",
       "16524     MANHATTAN                 NaN                      NaN       NaN   \n",
       "320233     BROOKLYN                 NaN                      NaN       NaN   \n",
       "217077    MANHATTAN                 NaN                      NaN       NaN   \n",
       "125158    MANHATTAN                 NaN                      NaN       NaN   \n",
       "182208     BROOKLYN                 NaN                      NaN       NaN   \n",
       "206474    MANHATTAN                 NaN                      NaN       NaN   \n",
       "179988       QUEENS                 NaN                      NaN       NaN   \n",
       "317961     BROOKLYN                 NaN                      NaN       NaN   \n",
       "\n",
       "       Bridge Highway Segment   Latitude  Longitude  \\\n",
       "14705                     NaN  40.690117 -73.861147   \n",
       "98027                     NaN  40.729714 -74.000743   \n",
       "16524                     NaN  40.861310 -73.921232   \n",
       "320233                    NaN  40.629791 -73.958378   \n",
       "217077                    NaN  40.800022 -73.952858   \n",
       "125158                    NaN  40.852846 -73.929346   \n",
       "182208                    NaN  40.634050 -73.912965   \n",
       "206474                    NaN  40.729991 -73.992221   \n",
       "179988                    NaN  40.735071 -73.918971   \n",
       "317961                    NaN  40.626647 -73.936423   \n",
       "\n",
       "                                        Location  \n",
       "14705    (40.69011651875657, -73.86114687918405)  \n",
       "98027     (40.7297138891165, -74.00074326038714)  \n",
       "16524    (40.86131044941899, -73.92123202230121)  \n",
       "320233   (40.62979113339484, -73.95837849045108)  \n",
       "217077  (40.800021785765296, -73.95285785808254)  \n",
       "125158   (40.85284555442006, -73.92934629554779)  \n",
       "182208  (40.634050341481164, -73.91296502162781)  \n",
       "206474  (40.729990849056996, -73.99222099001472)  \n",
       "179988   (40.73507059247194, -73.91897087656503)  \n",
       "317961   (40.62664653889243, -73.93642328148555)  \n",
       "\n",
       "[10 rows x 34 columns]"
      ]
     },
     "execution_count": 66,
     "metadata": {},
     "output_type": "execute_result"
    }
   ],
   "source": [
    "data_mod.sample(10)"
   ]
  },
  {
   "cell_type": "code",
   "execution_count": 67,
   "id": "73b2bad6",
   "metadata": {},
   "outputs": [
    {
     "data": {
      "text/plain": [
       "Index(['Created Date', 'Closed Date', 'Agency Name', 'Complaint Type',\n",
       "       'Descriptor', 'Location Type', 'Incident Zip', 'Incident Address',\n",
       "       'Street Name', 'Cross Street 1', 'Cross Street 2',\n",
       "       'Intersection Street 1', 'Intersection Street 2', 'Address Type',\n",
       "       'City', 'Landmark', 'Facility Type', 'Status', 'Due Date',\n",
       "       'Resolution Description', 'Resolution Action Updated Date',\n",
       "       'Community Board', 'Borough', 'X Coordinate (State Plane)',\n",
       "       'Y Coordinate (State Plane)', 'Park Facility Name', 'Park Borough',\n",
       "       'Bridge Highway Name', 'Bridge Highway Direction', 'Road Ramp',\n",
       "       'Bridge Highway Segment', 'Latitude', 'Longitude', 'Location'],\n",
       "      dtype='object')"
      ]
     },
     "execution_count": 67,
     "metadata": {},
     "output_type": "execute_result"
    }
   ],
   "source": [
    "data_mod.columns"
   ]
  },
  {
   "cell_type": "code",
   "execution_count": 68,
   "id": "0465b07e",
   "metadata": {},
   "outputs": [
    {
     "name": "stdout",
     "output_type": "stream",
     "text": [
      "<class 'pandas.core.frame.DataFrame'>\n",
      "RangeIndex: 364558 entries, 0 to 364557\n",
      "Data columns (total 34 columns):\n",
      " #   Column                          Non-Null Count   Dtype  \n",
      "---  ------                          --------------   -----  \n",
      " 0   Created Date                    364558 non-null  object \n",
      " 1   Closed Date                     362177 non-null  object \n",
      " 2   Agency Name                     364558 non-null  object \n",
      " 3   Complaint Type                  364558 non-null  object \n",
      " 4   Descriptor                      358057 non-null  object \n",
      " 5   Location Type                   364425 non-null  object \n",
      " 6   Incident Zip                    361560 non-null  float64\n",
      " 7   Incident Address                312859 non-null  object \n",
      " 8   Street Name                     312859 non-null  object \n",
      " 9   Cross Street 1                  307370 non-null  object \n",
      " 10  Cross Street 2                  306753 non-null  object \n",
      " 11  Intersection Street 1           51120 non-null   object \n",
      " 12  Intersection Street 2           50512 non-null   object \n",
      " 13  Address Type                    361306 non-null  object \n",
      " 14  City                            361561 non-null  object \n",
      " 15  Landmark                        375 non-null     object \n",
      " 16  Facility Type                   362169 non-null  object \n",
      " 17  Status                          364558 non-null  object \n",
      " 18  Due Date                        364555 non-null  object \n",
      " 19  Resolution Description          364558 non-null  object \n",
      " 20  Resolution Action Updated Date  362156 non-null  object \n",
      " 21  Community Board                 364558 non-null  object \n",
      " 22  Borough                         364558 non-null  object \n",
      " 23  X Coordinate (State Plane)      360528 non-null  float64\n",
      " 24  Y Coordinate (State Plane)      360528 non-null  float64\n",
      " 25  Park Facility Name              364558 non-null  object \n",
      " 26  Park Borough                    364558 non-null  object \n",
      " 27  Bridge Highway Name             297 non-null     object \n",
      " 28  Bridge Highway Direction        297 non-null     object \n",
      " 29  Road Ramp                       262 non-null     object \n",
      " 30  Bridge Highway Segment          262 non-null     object \n",
      " 31  Latitude                        360528 non-null  float64\n",
      " 32  Longitude                       360528 non-null  float64\n",
      " 33  Location                        360528 non-null  object \n",
      "dtypes: float64(5), object(29)\n",
      "memory usage: 94.6+ MB\n"
     ]
    }
   ],
   "source": [
    "# Final info.(features) after cleaning\n",
    "data_mod.info()"
   ]
  },
  {
   "cell_type": "markdown",
   "id": "80c285de",
   "metadata": {},
   "source": [
    "### 2. Read or convert the columns ‘Created Date’ and Closed Date’ to datetime datatype and create a new column ‘Request_Closing_Time’ as the time elapsed between request creation and request closing"
   ]
  },
  {
   "cell_type": "markdown",
   "id": "96ce7b0d",
   "metadata": {},
   "source": [
    "Now, converting the columns ‘Created Date’ and Closed Date’ to datetime datatype and create a new column ‘Request_Closing_Time’ as the time elapsed between request creation and request closing."
   ]
  },
  {
   "cell_type": "code",
   "execution_count": 69,
   "id": "e071894c",
   "metadata": {},
   "outputs": [],
   "source": [
    "data_mod['Closed Date'] = pd.to_datetime(data_mod['Closed Date'])\n",
    "data_mod['Created Date'] = pd.to_datetime(data_mod['Created Date'])\n",
    "\n",
    "data_mod['Request_Closing_Time'] = data_mod['Closed Date'] - data_mod['Created Date']\n",
    "\n",
    "#data_mod = data_mod[(data_mod.Request_Closing_Time)>=0]"
   ]
  },
  {
   "cell_type": "code",
   "execution_count": 70,
   "id": "1a3b0249",
   "metadata": {},
   "outputs": [
    {
     "data": {
      "text/plain": [
       "364553   2015-01-01 10:22:31\n",
       "364554   2015-01-01 02:25:02\n",
       "364555   2015-01-01 00:20:33\n",
       "364556   2015-01-01 02:42:22\n",
       "364557   2015-01-01 02:47:50\n",
       "Name: Closed Date, dtype: datetime64[ns]"
      ]
     },
     "execution_count": 70,
     "metadata": {},
     "output_type": "execute_result"
    }
   ],
   "source": [
    "data_mod['Closed Date'].tail()"
   ]
  },
  {
   "cell_type": "code",
   "execution_count": 71,
   "id": "9029da56",
   "metadata": {},
   "outputs": [
    {
     "data": {
      "text/plain": [
       "364553   2015-01-01 00:04:44\n",
       "364554   2015-01-01 00:04:28\n",
       "364555   2015-01-01 00:01:30\n",
       "364556   2015-01-01 00:01:29\n",
       "364557   2015-01-01 00:00:50\n",
       "Name: Created Date, dtype: datetime64[ns]"
      ]
     },
     "execution_count": 71,
     "metadata": {},
     "output_type": "execute_result"
    }
   ],
   "source": [
    "data_mod['Created Date'].tail()"
   ]
  },
  {
   "cell_type": "code",
   "execution_count": 72,
   "id": "86e15c29",
   "metadata": {},
   "outputs": [
    {
     "data": {
      "text/plain": [
       "364553   0 days 10:17:47\n",
       "364554   0 days 02:20:34\n",
       "364555   0 days 00:19:03\n",
       "364556   0 days 02:40:53\n",
       "364557   0 days 02:47:00\n",
       "Name: Request_Closing_Time, dtype: timedelta64[ns]"
      ]
     },
     "execution_count": 72,
     "metadata": {},
     "output_type": "execute_result"
    }
   ],
   "source": [
    "data_mod.Request_Closing_Time.tail()"
   ]
  },
  {
   "cell_type": "code",
   "execution_count": 73,
   "id": "b2e34be3",
   "metadata": {},
   "outputs": [
    {
     "name": "stdout",
     "output_type": "stream",
     "text": [
      "<class 'pandas.core.frame.DataFrame'>\n",
      "RangeIndex: 364558 entries, 0 to 364557\n",
      "Data columns (total 35 columns):\n",
      " #   Column                          Non-Null Count   Dtype          \n",
      "---  ------                          --------------   -----          \n",
      " 0   Created Date                    364558 non-null  datetime64[ns] \n",
      " 1   Closed Date                     362177 non-null  datetime64[ns] \n",
      " 2   Agency Name                     364558 non-null  object         \n",
      " 3   Complaint Type                  364558 non-null  object         \n",
      " 4   Descriptor                      358057 non-null  object         \n",
      " 5   Location Type                   364425 non-null  object         \n",
      " 6   Incident Zip                    361560 non-null  float64        \n",
      " 7   Incident Address                312859 non-null  object         \n",
      " 8   Street Name                     312859 non-null  object         \n",
      " 9   Cross Street 1                  307370 non-null  object         \n",
      " 10  Cross Street 2                  306753 non-null  object         \n",
      " 11  Intersection Street 1           51120 non-null   object         \n",
      " 12  Intersection Street 2           50512 non-null   object         \n",
      " 13  Address Type                    361306 non-null  object         \n",
      " 14  City                            361561 non-null  object         \n",
      " 15  Landmark                        375 non-null     object         \n",
      " 16  Facility Type                   362169 non-null  object         \n",
      " 17  Status                          364558 non-null  object         \n",
      " 18  Due Date                        364555 non-null  object         \n",
      " 19  Resolution Description          364558 non-null  object         \n",
      " 20  Resolution Action Updated Date  362156 non-null  object         \n",
      " 21  Community Board                 364558 non-null  object         \n",
      " 22  Borough                         364558 non-null  object         \n",
      " 23  X Coordinate (State Plane)      360528 non-null  float64        \n",
      " 24  Y Coordinate (State Plane)      360528 non-null  float64        \n",
      " 25  Park Facility Name              364558 non-null  object         \n",
      " 26  Park Borough                    364558 non-null  object         \n",
      " 27  Bridge Highway Name             297 non-null     object         \n",
      " 28  Bridge Highway Direction        297 non-null     object         \n",
      " 29  Road Ramp                       262 non-null     object         \n",
      " 30  Bridge Highway Segment          262 non-null     object         \n",
      " 31  Latitude                        360528 non-null  float64        \n",
      " 32  Longitude                       360528 non-null  float64        \n",
      " 33  Location                        360528 non-null  object         \n",
      " 34  Request_Closing_Time            362177 non-null  timedelta64[ns]\n",
      "dtypes: datetime64[ns](2), float64(5), object(27), timedelta64[ns](1)\n",
      "memory usage: 97.3+ MB\n"
     ]
    }
   ],
   "source": [
    "data_mod.info()"
   ]
  },
  {
   "cell_type": "code",
   "execution_count": 74,
   "id": "55e45b3b",
   "metadata": {},
   "outputs": [
    {
     "data": {
      "text/html": [
       "<div>\n",
       "<style scoped>\n",
       "    .dataframe tbody tr th:only-of-type {\n",
       "        vertical-align: middle;\n",
       "    }\n",
       "\n",
       "    .dataframe tbody tr th {\n",
       "        vertical-align: top;\n",
       "    }\n",
       "\n",
       "    .dataframe thead th {\n",
       "        text-align: right;\n",
       "    }\n",
       "</style>\n",
       "<table border=\"1\" class=\"dataframe\">\n",
       "  <thead>\n",
       "    <tr style=\"text-align: right;\">\n",
       "      <th></th>\n",
       "      <th>Created Date</th>\n",
       "      <th>Closed Date</th>\n",
       "      <th>Agency Name</th>\n",
       "      <th>Complaint Type</th>\n",
       "      <th>Descriptor</th>\n",
       "      <th>Location Type</th>\n",
       "      <th>Incident Zip</th>\n",
       "      <th>Incident Address</th>\n",
       "      <th>Street Name</th>\n",
       "      <th>Cross Street 1</th>\n",
       "      <th>...</th>\n",
       "      <th>Park Facility Name</th>\n",
       "      <th>Park Borough</th>\n",
       "      <th>Bridge Highway Name</th>\n",
       "      <th>Bridge Highway Direction</th>\n",
       "      <th>Road Ramp</th>\n",
       "      <th>Bridge Highway Segment</th>\n",
       "      <th>Latitude</th>\n",
       "      <th>Longitude</th>\n",
       "      <th>Location</th>\n",
       "      <th>Request_Closing_Time</th>\n",
       "    </tr>\n",
       "  </thead>\n",
       "  <tbody>\n",
       "    <tr>\n",
       "      <th>134841</th>\n",
       "      <td>2015-08-27 15:56:42</td>\n",
       "      <td>2015-08-27 16:56:12</td>\n",
       "      <td>New York City Police Department</td>\n",
       "      <td>Noise - Commercial</td>\n",
       "      <td>Banging/Pounding</td>\n",
       "      <td>Store/Commercial</td>\n",
       "      <td>11103.0</td>\n",
       "      <td>46-03 BROADWAY</td>\n",
       "      <td>BROADWAY</td>\n",
       "      <td>46 STREET</td>\n",
       "      <td>...</td>\n",
       "      <td>Unspecified</td>\n",
       "      <td>QUEENS</td>\n",
       "      <td>NaN</td>\n",
       "      <td>NaN</td>\n",
       "      <td>NaN</td>\n",
       "      <td>NaN</td>\n",
       "      <td>40.756665</td>\n",
       "      <td>-73.914075</td>\n",
       "      <td>(40.7566654862846, -73.91407536255473)</td>\n",
       "      <td>0 days 00:59:30</td>\n",
       "    </tr>\n",
       "    <tr>\n",
       "      <th>139803</th>\n",
       "      <td>2015-08-23 00:19:17</td>\n",
       "      <td>2015-08-23 03:08:43</td>\n",
       "      <td>New York City Police Department</td>\n",
       "      <td>Noise - Commercial</td>\n",
       "      <td>Loud Music/Party</td>\n",
       "      <td>Store/Commercial</td>\n",
       "      <td>11225.0</td>\n",
       "      <td>559 FLATBUSH AVENUE</td>\n",
       "      <td>FLATBUSH AVENUE</td>\n",
       "      <td>MAPLE STREET</td>\n",
       "      <td>...</td>\n",
       "      <td>Unspecified</td>\n",
       "      <td>BROOKLYN</td>\n",
       "      <td>NaN</td>\n",
       "      <td>NaN</td>\n",
       "      <td>NaN</td>\n",
       "      <td>NaN</td>\n",
       "      <td>40.660179</td>\n",
       "      <td>-73.960609</td>\n",
       "      <td>(40.66017943032953, -73.96060861302107)</td>\n",
       "      <td>0 days 02:49:26</td>\n",
       "    </tr>\n",
       "    <tr>\n",
       "      <th>347968</th>\n",
       "      <td>2015-01-26 12:25:13</td>\n",
       "      <td>2015-01-26 19:32:52</td>\n",
       "      <td>New York City Police Department</td>\n",
       "      <td>Blocked Driveway</td>\n",
       "      <td>No Access</td>\n",
       "      <td>Street/Sidewalk</td>\n",
       "      <td>11210.0</td>\n",
       "      <td>1084 EAST 29 STREET</td>\n",
       "      <td>EAST 29 STREET</td>\n",
       "      <td>AVENUE J</td>\n",
       "      <td>...</td>\n",
       "      <td>Unspecified</td>\n",
       "      <td>BROOKLYN</td>\n",
       "      <td>NaN</td>\n",
       "      <td>NaN</td>\n",
       "      <td>NaN</td>\n",
       "      <td>NaN</td>\n",
       "      <td>40.624871</td>\n",
       "      <td>-73.947542</td>\n",
       "      <td>(40.62487078058429, -73.9475419584452)</td>\n",
       "      <td>0 days 07:07:39</td>\n",
       "    </tr>\n",
       "    <tr>\n",
       "      <th>306275</th>\n",
       "      <td>2015-03-22 00:21:47</td>\n",
       "      <td>2015-03-22 00:54:21</td>\n",
       "      <td>New York City Police Department</td>\n",
       "      <td>Noise - Commercial</td>\n",
       "      <td>Loud Music/Party</td>\n",
       "      <td>Club/Bar/Restaurant</td>\n",
       "      <td>10014.0</td>\n",
       "      <td>455 HUDSON STREET</td>\n",
       "      <td>HUDSON STREET</td>\n",
       "      <td>MORTON STREET</td>\n",
       "      <td>...</td>\n",
       "      <td>Unspecified</td>\n",
       "      <td>MANHATTAN</td>\n",
       "      <td>NaN</td>\n",
       "      <td>NaN</td>\n",
       "      <td>NaN</td>\n",
       "      <td>NaN</td>\n",
       "      <td>40.731281</td>\n",
       "      <td>-74.006697</td>\n",
       "      <td>(40.73128095200977, -74.00669671709193)</td>\n",
       "      <td>0 days 00:32:34</td>\n",
       "    </tr>\n",
       "  </tbody>\n",
       "</table>\n",
       "<p>4 rows × 35 columns</p>\n",
       "</div>"
      ],
      "text/plain": [
       "              Created Date         Closed Date  \\\n",
       "134841 2015-08-27 15:56:42 2015-08-27 16:56:12   \n",
       "139803 2015-08-23 00:19:17 2015-08-23 03:08:43   \n",
       "347968 2015-01-26 12:25:13 2015-01-26 19:32:52   \n",
       "306275 2015-03-22 00:21:47 2015-03-22 00:54:21   \n",
       "\n",
       "                            Agency Name      Complaint Type        Descriptor  \\\n",
       "134841  New York City Police Department  Noise - Commercial  Banging/Pounding   \n",
       "139803  New York City Police Department  Noise - Commercial  Loud Music/Party   \n",
       "347968  New York City Police Department    Blocked Driveway         No Access   \n",
       "306275  New York City Police Department  Noise - Commercial  Loud Music/Party   \n",
       "\n",
       "              Location Type  Incident Zip     Incident Address  \\\n",
       "134841     Store/Commercial       11103.0       46-03 BROADWAY   \n",
       "139803     Store/Commercial       11225.0  559 FLATBUSH AVENUE   \n",
       "347968      Street/Sidewalk       11210.0  1084 EAST 29 STREET   \n",
       "306275  Club/Bar/Restaurant       10014.0    455 HUDSON STREET   \n",
       "\n",
       "            Street Name Cross Street 1  ... Park Facility Name Park Borough  \\\n",
       "134841         BROADWAY      46 STREET  ...        Unspecified       QUEENS   \n",
       "139803  FLATBUSH AVENUE   MAPLE STREET  ...        Unspecified     BROOKLYN   \n",
       "347968   EAST 29 STREET       AVENUE J  ...        Unspecified     BROOKLYN   \n",
       "306275    HUDSON STREET  MORTON STREET  ...        Unspecified    MANHATTAN   \n",
       "\n",
       "       Bridge Highway Name Bridge Highway Direction Road Ramp  \\\n",
       "134841                 NaN                      NaN       NaN   \n",
       "139803                 NaN                      NaN       NaN   \n",
       "347968                 NaN                      NaN       NaN   \n",
       "306275                 NaN                      NaN       NaN   \n",
       "\n",
       "       Bridge Highway Segment   Latitude  Longitude  \\\n",
       "134841                    NaN  40.756665 -73.914075   \n",
       "139803                    NaN  40.660179 -73.960609   \n",
       "347968                    NaN  40.624871 -73.947542   \n",
       "306275                    NaN  40.731281 -74.006697   \n",
       "\n",
       "                                       Location Request_Closing_Time  \n",
       "134841   (40.7566654862846, -73.91407536255473)      0 days 00:59:30  \n",
       "139803  (40.66017943032953, -73.96060861302107)      0 days 02:49:26  \n",
       "347968   (40.62487078058429, -73.9475419584452)      0 days 07:07:39  \n",
       "306275  (40.73128095200977, -74.00669671709193)      0 days 00:32:34  \n",
       "\n",
       "[4 rows x 35 columns]"
      ]
     },
     "execution_count": 74,
     "metadata": {},
     "output_type": "execute_result"
    }
   ],
   "source": [
    "data_mod.sample(4)"
   ]
  },
  {
   "cell_type": "code",
   "execution_count": 75,
   "id": "a3018341",
   "metadata": {},
   "outputs": [
    {
     "data": {
      "text/plain": [
       "Index(['Created Date', 'Closed Date', 'Agency Name', 'Complaint Type',\n",
       "       'Descriptor', 'Location Type', 'Incident Zip', 'Incident Address',\n",
       "       'Street Name', 'Cross Street 1', 'Cross Street 2',\n",
       "       'Intersection Street 1', 'Intersection Street 2', 'Address Type',\n",
       "       'City', 'Landmark', 'Facility Type', 'Status', 'Due Date',\n",
       "       'Resolution Description', 'Resolution Action Updated Date',\n",
       "       'Community Board', 'Borough', 'X Coordinate (State Plane)',\n",
       "       'Y Coordinate (State Plane)', 'Park Facility Name', 'Park Borough',\n",
       "       'Bridge Highway Name', 'Bridge Highway Direction', 'Road Ramp',\n",
       "       'Bridge Highway Segment', 'Latitude', 'Longitude', 'Location',\n",
       "       'Request_Closing_Time'],\n",
       "      dtype='object')"
      ]
     },
     "execution_count": 75,
     "metadata": {},
     "output_type": "execute_result"
    }
   ],
   "source": [
    "data_mod.columns"
   ]
  },
  {
   "cell_type": "markdown",
   "id": "4e822ead",
   "metadata": {},
   "source": [
    "### 3. Provide major insights/patterns that you can offer in a visual format (graphs or tables) we compe up with  4 major conclusions  after generic data mining"
   ]
  },
  {
   "cell_type": "markdown",
   "id": "973cf954",
   "metadata": {},
   "source": [
    "Now, lets visualize some basic results that we can conclude from the data. For instance, which type of complaint is more dominant?\n",
    "First, we will attempt the visualization of a single feature (complain type). Then, we will do the same for other features. "
   ]
  },
  {
   "cell_type": "code",
   "execution_count": 76,
   "id": "d0b35bcf",
   "metadata": {},
   "outputs": [
    {
     "data": {
      "text/plain": [
       "Blocked Driveway             100881\n",
       "Illegal Parking               92679\n",
       "Noise - Street/Sidewalk       51692\n",
       "Noise - Commercial            44109\n",
       "Derelict Vehicle              21661\n",
       "Noise - Vehicle               19352\n",
       "Animal Abuse                  10541\n",
       "Traffic                        5198\n",
       "Homeless Encampment            4879\n",
       "Vending                        4192\n",
       "Noise - Park                   4109\n",
       "Drinking                       1409\n",
       "Noise - House of Worship       1070\n",
       "Posting Advertisement           681\n",
       "Urinating in Public             641\n",
       "Bike/Roller/Skate Chronic       478\n",
       "Panhandling                     327\n",
       "Disorderly Youth                315\n",
       "Illegal Fireworks               172\n",
       "Graffiti                        157\n",
       "Agency Issues                     8\n",
       "Squeegee                          4\n",
       "Ferry Complaint                   2\n",
       "Animal in a Park                  1\n",
       "Name: Complaint Type, dtype: int64"
      ]
     },
     "execution_count": 76,
     "metadata": {},
     "output_type": "execute_result"
    }
   ],
   "source": [
    "data_complaint = data['Complaint Type'].value_counts()\n",
    "data_complaint"
   ]
  },
  {
   "cell_type": "code",
   "execution_count": 77,
   "id": "9c8eb146",
   "metadata": {},
   "outputs": [
    {
     "data": {
      "text/html": [
       "<div>\n",
       "<style scoped>\n",
       "    .dataframe tbody tr th:only-of-type {\n",
       "        vertical-align: middle;\n",
       "    }\n",
       "\n",
       "    .dataframe tbody tr th {\n",
       "        vertical-align: top;\n",
       "    }\n",
       "\n",
       "    .dataframe thead th {\n",
       "        text-align: right;\n",
       "    }\n",
       "</style>\n",
       "<table border=\"1\" class=\"dataframe\">\n",
       "  <thead>\n",
       "    <tr style=\"text-align: right;\">\n",
       "      <th></th>\n",
       "      <th>Complaint Type</th>\n",
       "    </tr>\n",
       "  </thead>\n",
       "  <tbody>\n",
       "    <tr>\n",
       "      <th>Blocked Driveway</th>\n",
       "      <td>100881</td>\n",
       "    </tr>\n",
       "    <tr>\n",
       "      <th>Illegal Parking</th>\n",
       "      <td>92679</td>\n",
       "    </tr>\n",
       "    <tr>\n",
       "      <th>Noise - Street/Sidewalk</th>\n",
       "      <td>51692</td>\n",
       "    </tr>\n",
       "    <tr>\n",
       "      <th>Noise - Commercial</th>\n",
       "      <td>44109</td>\n",
       "    </tr>\n",
       "    <tr>\n",
       "      <th>Derelict Vehicle</th>\n",
       "      <td>21661</td>\n",
       "    </tr>\n",
       "    <tr>\n",
       "      <th>Noise - Vehicle</th>\n",
       "      <td>19352</td>\n",
       "    </tr>\n",
       "    <tr>\n",
       "      <th>Animal Abuse</th>\n",
       "      <td>10541</td>\n",
       "    </tr>\n",
       "    <tr>\n",
       "      <th>Traffic</th>\n",
       "      <td>5198</td>\n",
       "    </tr>\n",
       "    <tr>\n",
       "      <th>Homeless Encampment</th>\n",
       "      <td>4879</td>\n",
       "    </tr>\n",
       "    <tr>\n",
       "      <th>Vending</th>\n",
       "      <td>4192</td>\n",
       "    </tr>\n",
       "    <tr>\n",
       "      <th>Noise - Park</th>\n",
       "      <td>4109</td>\n",
       "    </tr>\n",
       "    <tr>\n",
       "      <th>Drinking</th>\n",
       "      <td>1409</td>\n",
       "    </tr>\n",
       "    <tr>\n",
       "      <th>Noise - House of Worship</th>\n",
       "      <td>1070</td>\n",
       "    </tr>\n",
       "    <tr>\n",
       "      <th>Posting Advertisement</th>\n",
       "      <td>681</td>\n",
       "    </tr>\n",
       "    <tr>\n",
       "      <th>Urinating in Public</th>\n",
       "      <td>641</td>\n",
       "    </tr>\n",
       "    <tr>\n",
       "      <th>Bike/Roller/Skate Chronic</th>\n",
       "      <td>478</td>\n",
       "    </tr>\n",
       "    <tr>\n",
       "      <th>Panhandling</th>\n",
       "      <td>327</td>\n",
       "    </tr>\n",
       "    <tr>\n",
       "      <th>Disorderly Youth</th>\n",
       "      <td>315</td>\n",
       "    </tr>\n",
       "    <tr>\n",
       "      <th>Illegal Fireworks</th>\n",
       "      <td>172</td>\n",
       "    </tr>\n",
       "    <tr>\n",
       "      <th>Graffiti</th>\n",
       "      <td>157</td>\n",
       "    </tr>\n",
       "    <tr>\n",
       "      <th>Agency Issues</th>\n",
       "      <td>8</td>\n",
       "    </tr>\n",
       "    <tr>\n",
       "      <th>Squeegee</th>\n",
       "      <td>4</td>\n",
       "    </tr>\n",
       "    <tr>\n",
       "      <th>Ferry Complaint</th>\n",
       "      <td>2</td>\n",
       "    </tr>\n",
       "    <tr>\n",
       "      <th>Animal in a Park</th>\n",
       "      <td>1</td>\n",
       "    </tr>\n",
       "  </tbody>\n",
       "</table>\n",
       "</div>"
      ],
      "text/plain": [
       "                           Complaint Type\n",
       "Blocked Driveway                   100881\n",
       "Illegal Parking                     92679\n",
       "Noise - Street/Sidewalk             51692\n",
       "Noise - Commercial                  44109\n",
       "Derelict Vehicle                    21661\n",
       "Noise - Vehicle                     19352\n",
       "Animal Abuse                        10541\n",
       "Traffic                              5198\n",
       "Homeless Encampment                  4879\n",
       "Vending                              4192\n",
       "Noise - Park                         4109\n",
       "Drinking                             1409\n",
       "Noise - House of Worship             1070\n",
       "Posting Advertisement                 681\n",
       "Urinating in Public                   641\n",
       "Bike/Roller/Skate Chronic             478\n",
       "Panhandling                           327\n",
       "Disorderly Youth                      315\n",
       "Illegal Fireworks                     172\n",
       "Graffiti                              157\n",
       "Agency Issues                           8\n",
       "Squeegee                                4\n",
       "Ferry Complaint                         2\n",
       "Animal in a Park                        1"
      ]
     },
     "execution_count": 77,
     "metadata": {},
     "output_type": "execute_result"
    }
   ],
   "source": [
    "data_complaint = data_complaint.to_frame()\n",
    "data_complaint"
   ]
  },
  {
   "cell_type": "code",
   "execution_count": null,
   "id": "f0cdffbb",
   "metadata": {},
   "outputs": [],
   "source": []
  },
  {
   "cell_type": "code",
   "execution_count": 78,
   "id": "c852dba3",
   "metadata": {},
   "outputs": [
    {
     "data": {
      "text/html": [
       "<div>\n",
       "<style scoped>\n",
       "    .dataframe tbody tr th:only-of-type {\n",
       "        vertical-align: middle;\n",
       "    }\n",
       "\n",
       "    .dataframe tbody tr th {\n",
       "        vertical-align: top;\n",
       "    }\n",
       "\n",
       "    .dataframe thead th {\n",
       "        text-align: right;\n",
       "    }\n",
       "</style>\n",
       "<table border=\"1\" class=\"dataframe\">\n",
       "  <thead>\n",
       "    <tr style=\"text-align: right;\">\n",
       "      <th></th>\n",
       "      <th>Counts</th>\n",
       "    </tr>\n",
       "  </thead>\n",
       "  <tbody>\n",
       "    <tr>\n",
       "      <th>Blocked Driveway</th>\n",
       "      <td>100881</td>\n",
       "    </tr>\n",
       "    <tr>\n",
       "      <th>Illegal Parking</th>\n",
       "      <td>92679</td>\n",
       "    </tr>\n",
       "    <tr>\n",
       "      <th>Noise - Street/Sidewalk</th>\n",
       "      <td>51692</td>\n",
       "    </tr>\n",
       "    <tr>\n",
       "      <th>Noise - Commercial</th>\n",
       "      <td>44109</td>\n",
       "    </tr>\n",
       "    <tr>\n",
       "      <th>Derelict Vehicle</th>\n",
       "      <td>21661</td>\n",
       "    </tr>\n",
       "    <tr>\n",
       "      <th>Noise - Vehicle</th>\n",
       "      <td>19352</td>\n",
       "    </tr>\n",
       "    <tr>\n",
       "      <th>Animal Abuse</th>\n",
       "      <td>10541</td>\n",
       "    </tr>\n",
       "    <tr>\n",
       "      <th>Traffic</th>\n",
       "      <td>5198</td>\n",
       "    </tr>\n",
       "    <tr>\n",
       "      <th>Homeless Encampment</th>\n",
       "      <td>4879</td>\n",
       "    </tr>\n",
       "    <tr>\n",
       "      <th>Vending</th>\n",
       "      <td>4192</td>\n",
       "    </tr>\n",
       "    <tr>\n",
       "      <th>Noise - Park</th>\n",
       "      <td>4109</td>\n",
       "    </tr>\n",
       "    <tr>\n",
       "      <th>Drinking</th>\n",
       "      <td>1409</td>\n",
       "    </tr>\n",
       "    <tr>\n",
       "      <th>Noise - House of Worship</th>\n",
       "      <td>1070</td>\n",
       "    </tr>\n",
       "    <tr>\n",
       "      <th>Posting Advertisement</th>\n",
       "      <td>681</td>\n",
       "    </tr>\n",
       "    <tr>\n",
       "      <th>Urinating in Public</th>\n",
       "      <td>641</td>\n",
       "    </tr>\n",
       "    <tr>\n",
       "      <th>Bike/Roller/Skate Chronic</th>\n",
       "      <td>478</td>\n",
       "    </tr>\n",
       "    <tr>\n",
       "      <th>Panhandling</th>\n",
       "      <td>327</td>\n",
       "    </tr>\n",
       "    <tr>\n",
       "      <th>Disorderly Youth</th>\n",
       "      <td>315</td>\n",
       "    </tr>\n",
       "    <tr>\n",
       "      <th>Illegal Fireworks</th>\n",
       "      <td>172</td>\n",
       "    </tr>\n",
       "    <tr>\n",
       "      <th>Graffiti</th>\n",
       "      <td>157</td>\n",
       "    </tr>\n",
       "    <tr>\n",
       "      <th>Agency Issues</th>\n",
       "      <td>8</td>\n",
       "    </tr>\n",
       "    <tr>\n",
       "      <th>Squeegee</th>\n",
       "      <td>4</td>\n",
       "    </tr>\n",
       "    <tr>\n",
       "      <th>Ferry Complaint</th>\n",
       "      <td>2</td>\n",
       "    </tr>\n",
       "    <tr>\n",
       "      <th>Animal in a Park</th>\n",
       "      <td>1</td>\n",
       "    </tr>\n",
       "  </tbody>\n",
       "</table>\n",
       "</div>"
      ],
      "text/plain": [
       "                           Counts\n",
       "Blocked Driveway           100881\n",
       "Illegal Parking             92679\n",
       "Noise - Street/Sidewalk     51692\n",
       "Noise - Commercial          44109\n",
       "Derelict Vehicle            21661\n",
       "Noise - Vehicle             19352\n",
       "Animal Abuse                10541\n",
       "Traffic                      5198\n",
       "Homeless Encampment          4879\n",
       "Vending                      4192\n",
       "Noise - Park                 4109\n",
       "Drinking                     1409\n",
       "Noise - House of Worship     1070\n",
       "Posting Advertisement         681\n",
       "Urinating in Public           641\n",
       "Bike/Roller/Skate Chronic     478\n",
       "Panhandling                   327\n",
       "Disorderly Youth              315\n",
       "Illegal Fireworks             172\n",
       "Graffiti                      157\n",
       "Agency Issues                   8\n",
       "Squeegee                        4\n",
       "Ferry Complaint                 2\n",
       "Animal in a Park                1"
      ]
     },
     "execution_count": 78,
     "metadata": {},
     "output_type": "execute_result"
    }
   ],
   "source": [
    "# Measuring the frequency (occurence) of the different complaint\n",
    "\n",
    "\n",
    "data_complaint = data_complaint.rename(columns={'Complaint Type':'Counts'})\n",
    "data_complaint"
   ]
  },
  {
   "cell_type": "code",
   "execution_count": 79,
   "id": "4f4453bf",
   "metadata": {},
   "outputs": [
    {
     "data": {
      "text/html": [
       "<div>\n",
       "<style scoped>\n",
       "    .dataframe tbody tr th:only-of-type {\n",
       "        vertical-align: middle;\n",
       "    }\n",
       "\n",
       "    .dataframe tbody tr th {\n",
       "        vertical-align: top;\n",
       "    }\n",
       "\n",
       "    .dataframe thead th {\n",
       "        text-align: right;\n",
       "    }\n",
       "</style>\n",
       "<table border=\"1\" class=\"dataframe\">\n",
       "  <thead>\n",
       "    <tr style=\"text-align: right;\">\n",
       "      <th></th>\n",
       "      <th>Counts</th>\n",
       "      <th>Percentage</th>\n",
       "    </tr>\n",
       "  </thead>\n",
       "  <tbody>\n",
       "    <tr>\n",
       "      <th>Blocked Driveway</th>\n",
       "      <td>100881</td>\n",
       "      <td>27.67</td>\n",
       "    </tr>\n",
       "    <tr>\n",
       "      <th>Illegal Parking</th>\n",
       "      <td>92679</td>\n",
       "      <td>25.42</td>\n",
       "    </tr>\n",
       "    <tr>\n",
       "      <th>Noise - Street/Sidewalk</th>\n",
       "      <td>51692</td>\n",
       "      <td>14.18</td>\n",
       "    </tr>\n",
       "    <tr>\n",
       "      <th>Noise - Commercial</th>\n",
       "      <td>44109</td>\n",
       "      <td>12.10</td>\n",
       "    </tr>\n",
       "    <tr>\n",
       "      <th>Derelict Vehicle</th>\n",
       "      <td>21661</td>\n",
       "      <td>5.94</td>\n",
       "    </tr>\n",
       "    <tr>\n",
       "      <th>Noise - Vehicle</th>\n",
       "      <td>19352</td>\n",
       "      <td>5.31</td>\n",
       "    </tr>\n",
       "    <tr>\n",
       "      <th>Animal Abuse</th>\n",
       "      <td>10541</td>\n",
       "      <td>2.89</td>\n",
       "    </tr>\n",
       "    <tr>\n",
       "      <th>Traffic</th>\n",
       "      <td>5198</td>\n",
       "      <td>1.43</td>\n",
       "    </tr>\n",
       "    <tr>\n",
       "      <th>Homeless Encampment</th>\n",
       "      <td>4879</td>\n",
       "      <td>1.34</td>\n",
       "    </tr>\n",
       "    <tr>\n",
       "      <th>Vending</th>\n",
       "      <td>4192</td>\n",
       "      <td>1.15</td>\n",
       "    </tr>\n",
       "    <tr>\n",
       "      <th>Noise - Park</th>\n",
       "      <td>4109</td>\n",
       "      <td>1.13</td>\n",
       "    </tr>\n",
       "    <tr>\n",
       "      <th>Drinking</th>\n",
       "      <td>1409</td>\n",
       "      <td>0.39</td>\n",
       "    </tr>\n",
       "    <tr>\n",
       "      <th>Noise - House of Worship</th>\n",
       "      <td>1070</td>\n",
       "      <td>0.29</td>\n",
       "    </tr>\n",
       "    <tr>\n",
       "      <th>Posting Advertisement</th>\n",
       "      <td>681</td>\n",
       "      <td>0.19</td>\n",
       "    </tr>\n",
       "    <tr>\n",
       "      <th>Urinating in Public</th>\n",
       "      <td>641</td>\n",
       "      <td>0.18</td>\n",
       "    </tr>\n",
       "    <tr>\n",
       "      <th>Bike/Roller/Skate Chronic</th>\n",
       "      <td>478</td>\n",
       "      <td>0.13</td>\n",
       "    </tr>\n",
       "    <tr>\n",
       "      <th>Panhandling</th>\n",
       "      <td>327</td>\n",
       "      <td>0.09</td>\n",
       "    </tr>\n",
       "    <tr>\n",
       "      <th>Disorderly Youth</th>\n",
       "      <td>315</td>\n",
       "      <td>0.09</td>\n",
       "    </tr>\n",
       "    <tr>\n",
       "      <th>Illegal Fireworks</th>\n",
       "      <td>172</td>\n",
       "      <td>0.05</td>\n",
       "    </tr>\n",
       "    <tr>\n",
       "      <th>Graffiti</th>\n",
       "      <td>157</td>\n",
       "      <td>0.04</td>\n",
       "    </tr>\n",
       "    <tr>\n",
       "      <th>Agency Issues</th>\n",
       "      <td>8</td>\n",
       "      <td>0.00</td>\n",
       "    </tr>\n",
       "    <tr>\n",
       "      <th>Squeegee</th>\n",
       "      <td>4</td>\n",
       "      <td>0.00</td>\n",
       "    </tr>\n",
       "    <tr>\n",
       "      <th>Ferry Complaint</th>\n",
       "      <td>2</td>\n",
       "      <td>0.00</td>\n",
       "    </tr>\n",
       "    <tr>\n",
       "      <th>Animal in a Park</th>\n",
       "      <td>1</td>\n",
       "      <td>0.00</td>\n",
       "    </tr>\n",
       "  </tbody>\n",
       "</table>\n",
       "</div>"
      ],
      "text/plain": [
       "                           Counts  Percentage\n",
       "Blocked Driveway           100881       27.67\n",
       "Illegal Parking             92679       25.42\n",
       "Noise - Street/Sidewalk     51692       14.18\n",
       "Noise - Commercial          44109       12.10\n",
       "Derelict Vehicle            21661        5.94\n",
       "Noise - Vehicle             19352        5.31\n",
       "Animal Abuse                10541        2.89\n",
       "Traffic                      5198        1.43\n",
       "Homeless Encampment          4879        1.34\n",
       "Vending                      4192        1.15\n",
       "Noise - Park                 4109        1.13\n",
       "Drinking                     1409        0.39\n",
       "Noise - House of Worship     1070        0.29\n",
       "Posting Advertisement         681        0.19\n",
       "Urinating in Public           641        0.18\n",
       "Bike/Roller/Skate Chronic     478        0.13\n",
       "Panhandling                   327        0.09\n",
       "Disorderly Youth              315        0.09\n",
       "Illegal Fireworks             172        0.05\n",
       "Graffiti                      157        0.04\n",
       "Agency Issues                   8        0.00\n",
       "Squeegee                        4        0.00\n",
       "Ferry Complaint                 2        0.00\n",
       "Animal in a Park                1        0.00"
      ]
     },
     "execution_count": 79,
     "metadata": {},
     "output_type": "execute_result"
    }
   ],
   "source": [
    "# Evaluate the above in percentage\n",
    "data_complaint['Percentage'] = np.around((data_complaint.Counts/data_complaint.Counts.sum())*100,decimals=2)\n",
    "data_complaint"
   ]
  },
  {
   "cell_type": "code",
   "execution_count": 80,
   "id": "c8985edb",
   "metadata": {},
   "outputs": [
    {
     "data": {
      "text/html": [
       "<div>\n",
       "<style scoped>\n",
       "    .dataframe tbody tr th:only-of-type {\n",
       "        vertical-align: middle;\n",
       "    }\n",
       "\n",
       "    .dataframe tbody tr th {\n",
       "        vertical-align: top;\n",
       "    }\n",
       "\n",
       "    .dataframe thead th {\n",
       "        text-align: right;\n",
       "    }\n",
       "</style>\n",
       "<table border=\"1\" class=\"dataframe\">\n",
       "  <thead>\n",
       "    <tr style=\"text-align: right;\">\n",
       "      <th></th>\n",
       "      <th>Counts</th>\n",
       "      <th>Percentage</th>\n",
       "    </tr>\n",
       "  </thead>\n",
       "  <tbody>\n",
       "    <tr>\n",
       "      <th>Blocked Driveway</th>\n",
       "      <td>100881</td>\n",
       "      <td>27.67</td>\n",
       "    </tr>\n",
       "    <tr>\n",
       "      <th>Illegal Parking</th>\n",
       "      <td>92679</td>\n",
       "      <td>25.42</td>\n",
       "    </tr>\n",
       "    <tr>\n",
       "      <th>Noise - Street/Sidewalk</th>\n",
       "      <td>51692</td>\n",
       "      <td>14.18</td>\n",
       "    </tr>\n",
       "    <tr>\n",
       "      <th>Noise - Commercial</th>\n",
       "      <td>44109</td>\n",
       "      <td>12.10</td>\n",
       "    </tr>\n",
       "    <tr>\n",
       "      <th>Derelict Vehicle</th>\n",
       "      <td>21661</td>\n",
       "      <td>5.94</td>\n",
       "    </tr>\n",
       "    <tr>\n",
       "      <th>Noise - Vehicle</th>\n",
       "      <td>19352</td>\n",
       "      <td>5.31</td>\n",
       "    </tr>\n",
       "    <tr>\n",
       "      <th>Animal Abuse</th>\n",
       "      <td>10541</td>\n",
       "      <td>2.89</td>\n",
       "    </tr>\n",
       "    <tr>\n",
       "      <th>Traffic</th>\n",
       "      <td>5198</td>\n",
       "      <td>1.43</td>\n",
       "    </tr>\n",
       "    <tr>\n",
       "      <th>Homeless Encampment</th>\n",
       "      <td>4879</td>\n",
       "      <td>1.34</td>\n",
       "    </tr>\n",
       "    <tr>\n",
       "      <th>Vending</th>\n",
       "      <td>4192</td>\n",
       "      <td>1.15</td>\n",
       "    </tr>\n",
       "    <tr>\n",
       "      <th>Noise - Park</th>\n",
       "      <td>4109</td>\n",
       "      <td>1.13</td>\n",
       "    </tr>\n",
       "  </tbody>\n",
       "</table>\n",
       "</div>"
      ],
      "text/plain": [
       "                         Counts  Percentage\n",
       "Blocked Driveway         100881       27.67\n",
       "Illegal Parking           92679       25.42\n",
       "Noise - Street/Sidewalk   51692       14.18\n",
       "Noise - Commercial        44109       12.10\n",
       "Derelict Vehicle          21661        5.94\n",
       "Noise - Vehicle           19352        5.31\n",
       "Animal Abuse              10541        2.89\n",
       "Traffic                    5198        1.43\n",
       "Homeless Encampment        4879        1.34\n",
       "Vending                    4192        1.15\n",
       "Noise - Park               4109        1.13"
      ]
     },
     "execution_count": 80,
     "metadata": {},
     "output_type": "execute_result"
    }
   ],
   "source": [
    "# Keeping the major complaint types\n",
    "\n",
    "data_complaint = data_complaint[data_complaint.Percentage>1.0]\n",
    "\n",
    "data_complaint"
   ]
  },
  {
   "cell_type": "code",
   "execution_count": 81,
   "id": "05d66d59",
   "metadata": {},
   "outputs": [
    {
     "data": {
      "text/html": [
       "<div>\n",
       "<style scoped>\n",
       "    .dataframe tbody tr th:only-of-type {\n",
       "        vertical-align: middle;\n",
       "    }\n",
       "\n",
       "    .dataframe tbody tr th {\n",
       "        vertical-align: top;\n",
       "    }\n",
       "\n",
       "    .dataframe thead th {\n",
       "        text-align: right;\n",
       "    }\n",
       "</style>\n",
       "<table border=\"1\" class=\"dataframe\">\n",
       "  <thead>\n",
       "    <tr style=\"text-align: right;\">\n",
       "      <th></th>\n",
       "      <th>index</th>\n",
       "      <th>Counts</th>\n",
       "      <th>Percentage</th>\n",
       "    </tr>\n",
       "  </thead>\n",
       "  <tbody>\n",
       "    <tr>\n",
       "      <th>0</th>\n",
       "      <td>Blocked Driveway</td>\n",
       "      <td>100881</td>\n",
       "      <td>27.67</td>\n",
       "    </tr>\n",
       "    <tr>\n",
       "      <th>1</th>\n",
       "      <td>Illegal Parking</td>\n",
       "      <td>92679</td>\n",
       "      <td>25.42</td>\n",
       "    </tr>\n",
       "    <tr>\n",
       "      <th>2</th>\n",
       "      <td>Noise - Street/Sidewalk</td>\n",
       "      <td>51692</td>\n",
       "      <td>14.18</td>\n",
       "    </tr>\n",
       "    <tr>\n",
       "      <th>3</th>\n",
       "      <td>Noise - Commercial</td>\n",
       "      <td>44109</td>\n",
       "      <td>12.10</td>\n",
       "    </tr>\n",
       "    <tr>\n",
       "      <th>4</th>\n",
       "      <td>Derelict Vehicle</td>\n",
       "      <td>21661</td>\n",
       "      <td>5.94</td>\n",
       "    </tr>\n",
       "    <tr>\n",
       "      <th>5</th>\n",
       "      <td>Noise - Vehicle</td>\n",
       "      <td>19352</td>\n",
       "      <td>5.31</td>\n",
       "    </tr>\n",
       "    <tr>\n",
       "      <th>6</th>\n",
       "      <td>Animal Abuse</td>\n",
       "      <td>10541</td>\n",
       "      <td>2.89</td>\n",
       "    </tr>\n",
       "    <tr>\n",
       "      <th>7</th>\n",
       "      <td>Traffic</td>\n",
       "      <td>5198</td>\n",
       "      <td>1.43</td>\n",
       "    </tr>\n",
       "    <tr>\n",
       "      <th>8</th>\n",
       "      <td>Homeless Encampment</td>\n",
       "      <td>4879</td>\n",
       "      <td>1.34</td>\n",
       "    </tr>\n",
       "    <tr>\n",
       "      <th>9</th>\n",
       "      <td>Vending</td>\n",
       "      <td>4192</td>\n",
       "      <td>1.15</td>\n",
       "    </tr>\n",
       "    <tr>\n",
       "      <th>10</th>\n",
       "      <td>Noise - Park</td>\n",
       "      <td>4109</td>\n",
       "      <td>1.13</td>\n",
       "    </tr>\n",
       "  </tbody>\n",
       "</table>\n",
       "</div>"
      ],
      "text/plain": [
       "                      index  Counts  Percentage\n",
       "0          Blocked Driveway  100881       27.67\n",
       "1           Illegal Parking   92679       25.42\n",
       "2   Noise - Street/Sidewalk   51692       14.18\n",
       "3        Noise - Commercial   44109       12.10\n",
       "4          Derelict Vehicle   21661        5.94\n",
       "5           Noise - Vehicle   19352        5.31\n",
       "6              Animal Abuse   10541        2.89\n",
       "7                   Traffic    5198        1.43\n",
       "8       Homeless Encampment    4879        1.34\n",
       "9                   Vending    4192        1.15\n",
       "10             Noise - Park    4109        1.13"
      ]
     },
     "execution_count": 81,
     "metadata": {},
     "output_type": "execute_result"
    }
   ],
   "source": [
    "data_complaint = data_complaint.reset_index()\n",
    "data_complaint"
   ]
  },
  {
   "cell_type": "code",
   "execution_count": 82,
   "id": "1b6d8e5e",
   "metadata": {},
   "outputs": [
    {
     "data": {
      "text/html": [
       "<div>\n",
       "<style scoped>\n",
       "    .dataframe tbody tr th:only-of-type {\n",
       "        vertical-align: middle;\n",
       "    }\n",
       "\n",
       "    .dataframe tbody tr th {\n",
       "        vertical-align: top;\n",
       "    }\n",
       "\n",
       "    .dataframe thead th {\n",
       "        text-align: right;\n",
       "    }\n",
       "</style>\n",
       "<table border=\"1\" class=\"dataframe\">\n",
       "  <thead>\n",
       "    <tr style=\"text-align: right;\">\n",
       "      <th></th>\n",
       "      <th>Complaint Type</th>\n",
       "      <th>Counts</th>\n",
       "      <th>Percentage</th>\n",
       "    </tr>\n",
       "  </thead>\n",
       "  <tbody>\n",
       "    <tr>\n",
       "      <th>0</th>\n",
       "      <td>Blocked Driveway</td>\n",
       "      <td>100881</td>\n",
       "      <td>27.67</td>\n",
       "    </tr>\n",
       "    <tr>\n",
       "      <th>1</th>\n",
       "      <td>Illegal Parking</td>\n",
       "      <td>92679</td>\n",
       "      <td>25.42</td>\n",
       "    </tr>\n",
       "    <tr>\n",
       "      <th>2</th>\n",
       "      <td>Noise - Street/Sidewalk</td>\n",
       "      <td>51692</td>\n",
       "      <td>14.18</td>\n",
       "    </tr>\n",
       "    <tr>\n",
       "      <th>3</th>\n",
       "      <td>Noise - Commercial</td>\n",
       "      <td>44109</td>\n",
       "      <td>12.10</td>\n",
       "    </tr>\n",
       "    <tr>\n",
       "      <th>4</th>\n",
       "      <td>Derelict Vehicle</td>\n",
       "      <td>21661</td>\n",
       "      <td>5.94</td>\n",
       "    </tr>\n",
       "    <tr>\n",
       "      <th>5</th>\n",
       "      <td>Noise - Vehicle</td>\n",
       "      <td>19352</td>\n",
       "      <td>5.31</td>\n",
       "    </tr>\n",
       "    <tr>\n",
       "      <th>6</th>\n",
       "      <td>Animal Abuse</td>\n",
       "      <td>10541</td>\n",
       "      <td>2.89</td>\n",
       "    </tr>\n",
       "    <tr>\n",
       "      <th>7</th>\n",
       "      <td>Traffic</td>\n",
       "      <td>5198</td>\n",
       "      <td>1.43</td>\n",
       "    </tr>\n",
       "    <tr>\n",
       "      <th>8</th>\n",
       "      <td>Homeless Encampment</td>\n",
       "      <td>4879</td>\n",
       "      <td>1.34</td>\n",
       "    </tr>\n",
       "    <tr>\n",
       "      <th>9</th>\n",
       "      <td>Vending</td>\n",
       "      <td>4192</td>\n",
       "      <td>1.15</td>\n",
       "    </tr>\n",
       "    <tr>\n",
       "      <th>10</th>\n",
       "      <td>Noise - Park</td>\n",
       "      <td>4109</td>\n",
       "      <td>1.13</td>\n",
       "    </tr>\n",
       "  </tbody>\n",
       "</table>\n",
       "</div>"
      ],
      "text/plain": [
       "             Complaint Type  Counts  Percentage\n",
       "0          Blocked Driveway  100881       27.67\n",
       "1           Illegal Parking   92679       25.42\n",
       "2   Noise - Street/Sidewalk   51692       14.18\n",
       "3        Noise - Commercial   44109       12.10\n",
       "4          Derelict Vehicle   21661        5.94\n",
       "5           Noise - Vehicle   19352        5.31\n",
       "6              Animal Abuse   10541        2.89\n",
       "7                   Traffic    5198        1.43\n",
       "8       Homeless Encampment    4879        1.34\n",
       "9                   Vending    4192        1.15\n",
       "10             Noise - Park    4109        1.13"
      ]
     },
     "execution_count": 82,
     "metadata": {},
     "output_type": "execute_result"
    }
   ],
   "source": [
    "data_complaint = data_complaint.rename(columns={'index':'Complaint Type'})\n",
    "data_complaint"
   ]
  },
  {
   "cell_type": "code",
   "execution_count": 83,
   "id": "e541225d",
   "metadata": {},
   "outputs": [
    {
     "data": {
      "image/png": "[encoded data removed]",
      "text/plain": [
       "<Figure size 864x432 with 1 Axes>"
      ]
     },
     "metadata": {
      "needs_background": "light"
     },
     "output_type": "display_data"
    },
    {
     "data": {
      "text/plain": [
       "<Figure size 432x288 with 0 Axes>"
      ]
     },
     "metadata": {},
     "output_type": "display_data"
    }
   ],
   "source": [
    "# Visualization of the above evaluated dataset\n",
    "plt.figure(figsize=(12,6))\n",
    "com_type = sns.barplot(x=data_complaint['Complaint Type'],y=data_complaint.Percentage,data=data_complaint)\n",
    "com_type.set_xticklabels(com_type.get_xticklabels(), rotation=30, ha=\"right\")\n",
    "plt.title('Proportion of different complaint type (major)')\n",
    "plt.show()\n",
    "plt.tight_layout()"
   ]
  },
  {
   "cell_type": "markdown",
   "id": "2700fb27",
   "metadata": {},
   "source": [
    "From the above data (Counts and Percentage), it is clear that main complain comes from 'Blocked Driveway', 'Illegal Parking' and noise from Street/Sidewalk or Commercial. \n",
    "\n",
    "However, it is alluring to represent such results via visualization. And it is easy to realise the facts also. \n",
    "\n",
    "Now, we will do the same for several features."
   ]
  },
  {
   "cell_type": "code",
   "execution_count": 84,
   "id": "d5ba1ccf",
   "metadata": {
    "scrolled": true
   },
   "outputs": [
    {
     "data": {
      "text/html": [
       "<div>\n",
       "<style scoped>\n",
       "    .dataframe tbody tr th:only-of-type {\n",
       "        vertical-align: middle;\n",
       "    }\n",
       "\n",
       "    .dataframe tbody tr th {\n",
       "        vertical-align: top;\n",
       "    }\n",
       "\n",
       "    .dataframe thead th {\n",
       "        text-align: right;\n",
       "    }\n",
       "</style>\n",
       "<table border=\"1\" class=\"dataframe\">\n",
       "  <thead>\n",
       "    <tr style=\"text-align: right;\">\n",
       "      <th></th>\n",
       "      <th>Descriptor</th>\n",
       "    </tr>\n",
       "  </thead>\n",
       "  <tbody>\n",
       "    <tr>\n",
       "      <th>No Access</th>\n",
       "      <td>21.19</td>\n",
       "    </tr>\n",
       "    <tr>\n",
       "      <th>Loud Music/Party</th>\n",
       "      <td>19.47</td>\n",
       "    </tr>\n",
       "    <tr>\n",
       "      <th>Posted Parking Sign Violation</th>\n",
       "      <td>7.60</td>\n",
       "    </tr>\n",
       "    <tr>\n",
       "      <th>Partial Access</th>\n",
       "      <td>6.98</td>\n",
       "    </tr>\n",
       "    <tr>\n",
       "      <th>Loud Talking</th>\n",
       "      <td>6.65</td>\n",
       "    </tr>\n",
       "    <tr>\n",
       "      <th>With License Plate</th>\n",
       "      <td>6.05</td>\n",
       "    </tr>\n",
       "    <tr>\n",
       "      <th>Blocked Hydrant</th>\n",
       "      <td>5.58</td>\n",
       "    </tr>\n",
       "    <tr>\n",
       "      <th>Commercial Overnight Parking</th>\n",
       "      <td>4.19</td>\n",
       "    </tr>\n",
       "    <tr>\n",
       "      <th>Blocked Sidewalk</th>\n",
       "      <td>3.87</td>\n",
       "    </tr>\n",
       "    <tr>\n",
       "      <th>Car/Truck Music</th>\n",
       "      <td>3.33</td>\n",
       "    </tr>\n",
       "    <tr>\n",
       "      <th>Double Parked Blocking Traffic</th>\n",
       "      <td>2.00</td>\n",
       "    </tr>\n",
       "    <tr>\n",
       "      <th>Engine Idling</th>\n",
       "      <td>1.49</td>\n",
       "    </tr>\n",
       "    <tr>\n",
       "      <th>Double Parked Blocking Vehicle</th>\n",
       "      <td>1.44</td>\n",
       "    </tr>\n",
       "    <tr>\n",
       "      <th>Neglected</th>\n",
       "      <td>1.43</td>\n",
       "    </tr>\n",
       "    <tr>\n",
       "      <th>Banging/Pounding</th>\n",
       "      <td>1.38</td>\n",
       "    </tr>\n",
       "    <tr>\n",
       "      <th>Car/Truck Horn</th>\n",
       "      <td>1.25</td>\n",
       "    </tr>\n",
       "    <tr>\n",
       "      <th>Congestion/Gridlock</th>\n",
       "      <td>0.90</td>\n",
       "    </tr>\n",
       "    <tr>\n",
       "      <th>Other (complaint details)</th>\n",
       "      <td>0.70</td>\n",
       "    </tr>\n",
       "    <tr>\n",
       "      <th>In Prohibited Area</th>\n",
       "      <td>0.62</td>\n",
       "    </tr>\n",
       "    <tr>\n",
       "      <th>Overnight Commercial Storage</th>\n",
       "      <td>0.59</td>\n",
       "    </tr>\n",
       "    <tr>\n",
       "      <th>Unlicensed</th>\n",
       "      <td>0.55</td>\n",
       "    </tr>\n",
       "    <tr>\n",
       "      <th>Unauthorized Bus Layover</th>\n",
       "      <td>0.45</td>\n",
       "    </tr>\n",
       "    <tr>\n",
       "      <th>Truck Route Violation</th>\n",
       "      <td>0.31</td>\n",
       "    </tr>\n",
       "    <tr>\n",
       "      <th>Tortured</th>\n",
       "      <td>0.29</td>\n",
       "    </tr>\n",
       "    <tr>\n",
       "      <th>In Public</th>\n",
       "      <td>0.27</td>\n",
       "    </tr>\n",
       "    <tr>\n",
       "      <th>No Shelter</th>\n",
       "      <td>0.25</td>\n",
       "    </tr>\n",
       "    <tr>\n",
       "      <th>Chained</th>\n",
       "      <td>0.19</td>\n",
       "    </tr>\n",
       "    <tr>\n",
       "      <th>Vehicle</th>\n",
       "      <td>0.17</td>\n",
       "    </tr>\n",
       "    <tr>\n",
       "      <th>Detached Trailer</th>\n",
       "      <td>0.16</td>\n",
       "    </tr>\n",
       "    <tr>\n",
       "      <th>Underage - Licensed Est</th>\n",
       "      <td>0.10</td>\n",
       "    </tr>\n",
       "    <tr>\n",
       "      <th>Chronic Stoplight Violation</th>\n",
       "      <td>0.09</td>\n",
       "    </tr>\n",
       "    <tr>\n",
       "      <th>Chronic Speeding</th>\n",
       "      <td>0.09</td>\n",
       "    </tr>\n",
       "    <tr>\n",
       "      <th>In Car</th>\n",
       "      <td>0.08</td>\n",
       "    </tr>\n",
       "    <tr>\n",
       "      <th>Playing in Unsuitable Place</th>\n",
       "      <td>0.08</td>\n",
       "    </tr>\n",
       "    <tr>\n",
       "      <th>Drag Racing</th>\n",
       "      <td>0.05</td>\n",
       "    </tr>\n",
       "    <tr>\n",
       "      <th>Police Report Requested</th>\n",
       "      <td>0.03</td>\n",
       "    </tr>\n",
       "    <tr>\n",
       "      <th>Loud Television</th>\n",
       "      <td>0.03</td>\n",
       "    </tr>\n",
       "    <tr>\n",
       "      <th>After Hours - Licensed Est</th>\n",
       "      <td>0.03</td>\n",
       "    </tr>\n",
       "    <tr>\n",
       "      <th>Building</th>\n",
       "      <td>0.02</td>\n",
       "    </tr>\n",
       "    <tr>\n",
       "      <th>Nuisance/Truant</th>\n",
       "      <td>0.01</td>\n",
       "    </tr>\n",
       "    <tr>\n",
       "      <th>Police Report Not Requested</th>\n",
       "      <td>0.01</td>\n",
       "    </tr>\n",
       "    <tr>\n",
       "      <th>Language Access Complaint</th>\n",
       "      <td>0.00</td>\n",
       "    </tr>\n",
       "    <tr>\n",
       "      <th>Homeless Issue</th>\n",
       "      <td>0.00</td>\n",
       "    </tr>\n",
       "    <tr>\n",
       "      <th>Disruptive Passenger</th>\n",
       "      <td>0.00</td>\n",
       "    </tr>\n",
       "    <tr>\n",
       "      <th>Animal Waste</th>\n",
       "      <td>0.00</td>\n",
       "    </tr>\n",
       "  </tbody>\n",
       "</table>\n",
       "</div>"
      ],
      "text/plain": [
       "                                Descriptor\n",
       "No Access                            21.19\n",
       "Loud Music/Party                     19.47\n",
       "Posted Parking Sign Violation         7.60\n",
       "Partial Access                        6.98\n",
       "Loud Talking                          6.65\n",
       "With License Plate                    6.05\n",
       "Blocked Hydrant                       5.58\n",
       "Commercial Overnight Parking          4.19\n",
       "Blocked Sidewalk                      3.87\n",
       "Car/Truck Music                       3.33\n",
       "Double Parked Blocking Traffic        2.00\n",
       "Engine Idling                         1.49\n",
       "Double Parked Blocking Vehicle        1.44\n",
       "Neglected                             1.43\n",
       "Banging/Pounding                      1.38\n",
       "Car/Truck Horn                        1.25\n",
       "Congestion/Gridlock                   0.90\n",
       "Other (complaint details)             0.70\n",
       "In Prohibited Area                    0.62\n",
       "Overnight Commercial Storage          0.59\n",
       "Unlicensed                            0.55\n",
       "Unauthorized Bus Layover              0.45\n",
       "Truck Route Violation                 0.31\n",
       "Tortured                              0.29\n",
       "In Public                             0.27\n",
       "No Shelter                            0.25\n",
       "Chained                               0.19\n",
       "Vehicle                               0.17\n",
       "Detached Trailer                      0.16\n",
       "Underage - Licensed Est               0.10\n",
       "Chronic Stoplight Violation           0.09\n",
       "Chronic Speeding                      0.09\n",
       "In Car                                0.08\n",
       "Playing in Unsuitable Place           0.08\n",
       "Drag Racing                           0.05\n",
       "Police Report Requested               0.03\n",
       "Loud Television                       0.03\n",
       "After Hours - Licensed Est            0.03\n",
       "Building                              0.02\n",
       "Nuisance/Truant                       0.01\n",
       "Police Report Not Requested           0.01\n",
       "Language Access Complaint             0.00\n",
       "Homeless Issue                        0.00\n",
       "Disruptive Passenger                  0.00\n",
       "Animal Waste                          0.00"
      ]
     },
     "execution_count": 84,
     "metadata": {},
     "output_type": "execute_result"
    }
   ],
   "source": [
    "# Applying the above procedure for Descriptor\n",
    "\n",
    "data_descriptor = np.around(((data_mod['Descriptor'].value_counts()*100) / data_mod['Descriptor'].value_counts().sum()),\n",
    "                            decimals=2)\n",
    "data_descriptor = data_descriptor.to_frame()\n",
    "\n",
    "\n",
    "data_descriptor"
   ]
  },
  {
   "cell_type": "code",
   "execution_count": 85,
   "id": "fc58cd40",
   "metadata": {},
   "outputs": [
    {
     "data": {
      "text/html": [
       "<div>\n",
       "<style scoped>\n",
       "    .dataframe tbody tr th:only-of-type {\n",
       "        vertical-align: middle;\n",
       "    }\n",
       "\n",
       "    .dataframe tbody tr th {\n",
       "        vertical-align: top;\n",
       "    }\n",
       "\n",
       "    .dataframe thead th {\n",
       "        text-align: right;\n",
       "    }\n",
       "</style>\n",
       "<table border=\"1\" class=\"dataframe\">\n",
       "  <thead>\n",
       "    <tr style=\"text-align: right;\">\n",
       "      <th></th>\n",
       "      <th>Percentage</th>\n",
       "      <th>Descriptor</th>\n",
       "    </tr>\n",
       "  </thead>\n",
       "  <tbody>\n",
       "    <tr>\n",
       "      <th>No Access</th>\n",
       "      <td>21.19</td>\n",
       "      <td>No Access</td>\n",
       "    </tr>\n",
       "    <tr>\n",
       "      <th>Loud Music/Party</th>\n",
       "      <td>19.47</td>\n",
       "      <td>Loud Music/Party</td>\n",
       "    </tr>\n",
       "    <tr>\n",
       "      <th>Posted Parking Sign Violation</th>\n",
       "      <td>7.60</td>\n",
       "      <td>Posted Parking Sign Violation</td>\n",
       "    </tr>\n",
       "    <tr>\n",
       "      <th>Partial Access</th>\n",
       "      <td>6.98</td>\n",
       "      <td>Partial Access</td>\n",
       "    </tr>\n",
       "    <tr>\n",
       "      <th>Loud Talking</th>\n",
       "      <td>6.65</td>\n",
       "      <td>Loud Talking</td>\n",
       "    </tr>\n",
       "    <tr>\n",
       "      <th>With License Plate</th>\n",
       "      <td>6.05</td>\n",
       "      <td>With License Plate</td>\n",
       "    </tr>\n",
       "    <tr>\n",
       "      <th>Blocked Hydrant</th>\n",
       "      <td>5.58</td>\n",
       "      <td>Blocked Hydrant</td>\n",
       "    </tr>\n",
       "    <tr>\n",
       "      <th>Commercial Overnight Parking</th>\n",
       "      <td>4.19</td>\n",
       "      <td>Commercial Overnight Parking</td>\n",
       "    </tr>\n",
       "    <tr>\n",
       "      <th>Blocked Sidewalk</th>\n",
       "      <td>3.87</td>\n",
       "      <td>Blocked Sidewalk</td>\n",
       "    </tr>\n",
       "    <tr>\n",
       "      <th>Car/Truck Music</th>\n",
       "      <td>3.33</td>\n",
       "      <td>Car/Truck Music</td>\n",
       "    </tr>\n",
       "    <tr>\n",
       "      <th>Double Parked Blocking Traffic</th>\n",
       "      <td>2.00</td>\n",
       "      <td>Double Parked Blocking Traffic</td>\n",
       "    </tr>\n",
       "    <tr>\n",
       "      <th>Engine Idling</th>\n",
       "      <td>1.49</td>\n",
       "      <td>Engine Idling</td>\n",
       "    </tr>\n",
       "    <tr>\n",
       "      <th>Double Parked Blocking Vehicle</th>\n",
       "      <td>1.44</td>\n",
       "      <td>Double Parked Blocking Vehicle</td>\n",
       "    </tr>\n",
       "    <tr>\n",
       "      <th>Neglected</th>\n",
       "      <td>1.43</td>\n",
       "      <td>Neglected</td>\n",
       "    </tr>\n",
       "    <tr>\n",
       "      <th>Banging/Pounding</th>\n",
       "      <td>1.38</td>\n",
       "      <td>Banging/Pounding</td>\n",
       "    </tr>\n",
       "    <tr>\n",
       "      <th>Car/Truck Horn</th>\n",
       "      <td>1.25</td>\n",
       "      <td>Car/Truck Horn</td>\n",
       "    </tr>\n",
       "    <tr>\n",
       "      <th>Congestion/Gridlock</th>\n",
       "      <td>0.90</td>\n",
       "      <td>Congestion/Gridlock</td>\n",
       "    </tr>\n",
       "    <tr>\n",
       "      <th>Other (complaint details)</th>\n",
       "      <td>0.70</td>\n",
       "      <td>Other (complaint details)</td>\n",
       "    </tr>\n",
       "    <tr>\n",
       "      <th>In Prohibited Area</th>\n",
       "      <td>0.62</td>\n",
       "      <td>In Prohibited Area</td>\n",
       "    </tr>\n",
       "    <tr>\n",
       "      <th>Overnight Commercial Storage</th>\n",
       "      <td>0.59</td>\n",
       "      <td>Overnight Commercial Storage</td>\n",
       "    </tr>\n",
       "    <tr>\n",
       "      <th>Unlicensed</th>\n",
       "      <td>0.55</td>\n",
       "      <td>Unlicensed</td>\n",
       "    </tr>\n",
       "    <tr>\n",
       "      <th>Unauthorized Bus Layover</th>\n",
       "      <td>0.45</td>\n",
       "      <td>Unauthorized Bus Layover</td>\n",
       "    </tr>\n",
       "    <tr>\n",
       "      <th>Truck Route Violation</th>\n",
       "      <td>0.31</td>\n",
       "      <td>Truck Route Violation</td>\n",
       "    </tr>\n",
       "    <tr>\n",
       "      <th>Tortured</th>\n",
       "      <td>0.29</td>\n",
       "      <td>Tortured</td>\n",
       "    </tr>\n",
       "    <tr>\n",
       "      <th>In Public</th>\n",
       "      <td>0.27</td>\n",
       "      <td>In Public</td>\n",
       "    </tr>\n",
       "    <tr>\n",
       "      <th>No Shelter</th>\n",
       "      <td>0.25</td>\n",
       "      <td>No Shelter</td>\n",
       "    </tr>\n",
       "    <tr>\n",
       "      <th>Chained</th>\n",
       "      <td>0.19</td>\n",
       "      <td>Chained</td>\n",
       "    </tr>\n",
       "    <tr>\n",
       "      <th>Vehicle</th>\n",
       "      <td>0.17</td>\n",
       "      <td>Vehicle</td>\n",
       "    </tr>\n",
       "    <tr>\n",
       "      <th>Detached Trailer</th>\n",
       "      <td>0.16</td>\n",
       "      <td>Detached Trailer</td>\n",
       "    </tr>\n",
       "    <tr>\n",
       "      <th>Underage - Licensed Est</th>\n",
       "      <td>0.10</td>\n",
       "      <td>Underage - Licensed Est</td>\n",
       "    </tr>\n",
       "    <tr>\n",
       "      <th>Chronic Stoplight Violation</th>\n",
       "      <td>0.09</td>\n",
       "      <td>Chronic Stoplight Violation</td>\n",
       "    </tr>\n",
       "    <tr>\n",
       "      <th>Chronic Speeding</th>\n",
       "      <td>0.09</td>\n",
       "      <td>Chronic Speeding</td>\n",
       "    </tr>\n",
       "    <tr>\n",
       "      <th>In Car</th>\n",
       "      <td>0.08</td>\n",
       "      <td>In Car</td>\n",
       "    </tr>\n",
       "    <tr>\n",
       "      <th>Playing in Unsuitable Place</th>\n",
       "      <td>0.08</td>\n",
       "      <td>Playing in Unsuitable Place</td>\n",
       "    </tr>\n",
       "    <tr>\n",
       "      <th>Drag Racing</th>\n",
       "      <td>0.05</td>\n",
       "      <td>Drag Racing</td>\n",
       "    </tr>\n",
       "    <tr>\n",
       "      <th>Police Report Requested</th>\n",
       "      <td>0.03</td>\n",
       "      <td>Police Report Requested</td>\n",
       "    </tr>\n",
       "    <tr>\n",
       "      <th>Loud Television</th>\n",
       "      <td>0.03</td>\n",
       "      <td>Loud Television</td>\n",
       "    </tr>\n",
       "    <tr>\n",
       "      <th>After Hours - Licensed Est</th>\n",
       "      <td>0.03</td>\n",
       "      <td>After Hours - Licensed Est</td>\n",
       "    </tr>\n",
       "    <tr>\n",
       "      <th>Building</th>\n",
       "      <td>0.02</td>\n",
       "      <td>Building</td>\n",
       "    </tr>\n",
       "    <tr>\n",
       "      <th>Nuisance/Truant</th>\n",
       "      <td>0.01</td>\n",
       "      <td>Nuisance/Truant</td>\n",
       "    </tr>\n",
       "    <tr>\n",
       "      <th>Police Report Not Requested</th>\n",
       "      <td>0.01</td>\n",
       "      <td>Police Report Not Requested</td>\n",
       "    </tr>\n",
       "    <tr>\n",
       "      <th>Language Access Complaint</th>\n",
       "      <td>0.00</td>\n",
       "      <td>Language Access Complaint</td>\n",
       "    </tr>\n",
       "    <tr>\n",
       "      <th>Homeless Issue</th>\n",
       "      <td>0.00</td>\n",
       "      <td>Homeless Issue</td>\n",
       "    </tr>\n",
       "    <tr>\n",
       "      <th>Disruptive Passenger</th>\n",
       "      <td>0.00</td>\n",
       "      <td>Disruptive Passenger</td>\n",
       "    </tr>\n",
       "    <tr>\n",
       "      <th>Animal Waste</th>\n",
       "      <td>0.00</td>\n",
       "      <td>Animal Waste</td>\n",
       "    </tr>\n",
       "  </tbody>\n",
       "</table>\n",
       "</div>"
      ],
      "text/plain": [
       "                                Percentage                      Descriptor\n",
       "No Access                            21.19                       No Access\n",
       "Loud Music/Party                     19.47                Loud Music/Party\n",
       "Posted Parking Sign Violation         7.60   Posted Parking Sign Violation\n",
       "Partial Access                        6.98                  Partial Access\n",
       "Loud Talking                          6.65                    Loud Talking\n",
       "With License Plate                    6.05              With License Plate\n",
       "Blocked Hydrant                       5.58                 Blocked Hydrant\n",
       "Commercial Overnight Parking          4.19    Commercial Overnight Parking\n",
       "Blocked Sidewalk                      3.87                Blocked Sidewalk\n",
       "Car/Truck Music                       3.33                 Car/Truck Music\n",
       "Double Parked Blocking Traffic        2.00  Double Parked Blocking Traffic\n",
       "Engine Idling                         1.49                   Engine Idling\n",
       "Double Parked Blocking Vehicle        1.44  Double Parked Blocking Vehicle\n",
       "Neglected                             1.43                       Neglected\n",
       "Banging/Pounding                      1.38                Banging/Pounding\n",
       "Car/Truck Horn                        1.25                  Car/Truck Horn\n",
       "Congestion/Gridlock                   0.90             Congestion/Gridlock\n",
       "Other (complaint details)             0.70       Other (complaint details)\n",
       "In Prohibited Area                    0.62              In Prohibited Area\n",
       "Overnight Commercial Storage          0.59    Overnight Commercial Storage\n",
       "Unlicensed                            0.55                      Unlicensed\n",
       "Unauthorized Bus Layover              0.45        Unauthorized Bus Layover\n",
       "Truck Route Violation                 0.31           Truck Route Violation\n",
       "Tortured                              0.29                        Tortured\n",
       "In Public                             0.27                       In Public\n",
       "No Shelter                            0.25                      No Shelter\n",
       "Chained                               0.19                         Chained\n",
       "Vehicle                               0.17                         Vehicle\n",
       "Detached Trailer                      0.16                Detached Trailer\n",
       "Underage - Licensed Est               0.10         Underage - Licensed Est\n",
       "Chronic Stoplight Violation           0.09     Chronic Stoplight Violation\n",
       "Chronic Speeding                      0.09                Chronic Speeding\n",
       "In Car                                0.08                          In Car\n",
       "Playing in Unsuitable Place           0.08     Playing in Unsuitable Place\n",
       "Drag Racing                           0.05                     Drag Racing\n",
       "Police Report Requested               0.03         Police Report Requested\n",
       "Loud Television                       0.03                 Loud Television\n",
       "After Hours - Licensed Est            0.03      After Hours - Licensed Est\n",
       "Building                              0.02                        Building\n",
       "Nuisance/Truant                       0.01                 Nuisance/Truant\n",
       "Police Report Not Requested           0.01     Police Report Not Requested\n",
       "Language Access Complaint             0.00       Language Access Complaint\n",
       "Homeless Issue                        0.00                  Homeless Issue\n",
       "Disruptive Passenger                  0.00            Disruptive Passenger\n",
       "Animal Waste                          0.00                    Animal Waste"
      ]
     },
     "execution_count": 85,
     "metadata": {},
     "output_type": "execute_result"
    }
   ],
   "source": [
    "data_descriptor = data_descriptor.rename(columns={'Descriptor':'Percentage'})\n",
    "data_descriptor['Descriptor'] = data_descriptor.index\n",
    "data_descriptor"
   ]
  },
  {
   "cell_type": "code",
   "execution_count": 86,
   "id": "3d5fe1ad",
   "metadata": {},
   "outputs": [
    {
     "data": {
      "text/plain": [
       "['Percentage', 'Descriptor']"
      ]
     },
     "execution_count": 86,
     "metadata": {},
     "output_type": "execute_result"
    }
   ],
   "source": [
    "cols = data_descriptor.columns.tolist()\n",
    "cols"
   ]
  },
  {
   "cell_type": "code",
   "execution_count": 87,
   "id": "4ead7fb7",
   "metadata": {},
   "outputs": [
    {
     "data": {
      "text/plain": [
       "['Descriptor', 'Percentage']"
      ]
     },
     "execution_count": 87,
     "metadata": {},
     "output_type": "execute_result"
    }
   ],
   "source": [
    "cols = cols[::-1]     # cols = cols[-1:]+cols[:-1] both code print same result\n",
    "cols"
   ]
  },
  {
   "cell_type": "code",
   "execution_count": 88,
   "id": "113f760d",
   "metadata": {},
   "outputs": [
    {
     "data": {
      "text/html": [
       "<div>\n",
       "<style scoped>\n",
       "    .dataframe tbody tr th:only-of-type {\n",
       "        vertical-align: middle;\n",
       "    }\n",
       "\n",
       "    .dataframe tbody tr th {\n",
       "        vertical-align: top;\n",
       "    }\n",
       "\n",
       "    .dataframe thead th {\n",
       "        text-align: right;\n",
       "    }\n",
       "</style>\n",
       "<table border=\"1\" class=\"dataframe\">\n",
       "  <thead>\n",
       "    <tr style=\"text-align: right;\">\n",
       "      <th></th>\n",
       "      <th>Descriptor</th>\n",
       "      <th>Percentage</th>\n",
       "    </tr>\n",
       "  </thead>\n",
       "  <tbody>\n",
       "    <tr>\n",
       "      <th>No Access</th>\n",
       "      <td>No Access</td>\n",
       "      <td>21.19</td>\n",
       "    </tr>\n",
       "    <tr>\n",
       "      <th>Loud Music/Party</th>\n",
       "      <td>Loud Music/Party</td>\n",
       "      <td>19.47</td>\n",
       "    </tr>\n",
       "    <tr>\n",
       "      <th>Posted Parking Sign Violation</th>\n",
       "      <td>Posted Parking Sign Violation</td>\n",
       "      <td>7.60</td>\n",
       "    </tr>\n",
       "    <tr>\n",
       "      <th>Partial Access</th>\n",
       "      <td>Partial Access</td>\n",
       "      <td>6.98</td>\n",
       "    </tr>\n",
       "    <tr>\n",
       "      <th>Loud Talking</th>\n",
       "      <td>Loud Talking</td>\n",
       "      <td>6.65</td>\n",
       "    </tr>\n",
       "  </tbody>\n",
       "</table>\n",
       "</div>"
      ],
      "text/plain": [
       "                                                  Descriptor  Percentage\n",
       "No Access                                          No Access       21.19\n",
       "Loud Music/Party                            Loud Music/Party       19.47\n",
       "Posted Parking Sign Violation  Posted Parking Sign Violation        7.60\n",
       "Partial Access                                Partial Access        6.98\n",
       "Loud Talking                                    Loud Talking        6.65"
      ]
     },
     "execution_count": 88,
     "metadata": {},
     "output_type": "execute_result"
    }
   ],
   "source": [
    "\n",
    "\n",
    "data_descriptor = data_descriptor[cols]\n",
    "data_descriptor.head()"
   ]
  },
  {
   "cell_type": "code",
   "execution_count": 89,
   "id": "21d96f7f",
   "metadata": {},
   "outputs": [
    {
     "data": {
      "text/html": [
       "<div>\n",
       "<style scoped>\n",
       "    .dataframe tbody tr th:only-of-type {\n",
       "        vertical-align: middle;\n",
       "    }\n",
       "\n",
       "    .dataframe tbody tr th {\n",
       "        vertical-align: top;\n",
       "    }\n",
       "\n",
       "    .dataframe thead th {\n",
       "        text-align: right;\n",
       "    }\n",
       "</style>\n",
       "<table border=\"1\" class=\"dataframe\">\n",
       "  <thead>\n",
       "    <tr style=\"text-align: right;\">\n",
       "      <th></th>\n",
       "      <th>Descriptor</th>\n",
       "      <th>Percentage</th>\n",
       "    </tr>\n",
       "  </thead>\n",
       "  <tbody>\n",
       "    <tr>\n",
       "      <th>No Access</th>\n",
       "      <td>No Access</td>\n",
       "      <td>21.19</td>\n",
       "    </tr>\n",
       "    <tr>\n",
       "      <th>Loud Music/Party</th>\n",
       "      <td>Loud Music/Party</td>\n",
       "      <td>19.47</td>\n",
       "    </tr>\n",
       "    <tr>\n",
       "      <th>Posted Parking Sign Violation</th>\n",
       "      <td>Posted Parking Sign Violation</td>\n",
       "      <td>7.60</td>\n",
       "    </tr>\n",
       "    <tr>\n",
       "      <th>Partial Access</th>\n",
       "      <td>Partial Access</td>\n",
       "      <td>6.98</td>\n",
       "    </tr>\n",
       "    <tr>\n",
       "      <th>Loud Talking</th>\n",
       "      <td>Loud Talking</td>\n",
       "      <td>6.65</td>\n",
       "    </tr>\n",
       "    <tr>\n",
       "      <th>With License Plate</th>\n",
       "      <td>With License Plate</td>\n",
       "      <td>6.05</td>\n",
       "    </tr>\n",
       "    <tr>\n",
       "      <th>Blocked Hydrant</th>\n",
       "      <td>Blocked Hydrant</td>\n",
       "      <td>5.58</td>\n",
       "    </tr>\n",
       "    <tr>\n",
       "      <th>Commercial Overnight Parking</th>\n",
       "      <td>Commercial Overnight Parking</td>\n",
       "      <td>4.19</td>\n",
       "    </tr>\n",
       "    <tr>\n",
       "      <th>Blocked Sidewalk</th>\n",
       "      <td>Blocked Sidewalk</td>\n",
       "      <td>3.87</td>\n",
       "    </tr>\n",
       "    <tr>\n",
       "      <th>Car/Truck Music</th>\n",
       "      <td>Car/Truck Music</td>\n",
       "      <td>3.33</td>\n",
       "    </tr>\n",
       "    <tr>\n",
       "      <th>Double Parked Blocking Traffic</th>\n",
       "      <td>Double Parked Blocking Traffic</td>\n",
       "      <td>2.00</td>\n",
       "    </tr>\n",
       "  </tbody>\n",
       "</table>\n",
       "</div>"
      ],
      "text/plain": [
       "                                                    Descriptor  Percentage\n",
       "No Access                                            No Access       21.19\n",
       "Loud Music/Party                              Loud Music/Party       19.47\n",
       "Posted Parking Sign Violation    Posted Parking Sign Violation        7.60\n",
       "Partial Access                                  Partial Access        6.98\n",
       "Loud Talking                                      Loud Talking        6.65\n",
       "With License Plate                          With License Plate        6.05\n",
       "Blocked Hydrant                                Blocked Hydrant        5.58\n",
       "Commercial Overnight Parking      Commercial Overnight Parking        4.19\n",
       "Blocked Sidewalk                              Blocked Sidewalk        3.87\n",
       "Car/Truck Music                                Car/Truck Music        3.33\n",
       "Double Parked Blocking Traffic  Double Parked Blocking Traffic        2.00"
      ]
     },
     "execution_count": 89,
     "metadata": {},
     "output_type": "execute_result"
    }
   ],
   "source": [
    "data_descriptor = data_descriptor[(data_descriptor.Percentage) >= 2.0]\n",
    "data_descriptor"
   ]
  },
  {
   "cell_type": "code",
   "execution_count": 90,
   "id": "b36f782a",
   "metadata": {},
   "outputs": [
    {
     "data": {
      "text/html": [
       "<div>\n",
       "<style scoped>\n",
       "    .dataframe tbody tr th:only-of-type {\n",
       "        vertical-align: middle;\n",
       "    }\n",
       "\n",
       "    .dataframe tbody tr th {\n",
       "        vertical-align: top;\n",
       "    }\n",
       "\n",
       "    .dataframe thead th {\n",
       "        text-align: right;\n",
       "    }\n",
       "</style>\n",
       "<table border=\"1\" class=\"dataframe\">\n",
       "  <thead>\n",
       "    <tr style=\"text-align: right;\">\n",
       "      <th></th>\n",
       "      <th>index</th>\n",
       "      <th>Descriptor</th>\n",
       "      <th>Percentage</th>\n",
       "    </tr>\n",
       "  </thead>\n",
       "  <tbody>\n",
       "    <tr>\n",
       "      <th>0</th>\n",
       "      <td>No Access</td>\n",
       "      <td>No Access</td>\n",
       "      <td>21.19</td>\n",
       "    </tr>\n",
       "    <tr>\n",
       "      <th>1</th>\n",
       "      <td>Loud Music/Party</td>\n",
       "      <td>Loud Music/Party</td>\n",
       "      <td>19.47</td>\n",
       "    </tr>\n",
       "    <tr>\n",
       "      <th>2</th>\n",
       "      <td>Posted Parking Sign Violation</td>\n",
       "      <td>Posted Parking Sign Violation</td>\n",
       "      <td>7.60</td>\n",
       "    </tr>\n",
       "    <tr>\n",
       "      <th>3</th>\n",
       "      <td>Partial Access</td>\n",
       "      <td>Partial Access</td>\n",
       "      <td>6.98</td>\n",
       "    </tr>\n",
       "    <tr>\n",
       "      <th>4</th>\n",
       "      <td>Loud Talking</td>\n",
       "      <td>Loud Talking</td>\n",
       "      <td>6.65</td>\n",
       "    </tr>\n",
       "    <tr>\n",
       "      <th>5</th>\n",
       "      <td>With License Plate</td>\n",
       "      <td>With License Plate</td>\n",
       "      <td>6.05</td>\n",
       "    </tr>\n",
       "    <tr>\n",
       "      <th>6</th>\n",
       "      <td>Blocked Hydrant</td>\n",
       "      <td>Blocked Hydrant</td>\n",
       "      <td>5.58</td>\n",
       "    </tr>\n",
       "    <tr>\n",
       "      <th>7</th>\n",
       "      <td>Commercial Overnight Parking</td>\n",
       "      <td>Commercial Overnight Parking</td>\n",
       "      <td>4.19</td>\n",
       "    </tr>\n",
       "    <tr>\n",
       "      <th>8</th>\n",
       "      <td>Blocked Sidewalk</td>\n",
       "      <td>Blocked Sidewalk</td>\n",
       "      <td>3.87</td>\n",
       "    </tr>\n",
       "    <tr>\n",
       "      <th>9</th>\n",
       "      <td>Car/Truck Music</td>\n",
       "      <td>Car/Truck Music</td>\n",
       "      <td>3.33</td>\n",
       "    </tr>\n",
       "    <tr>\n",
       "      <th>10</th>\n",
       "      <td>Double Parked Blocking Traffic</td>\n",
       "      <td>Double Parked Blocking Traffic</td>\n",
       "      <td>2.00</td>\n",
       "    </tr>\n",
       "  </tbody>\n",
       "</table>\n",
       "</div>"
      ],
      "text/plain": [
       "                             index                      Descriptor  Percentage\n",
       "0                        No Access                       No Access       21.19\n",
       "1                 Loud Music/Party                Loud Music/Party       19.47\n",
       "2    Posted Parking Sign Violation   Posted Parking Sign Violation        7.60\n",
       "3                   Partial Access                  Partial Access        6.98\n",
       "4                     Loud Talking                    Loud Talking        6.65\n",
       "5               With License Plate              With License Plate        6.05\n",
       "6                  Blocked Hydrant                 Blocked Hydrant        5.58\n",
       "7     Commercial Overnight Parking    Commercial Overnight Parking        4.19\n",
       "8                 Blocked Sidewalk                Blocked Sidewalk        3.87\n",
       "9                  Car/Truck Music                 Car/Truck Music        3.33\n",
       "10  Double Parked Blocking Traffic  Double Parked Blocking Traffic        2.00"
      ]
     },
     "execution_count": 90,
     "metadata": {},
     "output_type": "execute_result"
    }
   ],
   "source": [
    "data_descriptor = data_descriptor.reset_index()\n",
    "data_descriptor\n"
   ]
  },
  {
   "cell_type": "code",
   "execution_count": 91,
   "id": "96a77ab8",
   "metadata": {},
   "outputs": [
    {
     "data": {
      "text/html": [
       "<div>\n",
       "<style scoped>\n",
       "    .dataframe tbody tr th:only-of-type {\n",
       "        vertical-align: middle;\n",
       "    }\n",
       "\n",
       "    .dataframe tbody tr th {\n",
       "        vertical-align: top;\n",
       "    }\n",
       "\n",
       "    .dataframe thead th {\n",
       "        text-align: right;\n",
       "    }\n",
       "</style>\n",
       "<table border=\"1\" class=\"dataframe\">\n",
       "  <thead>\n",
       "    <tr style=\"text-align: right;\">\n",
       "      <th></th>\n",
       "      <th>Descriptor</th>\n",
       "      <th>Percentage</th>\n",
       "    </tr>\n",
       "  </thead>\n",
       "  <tbody>\n",
       "    <tr>\n",
       "      <th>0</th>\n",
       "      <td>No Access</td>\n",
       "      <td>21.19</td>\n",
       "    </tr>\n",
       "    <tr>\n",
       "      <th>1</th>\n",
       "      <td>Loud Music/Party</td>\n",
       "      <td>19.47</td>\n",
       "    </tr>\n",
       "    <tr>\n",
       "      <th>2</th>\n",
       "      <td>Posted Parking Sign Violation</td>\n",
       "      <td>7.60</td>\n",
       "    </tr>\n",
       "    <tr>\n",
       "      <th>3</th>\n",
       "      <td>Partial Access</td>\n",
       "      <td>6.98</td>\n",
       "    </tr>\n",
       "    <tr>\n",
       "      <th>4</th>\n",
       "      <td>Loud Talking</td>\n",
       "      <td>6.65</td>\n",
       "    </tr>\n",
       "    <tr>\n",
       "      <th>5</th>\n",
       "      <td>With License Plate</td>\n",
       "      <td>6.05</td>\n",
       "    </tr>\n",
       "    <tr>\n",
       "      <th>6</th>\n",
       "      <td>Blocked Hydrant</td>\n",
       "      <td>5.58</td>\n",
       "    </tr>\n",
       "    <tr>\n",
       "      <th>7</th>\n",
       "      <td>Commercial Overnight Parking</td>\n",
       "      <td>4.19</td>\n",
       "    </tr>\n",
       "    <tr>\n",
       "      <th>8</th>\n",
       "      <td>Blocked Sidewalk</td>\n",
       "      <td>3.87</td>\n",
       "    </tr>\n",
       "    <tr>\n",
       "      <th>9</th>\n",
       "      <td>Car/Truck Music</td>\n",
       "      <td>3.33</td>\n",
       "    </tr>\n",
       "    <tr>\n",
       "      <th>10</th>\n",
       "      <td>Double Parked Blocking Traffic</td>\n",
       "      <td>2.00</td>\n",
       "    </tr>\n",
       "  </tbody>\n",
       "</table>\n",
       "</div>"
      ],
      "text/plain": [
       "                        Descriptor  Percentage\n",
       "0                        No Access       21.19\n",
       "1                 Loud Music/Party       19.47\n",
       "2    Posted Parking Sign Violation        7.60\n",
       "3                   Partial Access        6.98\n",
       "4                     Loud Talking        6.65\n",
       "5               With License Plate        6.05\n",
       "6                  Blocked Hydrant        5.58\n",
       "7     Commercial Overnight Parking        4.19\n",
       "8                 Blocked Sidewalk        3.87\n",
       "9                  Car/Truck Music        3.33\n",
       "10  Double Parked Blocking Traffic        2.00"
      ]
     },
     "execution_count": 91,
     "metadata": {},
     "output_type": "execute_result"
    }
   ],
   "source": [
    "data_descriptor = data_descriptor.drop(columns=['index'],axis=1)\n",
    "data_descriptor"
   ]
  },
  {
   "cell_type": "code",
   "execution_count": 92,
   "id": "dd331935",
   "metadata": {},
   "outputs": [
    {
     "data": {
      "text/html": [
       "<div>\n",
       "<style scoped>\n",
       "    .dataframe tbody tr th:only-of-type {\n",
       "        vertical-align: middle;\n",
       "    }\n",
       "\n",
       "    .dataframe tbody tr th {\n",
       "        vertical-align: top;\n",
       "    }\n",
       "\n",
       "    .dataframe thead th {\n",
       "        text-align: right;\n",
       "    }\n",
       "</style>\n",
       "<table border=\"1\" class=\"dataframe\">\n",
       "  <thead>\n",
       "    <tr style=\"text-align: right;\">\n",
       "      <th></th>\n",
       "      <th>Location Type</th>\n",
       "      <th>Percentage</th>\n",
       "    </tr>\n",
       "  </thead>\n",
       "  <tbody>\n",
       "    <tr>\n",
       "      <th>0</th>\n",
       "      <td>Street/Sidewalk</td>\n",
       "      <td>82.70</td>\n",
       "    </tr>\n",
       "    <tr>\n",
       "      <th>1</th>\n",
       "      <td>Store/Commercial</td>\n",
       "      <td>6.92</td>\n",
       "    </tr>\n",
       "    <tr>\n",
       "      <th>2</th>\n",
       "      <td>Club/Bar/Restaurant</td>\n",
       "      <td>5.91</td>\n",
       "    </tr>\n",
       "    <tr>\n",
       "      <th>3</th>\n",
       "      <td>Residential Building/House</td>\n",
       "      <td>2.43</td>\n",
       "    </tr>\n",
       "    <tr>\n",
       "      <th>4</th>\n",
       "      <td>Park/Playground</td>\n",
       "      <td>1.34</td>\n",
       "    </tr>\n",
       "    <tr>\n",
       "      <th>5</th>\n",
       "      <td>House of Worship</td>\n",
       "      <td>0.29</td>\n",
       "    </tr>\n",
       "    <tr>\n",
       "      <th>6</th>\n",
       "      <td>Residential Building</td>\n",
       "      <td>0.15</td>\n",
       "    </tr>\n",
       "  </tbody>\n",
       "</table>\n",
       "</div>"
      ],
      "text/plain": [
       "                Location Type  Percentage\n",
       "0             Street/Sidewalk       82.70\n",
       "1            Store/Commercial        6.92\n",
       "2         Club/Bar/Restaurant        5.91\n",
       "3  Residential Building/House        2.43\n",
       "4             Park/Playground        1.34\n",
       "5            House of Worship        0.29\n",
       "6        Residential Building        0.15"
      ]
     },
     "execution_count": 92,
     "metadata": {},
     "output_type": "execute_result"
    }
   ],
   "source": [
    "# Applying the above procedure for Location Type\n",
    "\n",
    "data_location_type = np.around(((data_mod['Location Type'].value_counts()*100) / data_mod['Location Type'].value_counts().sum()),\n",
    "                            decimals=2)\n",
    "data_location_type = data_location_type.to_frame()\n",
    "data_location_type = data_location_type.rename(columns={'Location Type':'Percentage'})\n",
    "data_location_type['Location Type'] = data_location_type.index\n",
    "cols = data_location_type.columns.tolist()\n",
    "cols = cols[-1:]+cols[:-1]\n",
    "data_location_type = data_location_type[cols]\n",
    "data_location_type = data_location_type[(data_location_type.Percentage) >= 0.1]\n",
    "data_location_type = data_location_type.reset_index()\n",
    "data_location_type = data_location_type.drop(columns=['index'],axis=1)\n",
    "data_location_type"
   ]
  },
  {
   "cell_type": "code",
   "execution_count": 93,
   "id": "fdeefc9b",
   "metadata": {},
   "outputs": [
    {
     "data": {
      "text/html": [
       "<div>\n",
       "<style scoped>\n",
       "    .dataframe tbody tr th:only-of-type {\n",
       "        vertical-align: middle;\n",
       "    }\n",
       "\n",
       "    .dataframe tbody tr th {\n",
       "        vertical-align: top;\n",
       "    }\n",
       "\n",
       "    .dataframe thead th {\n",
       "        text-align: right;\n",
       "    }\n",
       "</style>\n",
       "<table border=\"1\" class=\"dataframe\">\n",
       "  <thead>\n",
       "    <tr style=\"text-align: right;\">\n",
       "      <th></th>\n",
       "      <th>City</th>\n",
       "      <th>Percentage</th>\n",
       "    </tr>\n",
       "  </thead>\n",
       "  <tbody>\n",
       "    <tr>\n",
       "      <th>0</th>\n",
       "      <td>BROOKLYN</td>\n",
       "      <td>32.87</td>\n",
       "    </tr>\n",
       "    <tr>\n",
       "      <th>1</th>\n",
       "      <td>NEW YORK</td>\n",
       "      <td>21.38</td>\n",
       "    </tr>\n",
       "    <tr>\n",
       "      <th>2</th>\n",
       "      <td>BRONX</td>\n",
       "      <td>13.60</td>\n",
       "    </tr>\n",
       "    <tr>\n",
       "      <th>3</th>\n",
       "      <td>STATEN ISLAND</td>\n",
       "      <td>4.24</td>\n",
       "    </tr>\n",
       "    <tr>\n",
       "      <th>4</th>\n",
       "      <td>JAMAICA</td>\n",
       "      <td>2.47</td>\n",
       "    </tr>\n",
       "    <tr>\n",
       "      <th>5</th>\n",
       "      <td>ASTORIA</td>\n",
       "      <td>2.21</td>\n",
       "    </tr>\n",
       "    <tr>\n",
       "      <th>6</th>\n",
       "      <td>FLUSHING</td>\n",
       "      <td>2.07</td>\n",
       "    </tr>\n",
       "    <tr>\n",
       "      <th>7</th>\n",
       "      <td>RIDGEWOOD</td>\n",
       "      <td>1.77</td>\n",
       "    </tr>\n",
       "    <tr>\n",
       "      <th>8</th>\n",
       "      <td>CORONA</td>\n",
       "      <td>1.49</td>\n",
       "    </tr>\n",
       "    <tr>\n",
       "      <th>9</th>\n",
       "      <td>WOODSIDE</td>\n",
       "      <td>1.21</td>\n",
       "    </tr>\n",
       "  </tbody>\n",
       "</table>\n",
       "</div>"
      ],
      "text/plain": [
       "            City  Percentage\n",
       "0       BROOKLYN       32.87\n",
       "1       NEW YORK       21.38\n",
       "2          BRONX       13.60\n",
       "3  STATEN ISLAND        4.24\n",
       "4        JAMAICA        2.47\n",
       "5        ASTORIA        2.21\n",
       "6       FLUSHING        2.07\n",
       "7      RIDGEWOOD        1.77\n",
       "8         CORONA        1.49\n",
       "9       WOODSIDE        1.21"
      ]
     },
     "execution_count": 93,
     "metadata": {},
     "output_type": "execute_result"
    }
   ],
   "source": [
    "# Applying the above procedure for City\n",
    "\n",
    "data_city = np.around(((data_mod['City'].value_counts()*100) / data_mod['City'].value_counts().sum()),\n",
    "                            decimals=2)\n",
    "data_city = data_city.to_frame()\n",
    "data_city = data_city.rename(columns={'City':'Percentage'})\n",
    "data_city['City'] = data_city.index\n",
    "cols = data_city.columns.tolist()\n",
    "cols = cols[-1:]+cols[:-1]\n",
    "data_city = data_city[cols]\n",
    "data_city = data_city[(data_city.Percentage) >= 1.0]\n",
    "data_city = data_city.reset_index()\n",
    "data_city = data_city.drop(columns=['index'],axis=1)\n",
    "data_city"
   ]
  },
  {
   "cell_type": "code",
   "execution_count": 94,
   "id": "3fd23072",
   "metadata": {},
   "outputs": [
    {
     "data": {
      "text/html": [
       "<div>\n",
       "<style scoped>\n",
       "    .dataframe tbody tr th:only-of-type {\n",
       "        vertical-align: middle;\n",
       "    }\n",
       "\n",
       "    .dataframe tbody tr th {\n",
       "        vertical-align: top;\n",
       "    }\n",
       "\n",
       "    .dataframe thead th {\n",
       "        text-align: right;\n",
       "    }\n",
       "</style>\n",
       "<table border=\"1\" class=\"dataframe\">\n",
       "  <thead>\n",
       "    <tr style=\"text-align: right;\">\n",
       "      <th></th>\n",
       "      <th>Address Type</th>\n",
       "      <th>Percentage</th>\n",
       "    </tr>\n",
       "  </thead>\n",
       "  <tbody>\n",
       "    <tr>\n",
       "      <th>0</th>\n",
       "      <td>ADDRESS</td>\n",
       "      <td>81.01</td>\n",
       "    </tr>\n",
       "    <tr>\n",
       "      <th>1</th>\n",
       "      <td>INTERSECTION</td>\n",
       "      <td>13.98</td>\n",
       "    </tr>\n",
       "    <tr>\n",
       "      <th>2</th>\n",
       "      <td>BLOCKFACE</td>\n",
       "      <td>3.82</td>\n",
       "    </tr>\n",
       "    <tr>\n",
       "      <th>3</th>\n",
       "      <td>LATLONG</td>\n",
       "      <td>1.09</td>\n",
       "    </tr>\n",
       "    <tr>\n",
       "      <th>4</th>\n",
       "      <td>PLACENAME</td>\n",
       "      <td>0.10</td>\n",
       "    </tr>\n",
       "  </tbody>\n",
       "</table>\n",
       "</div>"
      ],
      "text/plain": [
       "   Address Type  Percentage\n",
       "0       ADDRESS       81.01\n",
       "1  INTERSECTION       13.98\n",
       "2     BLOCKFACE        3.82\n",
       "3       LATLONG        1.09\n",
       "4     PLACENAME        0.10"
      ]
     },
     "execution_count": 94,
     "metadata": {},
     "output_type": "execute_result"
    }
   ],
   "source": [
    "# Applying the above procedure for Address Type\n",
    "\n",
    "data_address_type = np.around(((data_mod['Address Type'].value_counts()*100) / data_mod['Address Type'].value_counts().sum()),\n",
    "                            decimals=2)\n",
    "data_address_type = data_address_type.to_frame()\n",
    "data_address_type = data_address_type.rename(columns={'Address Type':'Percentage'})\n",
    "data_address_type['Address Type'] = data_address_type.index\n",
    "cols = data_address_type.columns.tolist()\n",
    "cols = cols[-1:]+cols[:-1]\n",
    "data_address_type = data_address_type[cols]\n",
    "#data_address_type = data_address_type[(data_address_type.Percentage) >= 1.0]\n",
    "data_address_type = data_address_type.reset_index()\n",
    "data_address_type = data_address_type.drop(columns=['index'],axis=1)\n",
    "data_address_type"
   ]
  },
  {
   "cell_type": "code",
   "execution_count": 95,
   "id": "ca194d88",
   "metadata": {},
   "outputs": [
    {
     "data": {
      "image/png": "[encoded data removed]",
      "text/plain": [
       "<Figure size 864x720 with 4 Axes>"
      ]
     },
     "metadata": {
      "needs_background": "light"
     },
     "output_type": "display_data"
    }
   ],
   "source": [
    "fig, ax = plt.subplots(2, 2, figsize=(12, 10))\n",
    "\n",
    "#sns.set_theme(style=\"whitegrid\")\n",
    "#plt.suptitle(\"Proportion of different outcomes for few interesting features.\")\n",
    "\n",
    "descriptor = sns.barplot(ax=ax[0,0],x=data_descriptor.Descriptor,y=data_descriptor.Percentage,)\n",
    "descriptor.set_xticklabels(descriptor.get_xticklabels(), rotation=30, ha=\"right\")\n",
    "\n",
    "location_type = sns.barplot(ax=ax[0,1],x=data_location_type['Location Type'],y=data_location_type.Percentage,)\n",
    "location_type.set_xticklabels(location_type.get_xticklabels(), rotation=30, ha=\"right\")\n",
    "\n",
    "city = sns.barplot(ax=ax[1,0],x=data_city['City'],y=data_city.Percentage,)\n",
    "city.set_xticklabels(city.get_xticklabels(), rotation=30, ha=\"right\")\n",
    "\n",
    "address = sns.barplot(ax=ax[1,1],x=data_address_type['Address Type'],y=data_address_type.Percentage,)\n",
    "address.set_xticklabels(address.get_xticklabels(), rotation=30, ha=\"right\")\n",
    "\n",
    "\n",
    "#plt.subplots_adjust(left=None, bottom=None, right=None, top=0.0, wspace=None, hspace=None)\n",
    "plt.tight_layout()"
   ]
  },
  {
   "cell_type": "code",
   "execution_count": null,
   "id": "503ece75",
   "metadata": {},
   "outputs": [],
   "source": [
    "Avarage_time = np.around((data_place_CType_RCTime['DeltaT(in_hr.)'].mean()),decimals=2)\n",
    "print('Avarage time gap between logging the complaint and problem solved = ',Avarage_time, 'hour')\n",
    "Central_val = np.around((data_place_CType_RCTime['DeltaT(in_hr.)'].median()),decimals=2)\n",
    "print('Central value of the distribution = ',Central_val, 'hour')\n",
    "Most_occoor = np.around((data_place_CType_RCTime['DeltaT(in_hr.)'].mode()),decimals=2)\n",
    "print('Most occered value = ',Most_occoor, 'hour')\n",
    "stand_dev = np.around((data_place_CType_RCTime['DeltaT(in_hr.)'].std()),decimals=2)\n",
    "print('Deviation is = ',stand_dev)"
   ]
  },
  {
   "cell_type": "markdown",
   "id": "73a36be6",
   "metadata": {},
   "source": [
    "So, one can take the central value as the normal time taken to solve the problem/issue. However, as it is clear from the deviation that it spreads around 6 hr.(more than the central value) from the distribution, so it is more practical to choose average time as the normal time to solve the problem. And categorize time interval as per the codes written below. "
   ]
  },
  {
   "cell_type": "code",
   "execution_count": null,
   "id": "5b19fda1",
   "metadata": {},
   "outputs": [],
   "source": [
    "conditions = [data_place_CType_RCTime['DeltaT(in_hr.)'] <= 0.5, \n",
    "             (0.50 < data_place_CType_RCTime['DeltaT(in_hr.)']) & (data_place_CType_RCTime['DeltaT(in_hr.)'] <= 1.00),\n",
    "             (1.00 < data_place_CType_RCTime['DeltaT(in_hr.)']) & (data_place_CType_RCTime['DeltaT(in_hr.)'] <= 2.00),\n",
    "             (2.00 < data_place_CType_RCTime['DeltaT(in_hr.)']) & (data_place_CType_RCTime['DeltaT(in_hr.)'] <= 6.00),\n",
    "             (6.00 < data_place_CType_RCTime['DeltaT(in_hr.)']) & (data_place_CType_RCTime['DeltaT(in_hr.)'] <= 10.00),\n",
    "             (10.00 < data_place_CType_RCTime['DeltaT(in_hr.)'])]\n",
    "\n",
    "choices = ['Super fast','Very fast','Fast','Normal','Slow','Super Slow']\n",
    "\n",
    "data_place_CType_RCTime['Solution Status'] = np.select(conditions,choices)"
   ]
  },
  {
   "cell_type": "code",
   "execution_count": null,
   "id": "2cf45b37",
   "metadata": {},
   "outputs": [],
   "source": [
    "data_place_CType_RCTime.head(6)"
   ]
  },
  {
   "cell_type": "code",
   "execution_count": null,
   "id": "c88365ad",
   "metadata": {},
   "outputs": [],
   "source": [
    "data_place_CType_RCTime['Solution Status'].value_counts()"
   ]
  },
  {
   "cell_type": "code",
   "execution_count": null,
   "id": "3ceff865",
   "metadata": {},
   "outputs": [],
   "source": [
    "data_place_CType_RCTime['Solution Status'].value_counts().plot(kind='bar')\n",
    "plt.xlabel('Time Status')\n",
    "plt.ylabel('Counts')\n",
    "plt.title('Proportion of the fastness of different Solution status')\n",
    "plt.show()\n",
    "plt.tight_layout()"
   ]
  },
  {
   "cell_type": "markdown",
   "id": "651a83f1",
   "metadata": {},
   "source": [
    "Based on the above-discussed approximation, the proportion of the time interval (expressed in different groups/status) to solve the problem, is depicted here. And it is obvious that the 'Normal' status will dominant since the range is chosen around the average value.\n",
    "\n",
    "Now, let's see, is there any pattern for lodging a complaint.\n",
    "\n",
    "Does it depend on a particular day or is there any month where too much or fewer problems are recorded?"
   ]
  },
  {
   "cell_type": "code",
   "execution_count": null,
   "id": "e124971e",
   "metadata": {},
   "outputs": [],
   "source": [
    "data_mod['Created Date'].head(5)"
   ]
  },
  {
   "cell_type": "code",
   "execution_count": 97,
   "id": "d8e7fe3c",
   "metadata": {},
   "outputs": [
    {
     "data": {
      "text/html": [
       "<div>\n",
       "<style scoped>\n",
       "    .dataframe tbody tr th:only-of-type {\n",
       "        vertical-align: middle;\n",
       "    }\n",
       "\n",
       "    .dataframe tbody tr th {\n",
       "        vertical-align: top;\n",
       "    }\n",
       "\n",
       "    .dataframe thead th {\n",
       "        text-align: right;\n",
       "    }\n",
       "</style>\n",
       "<table border=\"1\" class=\"dataframe\">\n",
       "  <thead>\n",
       "    <tr style=\"text-align: right;\">\n",
       "      <th></th>\n",
       "      <th>Date</th>\n",
       "      <th>Month</th>\n",
       "      <th>Day</th>\n",
       "      <th>Month Name</th>\n",
       "      <th>Day No</th>\n",
       "      <th>Day Name</th>\n",
       "    </tr>\n",
       "  </thead>\n",
       "  <tbody>\n",
       "    <tr>\n",
       "      <th>23865</th>\n",
       "      <td>2015-12-07</td>\n",
       "      <td>12</td>\n",
       "      <td>7</td>\n",
       "      <td>Dec</td>\n",
       "      <td>0</td>\n",
       "      <td>Monday</td>\n",
       "    </tr>\n",
       "    <tr>\n",
       "      <th>256448</th>\n",
       "      <td>2015-05-12</td>\n",
       "      <td>5</td>\n",
       "      <td>12</td>\n",
       "      <td>May</td>\n",
       "      <td>1</td>\n",
       "      <td>Tuesday</td>\n",
       "    </tr>\n",
       "    <tr>\n",
       "      <th>9936</th>\n",
       "      <td>2015-12-20</td>\n",
       "      <td>12</td>\n",
       "      <td>20</td>\n",
       "      <td>Dec</td>\n",
       "      <td>6</td>\n",
       "      <td>Sunday</td>\n",
       "    </tr>\n",
       "    <tr>\n",
       "      <th>164263</th>\n",
       "      <td>2015-08-01</td>\n",
       "      <td>8</td>\n",
       "      <td>1</td>\n",
       "      <td>Aug</td>\n",
       "      <td>5</td>\n",
       "      <td>Saturday</td>\n",
       "    </tr>\n",
       "    <tr>\n",
       "      <th>332068</th>\n",
       "      <td>2015-02-17</td>\n",
       "      <td>2</td>\n",
       "      <td>17</td>\n",
       "      <td>Feb</td>\n",
       "      <td>1</td>\n",
       "      <td>Tuesday</td>\n",
       "    </tr>\n",
       "    <tr>\n",
       "      <th>112225</th>\n",
       "      <td>2015-09-16</td>\n",
       "      <td>9</td>\n",
       "      <td>16</td>\n",
       "      <td>Sep</td>\n",
       "      <td>2</td>\n",
       "      <td>Wednesday</td>\n",
       "    </tr>\n",
       "    <tr>\n",
       "      <th>126947</th>\n",
       "      <td>2015-09-03</td>\n",
       "      <td>9</td>\n",
       "      <td>3</td>\n",
       "      <td>Sep</td>\n",
       "      <td>3</td>\n",
       "      <td>Thursday</td>\n",
       "    </tr>\n",
       "    <tr>\n",
       "      <th>96162</th>\n",
       "      <td>2015-09-28</td>\n",
       "      <td>9</td>\n",
       "      <td>28</td>\n",
       "      <td>Sep</td>\n",
       "      <td>0</td>\n",
       "      <td>Monday</td>\n",
       "    </tr>\n",
       "    <tr>\n",
       "      <th>249041</th>\n",
       "      <td>2015-05-19</td>\n",
       "      <td>5</td>\n",
       "      <td>19</td>\n",
       "      <td>May</td>\n",
       "      <td>1</td>\n",
       "      <td>Tuesday</td>\n",
       "    </tr>\n",
       "    <tr>\n",
       "      <th>73875</th>\n",
       "      <td>2015-10-20</td>\n",
       "      <td>10</td>\n",
       "      <td>20</td>\n",
       "      <td>Oct</td>\n",
       "      <td>1</td>\n",
       "      <td>Tuesday</td>\n",
       "    </tr>\n",
       "    <tr>\n",
       "      <th>126188</th>\n",
       "      <td>2015-09-04</td>\n",
       "      <td>9</td>\n",
       "      <td>4</td>\n",
       "      <td>Sep</td>\n",
       "      <td>4</td>\n",
       "      <td>Friday</td>\n",
       "    </tr>\n",
       "    <tr>\n",
       "      <th>284346</th>\n",
       "      <td>2015-04-17</td>\n",
       "      <td>4</td>\n",
       "      <td>17</td>\n",
       "      <td>Apr</td>\n",
       "      <td>4</td>\n",
       "      <td>Friday</td>\n",
       "    </tr>\n",
       "    <tr>\n",
       "      <th>164654</th>\n",
       "      <td>2015-07-31</td>\n",
       "      <td>7</td>\n",
       "      <td>31</td>\n",
       "      <td>Jul</td>\n",
       "      <td>4</td>\n",
       "      <td>Friday</td>\n",
       "    </tr>\n",
       "    <tr>\n",
       "      <th>61426</th>\n",
       "      <td>2015-10-31</td>\n",
       "      <td>10</td>\n",
       "      <td>31</td>\n",
       "      <td>Oct</td>\n",
       "      <td>5</td>\n",
       "      <td>Saturday</td>\n",
       "    </tr>\n",
       "    <tr>\n",
       "      <th>124400</th>\n",
       "      <td>2015-09-05</td>\n",
       "      <td>9</td>\n",
       "      <td>5</td>\n",
       "      <td>Sep</td>\n",
       "      <td>5</td>\n",
       "      <td>Saturday</td>\n",
       "    </tr>\n",
       "    <tr>\n",
       "      <th>273882</th>\n",
       "      <td>2015-04-27</td>\n",
       "      <td>4</td>\n",
       "      <td>27</td>\n",
       "      <td>Apr</td>\n",
       "      <td>0</td>\n",
       "      <td>Monday</td>\n",
       "    </tr>\n",
       "    <tr>\n",
       "      <th>10877</th>\n",
       "      <td>2015-12-19</td>\n",
       "      <td>12</td>\n",
       "      <td>19</td>\n",
       "      <td>Dec</td>\n",
       "      <td>5</td>\n",
       "      <td>Saturday</td>\n",
       "    </tr>\n",
       "    <tr>\n",
       "      <th>256368</th>\n",
       "      <td>2015-05-13</td>\n",
       "      <td>5</td>\n",
       "      <td>13</td>\n",
       "      <td>May</td>\n",
       "      <td>2</td>\n",
       "      <td>Wednesday</td>\n",
       "    </tr>\n",
       "    <tr>\n",
       "      <th>30393</th>\n",
       "      <td>2015-12-01</td>\n",
       "      <td>12</td>\n",
       "      <td>1</td>\n",
       "      <td>Dec</td>\n",
       "      <td>1</td>\n",
       "      <td>Tuesday</td>\n",
       "    </tr>\n",
       "    <tr>\n",
       "      <th>261812</th>\n",
       "      <td>2015-05-08</td>\n",
       "      <td>5</td>\n",
       "      <td>8</td>\n",
       "      <td>May</td>\n",
       "      <td>4</td>\n",
       "      <td>Friday</td>\n",
       "    </tr>\n",
       "  </tbody>\n",
       "</table>\n",
       "</div>"
      ],
      "text/plain": [
       "             Date  Month  Day Month Name  Day No   Day Name\n",
       "23865  2015-12-07     12    7        Dec       0     Monday\n",
       "256448 2015-05-12      5   12        May       1    Tuesday\n",
       "9936   2015-12-20     12   20        Dec       6     Sunday\n",
       "164263 2015-08-01      8    1        Aug       5   Saturday\n",
       "332068 2015-02-17      2   17        Feb       1    Tuesday\n",
       "112225 2015-09-16      9   16        Sep       2  Wednesday\n",
       "126947 2015-09-03      9    3        Sep       3   Thursday\n",
       "96162  2015-09-28      9   28        Sep       0     Monday\n",
       "249041 2015-05-19      5   19        May       1    Tuesday\n",
       "73875  2015-10-20     10   20        Oct       1    Tuesday\n",
       "126188 2015-09-04      9    4        Sep       4     Friday\n",
       "284346 2015-04-17      4   17        Apr       4     Friday\n",
       "164654 2015-07-31      7   31        Jul       4     Friday\n",
       "61426  2015-10-31     10   31        Oct       5   Saturday\n",
       "124400 2015-09-05      9    5        Sep       5   Saturday\n",
       "273882 2015-04-27      4   27        Apr       0     Monday\n",
       "10877  2015-12-19     12   19        Dec       5   Saturday\n",
       "256368 2015-05-13      5   13        May       2  Wednesday\n",
       "30393  2015-12-01     12    1        Dec       1    Tuesday\n",
       "261812 2015-05-08      5    8        May       4     Friday"
      ]
     },
     "execution_count": 97,
     "metadata": {},
     "output_type": "execute_result"
    }
   ],
   "source": [
    "# Creating a data frame Contain Days and Months of Complaint date\n",
    "\n",
    "Year_Month_Day = pd.to_datetime(data_mod['Created Date'].dt.date)\n",
    "Month_Day = pd.DataFrame()\n",
    "Month_Day['Date'] = pd.to_datetime(Year_Month_Day.dt.date)\n",
    "Month_Day['Month'] = Year_Month_Day.dt.month\n",
    "Month_Day['Day'] = Year_Month_Day.dt.day\n",
    "Month_Day['Month Name'] = Month_Day['Month'].apply(lambda x: calendar.month_abbr[x])\n",
    "Month_Day['Day No'] = Month_Day['Date'].dt.weekday\n",
    "Month_Day['Day Name'] = Month_Day['Day No'].map({0:'Monday',1:'Tuesday',2:'Wednesday',3:'Thursday',4:'Friday',\n",
    "                                                 5:'Saturday',6:'Sunday'})\n",
    "Month_Day.sample(20)"
   ]
  },
  {
   "cell_type": "code",
   "execution_count": 98,
   "id": "80a3ae2a",
   "metadata": {},
   "outputs": [
    {
     "data": {
      "text/html": [
       "<div>\n",
       "<style scoped>\n",
       "    .dataframe tbody tr th:only-of-type {\n",
       "        vertical-align: middle;\n",
       "    }\n",
       "\n",
       "    .dataframe tbody tr th {\n",
       "        vertical-align: top;\n",
       "    }\n",
       "\n",
       "    .dataframe thead th {\n",
       "        text-align: right;\n",
       "    }\n",
       "</style>\n",
       "<table border=\"1\" class=\"dataframe\">\n",
       "  <thead>\n",
       "    <tr style=\"text-align: right;\">\n",
       "      <th></th>\n",
       "      <th>Counts</th>\n",
       "    </tr>\n",
       "  </thead>\n",
       "  <tbody>\n",
       "    <tr>\n",
       "      <th>May</th>\n",
       "      <td>36437</td>\n",
       "    </tr>\n",
       "    <tr>\n",
       "      <th>Sep</th>\n",
       "      <td>35427</td>\n",
       "    </tr>\n",
       "    <tr>\n",
       "      <th>Jun</th>\n",
       "      <td>35315</td>\n",
       "    </tr>\n",
       "    <tr>\n",
       "      <th>Aug</th>\n",
       "      <td>34956</td>\n",
       "    </tr>\n",
       "    <tr>\n",
       "      <th>Jul</th>\n",
       "      <td>34888</td>\n",
       "    </tr>\n",
       "    <tr>\n",
       "      <th>Oct</th>\n",
       "      <td>32605</td>\n",
       "    </tr>\n",
       "    <tr>\n",
       "      <th>Nov</th>\n",
       "      <td>30773</td>\n",
       "    </tr>\n",
       "    <tr>\n",
       "      <th>Dec</th>\n",
       "      <td>30521</td>\n",
       "    </tr>\n",
       "    <tr>\n",
       "      <th>Apr</th>\n",
       "      <td>27305</td>\n",
       "    </tr>\n",
       "    <tr>\n",
       "      <th>Mar</th>\n",
       "      <td>25462</td>\n",
       "    </tr>\n",
       "    <tr>\n",
       "      <th>Feb</th>\n",
       "      <td>20719</td>\n",
       "    </tr>\n",
       "    <tr>\n",
       "      <th>Jan</th>\n",
       "      <td>20150</td>\n",
       "    </tr>\n",
       "  </tbody>\n",
       "</table>\n",
       "</div>"
      ],
      "text/plain": [
       "     Counts\n",
       "May   36437\n",
       "Sep   35427\n",
       "Jun   35315\n",
       "Aug   34956\n",
       "Jul   34888\n",
       "Oct   32605\n",
       "Nov   30773\n",
       "Dec   30521\n",
       "Apr   27305\n",
       "Mar   25462\n",
       "Feb   20719\n",
       "Jan   20150"
      ]
     },
     "execution_count": 98,
     "metadata": {},
     "output_type": "execute_result"
    }
   ],
   "source": [
    "Month_plot = Month_Day['Month Name'].value_counts()\n",
    "Month_plot = Month_plot.to_frame()\n",
    "Month_plot = Month_plot.rename(columns={'Month Name':'Counts'})\n",
    "Month_plot"
   ]
  },
  {
   "cell_type": "code",
   "execution_count": 99,
   "id": "f21acb4f",
   "metadata": {},
   "outputs": [
    {
     "data": {
      "text/html": [
       "<div>\n",
       "<style scoped>\n",
       "    .dataframe tbody tr th:only-of-type {\n",
       "        vertical-align: middle;\n",
       "    }\n",
       "\n",
       "    .dataframe tbody tr th {\n",
       "        vertical-align: top;\n",
       "    }\n",
       "\n",
       "    .dataframe thead th {\n",
       "        text-align: right;\n",
       "    }\n",
       "</style>\n",
       "<table border=\"1\" class=\"dataframe\">\n",
       "  <thead>\n",
       "    <tr style=\"text-align: right;\">\n",
       "      <th></th>\n",
       "      <th>Counts</th>\n",
       "    </tr>\n",
       "  </thead>\n",
       "  <tbody>\n",
       "    <tr>\n",
       "      <th>Saturday</th>\n",
       "      <td>57580</td>\n",
       "    </tr>\n",
       "    <tr>\n",
       "      <th>Sunday</th>\n",
       "      <td>57434</td>\n",
       "    </tr>\n",
       "    <tr>\n",
       "      <th>Friday</th>\n",
       "      <td>53690</td>\n",
       "    </tr>\n",
       "    <tr>\n",
       "      <th>Thursday</th>\n",
       "      <td>50662</td>\n",
       "    </tr>\n",
       "    <tr>\n",
       "      <th>Monday</th>\n",
       "      <td>48913</td>\n",
       "    </tr>\n",
       "    <tr>\n",
       "      <th>Wednesday</th>\n",
       "      <td>48325</td>\n",
       "    </tr>\n",
       "    <tr>\n",
       "      <th>Tuesday</th>\n",
       "      <td>47954</td>\n",
       "    </tr>\n",
       "  </tbody>\n",
       "</table>\n",
       "</div>"
      ],
      "text/plain": [
       "           Counts\n",
       "Saturday    57580\n",
       "Sunday      57434\n",
       "Friday      53690\n",
       "Thursday    50662\n",
       "Monday      48913\n",
       "Wednesday   48325\n",
       "Tuesday     47954"
      ]
     },
     "execution_count": 99,
     "metadata": {},
     "output_type": "execute_result"
    }
   ],
   "source": [
    "Day_plot = Month_Day['Day Name'].value_counts()\n",
    "Day_plot = Day_plot.to_frame()\n",
    "Day_plot = Day_plot.rename(columns={'Day Name':'Counts'})\n",
    "Day_plot"
   ]
  },
  {
   "cell_type": "code",
   "execution_count": 109,
   "id": "ef0aa711",
   "metadata": {},
   "outputs": [
    {
     "data": {
      "image/png": "[encoded data removed]",
      "text/plain": [
       "<Figure size 1008x576 with 2 Axes>"
      ]
     },
     "metadata": {},
     "output_type": "display_data"
    }
   ],
   "source": [
    "fig, axes = plt.subplots(1,2, figsize=(14,8))\n",
    "\n",
    "axes[0].pie(Month_plot['Counts'], labels = Month_plot.index,autopct='%1.1f%%')\n",
    "axes[0].set_title('Complain logged in different months of the year')\n",
    "\n",
    "axes[1].pie(Day_plot['Counts'], labels = Day_plot.index,autopct='%1.1f%%')\n",
    "axes[1].set_title('Complain logged in different days of the year')\n",
    "\n",
    "plt.tight_layout()"
   ]
  }
 ],
 "metadata": {
  "kernelspec": {
   "display_name": "Python 3 (ipykernel)",
   "language": "python",
   "name": "python3"
  },
  "language_info": {
   "codemirror_mode": {
    "name": "ipython",
    "version": 3
   },
   "file_extension": ".py",
   "mimetype": "text/x-python",
   "name": "python",
   "nbconvert_exporter": "python",
   "pygments_lexer": "ipython3",
   "version": "3.11.5"
  }
 },
 "nbformat": 4,
 "nbformat_minor": 5
}
